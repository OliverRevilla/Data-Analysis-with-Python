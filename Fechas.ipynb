{
  "nbformat": 4,
  "nbformat_minor": 0,
  "metadata": {
    "colab": {
      "name": "Fechas.ipynb",
      "provenance": [],
      "authorship_tag": "ABX9TyNb2i6k696xmYMgadRurcRh",
      "include_colab_link": true
    },
    "kernelspec": {
      "name": "python3",
      "display_name": "Python 3"
    },
    "language_info": {
      "name": "python"
    }
  },
  "cells": [
    {
      "cell_type": "markdown",
      "metadata": {
        "id": "view-in-github",
        "colab_type": "text"
      },
      "source": [
        "<a href=\"https://colab.research.google.com/github/OliverRevilla/Data-Analysis-with-Python/blob/main/Fechas.ipynb\" target=\"_parent\"><img src=\"https://colab.research.google.com/assets/colab-badge.svg\" alt=\"Open In Colab\"/></a>"
      ]
    },
    {
      "cell_type": "code",
      "metadata": {
        "id": "4rcVo_c142c1"
      },
      "source": [
        "import numpy as np\n",
        "import pandas as pd\n",
        "import matplotlib.pyplot as plt\n",
        "import seaborn as sns"
      ],
      "execution_count": null,
      "outputs": []
    },
    {
      "cell_type": "code",
      "metadata": {
        "colab": {
          "base_uri": "https://localhost:8080/"
        },
        "id": "J0m1vEe_6Dbz",
        "outputId": "9fc51c7b-fab4-4712-d6b6-88f4ec66cddb"
      },
      "source": [
        "person = pd.DataFrame({'Name':['Asif','Basif','John','Hary'],\n",
        "                       'DOB':['3/20/1960','3/19/1981','9/12/1999','7/12/1967'],\n",
        "                       'EmpID':['E453','E983','E675','E120']})\n",
        "person\n",
        "person.dtypes"
      ],
      "execution_count": null,
      "outputs": [
        {
          "output_type": "execute_result",
          "data": {
            "text/plain": [
              "Name     object\n",
              "DOB      object\n",
              "EmpID    object\n",
              "dtype: object"
            ]
          },
          "metadata": {
            "tags": []
          },
          "execution_count": 7
        }
      ]
    },
    {
      "cell_type": "code",
      "metadata": {
        "colab": {
          "base_uri": "https://localhost:8080/"
        },
        "id": "cOxQnRz76oTc",
        "outputId": "43d0d264-c4e3-46b4-d9df-7a05d66370df"
      },
      "source": [
        "# Change the datatype of the column to Datetime\n",
        "person['DOB'] = pd.to_datetime(person['DOB'])\n",
        "person.dtypes"
      ],
      "execution_count": null,
      "outputs": [
        {
          "output_type": "execute_result",
          "data": {
            "text/plain": [
              "Name             object\n",
              "DOB      datetime64[ns]\n",
              "EmpID            object\n",
              "dtype: object"
            ]
          },
          "metadata": {
            "tags": []
          },
          "execution_count": 10
        }
      ]
    },
    {
      "cell_type": "code",
      "metadata": {
        "colab": {
          "base_uri": "https://localhost:8080/",
          "height": 173
        },
        "id": "xOVmrgcN7RdU",
        "outputId": "08ba5bc1-9ac3-409d-b9d1-2fa52806f8d6"
      },
      "source": [
        "# Extract Month,Day,Year,'Day of the week' and 'Week of Year' from the Date field\n",
        "person['Month'] = person.DOB.dt.month\n",
        "person['Day'] = person.DOB.dt.day\n",
        "person['Year'] = person.DOB.dt.year\n",
        "person['Week Number'] = person.DOB.dt.isocalendar().week\n",
        "person['Day of week'] = person.DOB.dt.dayofweek\n",
        "person['Day Name'] = pd.to_datetime(person['DOB']).dt.day_name()\n",
        "person['Month Name'] = pd.to_datetime(person['DOB']).dt.month_name()\n",
        "person"
      ],
      "execution_count": null,
      "outputs": [
        {
          "output_type": "execute_result",
          "data": {
            "text/html": [
              "<div>\n",
              "<style scoped>\n",
              "    .dataframe tbody tr th:only-of-type {\n",
              "        vertical-align: middle;\n",
              "    }\n",
              "\n",
              "    .dataframe tbody tr th {\n",
              "        vertical-align: top;\n",
              "    }\n",
              "\n",
              "    .dataframe thead th {\n",
              "        text-align: right;\n",
              "    }\n",
              "</style>\n",
              "<table border=\"1\" class=\"dataframe\">\n",
              "  <thead>\n",
              "    <tr style=\"text-align: right;\">\n",
              "      <th></th>\n",
              "      <th>Name</th>\n",
              "      <th>DOB</th>\n",
              "      <th>EmpID</th>\n",
              "      <th>Month</th>\n",
              "      <th>Day</th>\n",
              "      <th>Year</th>\n",
              "      <th>Week Number</th>\n",
              "      <th>Day of week</th>\n",
              "      <th>Day Name</th>\n",
              "      <th>Month Name</th>\n",
              "    </tr>\n",
              "  </thead>\n",
              "  <tbody>\n",
              "    <tr>\n",
              "      <th>0</th>\n",
              "      <td>Asif</td>\n",
              "      <td>1960-03-20</td>\n",
              "      <td>E453</td>\n",
              "      <td>3</td>\n",
              "      <td>20</td>\n",
              "      <td>1960</td>\n",
              "      <td>11</td>\n",
              "      <td>6</td>\n",
              "      <td>Sunday</td>\n",
              "      <td>March</td>\n",
              "    </tr>\n",
              "    <tr>\n",
              "      <th>1</th>\n",
              "      <td>Basif</td>\n",
              "      <td>1981-03-19</td>\n",
              "      <td>E983</td>\n",
              "      <td>3</td>\n",
              "      <td>19</td>\n",
              "      <td>1981</td>\n",
              "      <td>12</td>\n",
              "      <td>3</td>\n",
              "      <td>Thursday</td>\n",
              "      <td>March</td>\n",
              "    </tr>\n",
              "    <tr>\n",
              "      <th>2</th>\n",
              "      <td>John</td>\n",
              "      <td>1999-09-12</td>\n",
              "      <td>E675</td>\n",
              "      <td>9</td>\n",
              "      <td>12</td>\n",
              "      <td>1999</td>\n",
              "      <td>36</td>\n",
              "      <td>6</td>\n",
              "      <td>Sunday</td>\n",
              "      <td>September</td>\n",
              "    </tr>\n",
              "    <tr>\n",
              "      <th>3</th>\n",
              "      <td>Hary</td>\n",
              "      <td>1967-07-12</td>\n",
              "      <td>E120</td>\n",
              "      <td>7</td>\n",
              "      <td>12</td>\n",
              "      <td>1967</td>\n",
              "      <td>28</td>\n",
              "      <td>2</td>\n",
              "      <td>Wednesday</td>\n",
              "      <td>July</td>\n",
              "    </tr>\n",
              "  </tbody>\n",
              "</table>\n",
              "</div>"
            ],
            "text/plain": [
              "    Name        DOB EmpID  ...  Day of week   Day Name  Month Name\n",
              "0   Asif 1960-03-20  E453  ...            6     Sunday       March\n",
              "1  Basif 1981-03-19  E983  ...            3   Thursday       March\n",
              "2   John 1999-09-12  E675  ...            6     Sunday   September\n",
              "3   Hary 1967-07-12  E120  ...            2  Wednesday        July\n",
              "\n",
              "[4 rows x 10 columns]"
            ]
          },
          "metadata": {
            "tags": []
          },
          "execution_count": 18
        }
      ]
    },
    {
      "cell_type": "code",
      "metadata": {
        "colab": {
          "base_uri": "https://localhost:8080/",
          "height": 173
        },
        "id": "sif6kP_i7mmG",
        "outputId": "b4ddff8e-b991-458e-a5f5-b98faa74228d"
      },
      "source": [
        "#Cambiando el formato Datetime '%d/%m/%Y' using strftime()\n",
        "person['DOB'] = pd.to_datetime(person['DOB']).dt.strftime('%d/%m/%Y')\n",
        "person"
      ],
      "execution_count": null,
      "outputs": [
        {
          "output_type": "execute_result",
          "data": {
            "text/html": [
              "<div>\n",
              "<style scoped>\n",
              "    .dataframe tbody tr th:only-of-type {\n",
              "        vertical-align: middle;\n",
              "    }\n",
              "\n",
              "    .dataframe tbody tr th {\n",
              "        vertical-align: top;\n",
              "    }\n",
              "\n",
              "    .dataframe thead th {\n",
              "        text-align: right;\n",
              "    }\n",
              "</style>\n",
              "<table border=\"1\" class=\"dataframe\">\n",
              "  <thead>\n",
              "    <tr style=\"text-align: right;\">\n",
              "      <th></th>\n",
              "      <th>Name</th>\n",
              "      <th>DOB</th>\n",
              "      <th>EmpID</th>\n",
              "      <th>Month</th>\n",
              "      <th>Day</th>\n",
              "      <th>Year</th>\n",
              "      <th>Week Number</th>\n",
              "      <th>Day of week</th>\n",
              "      <th>Day Name</th>\n",
              "      <th>Month Name</th>\n",
              "    </tr>\n",
              "  </thead>\n",
              "  <tbody>\n",
              "    <tr>\n",
              "      <th>0</th>\n",
              "      <td>Asif</td>\n",
              "      <td>20/03/1960</td>\n",
              "      <td>E453</td>\n",
              "      <td>3</td>\n",
              "      <td>20</td>\n",
              "      <td>1960</td>\n",
              "      <td>11</td>\n",
              "      <td>6</td>\n",
              "      <td>Sunday</td>\n",
              "      <td>March</td>\n",
              "    </tr>\n",
              "    <tr>\n",
              "      <th>1</th>\n",
              "      <td>Basif</td>\n",
              "      <td>19/03/1981</td>\n",
              "      <td>E983</td>\n",
              "      <td>3</td>\n",
              "      <td>19</td>\n",
              "      <td>1981</td>\n",
              "      <td>12</td>\n",
              "      <td>3</td>\n",
              "      <td>Thursday</td>\n",
              "      <td>March</td>\n",
              "    </tr>\n",
              "    <tr>\n",
              "      <th>2</th>\n",
              "      <td>John</td>\n",
              "      <td>12/09/1999</td>\n",
              "      <td>E675</td>\n",
              "      <td>9</td>\n",
              "      <td>12</td>\n",
              "      <td>1999</td>\n",
              "      <td>36</td>\n",
              "      <td>6</td>\n",
              "      <td>Sunday</td>\n",
              "      <td>September</td>\n",
              "    </tr>\n",
              "    <tr>\n",
              "      <th>3</th>\n",
              "      <td>Hary</td>\n",
              "      <td>12/07/1967</td>\n",
              "      <td>E120</td>\n",
              "      <td>7</td>\n",
              "      <td>12</td>\n",
              "      <td>1967</td>\n",
              "      <td>28</td>\n",
              "      <td>2</td>\n",
              "      <td>Wednesday</td>\n",
              "      <td>July</td>\n",
              "    </tr>\n",
              "  </tbody>\n",
              "</table>\n",
              "</div>"
            ],
            "text/plain": [
              "    Name         DOB EmpID  ...  Day of week   Day Name  Month Name\n",
              "0   Asif  20/03/1960  E453  ...            6     Sunday       March\n",
              "1  Basif  19/03/1981  E983  ...            3   Thursday       March\n",
              "2   John  12/09/1999  E675  ...            6     Sunday   September\n",
              "3   Hary  12/07/1967  E120  ...            2  Wednesday        July\n",
              "\n",
              "[4 rows x 10 columns]"
            ]
          },
          "metadata": {
            "tags": []
          },
          "execution_count": 19
        }
      ]
    },
    {
      "cell_type": "code",
      "metadata": {
        "colab": {
          "base_uri": "https://localhost:8080/",
          "height": 111
        },
        "id": "ZitiQ-YD9TN7",
        "outputId": "fe2cdc66-f909-4332-f99a-782f13c391a9"
      },
      "source": [
        "# Find employees who are born after 12-20-1980\n",
        "from datetime import date\n",
        "person[pd.to_datetime(person['DOB']) > pd.Timestamp(date(1980,12,20))] "
      ],
      "execution_count": null,
      "outputs": [
        {
          "output_type": "execute_result",
          "data": {
            "text/html": [
              "<div>\n",
              "<style scoped>\n",
              "    .dataframe tbody tr th:only-of-type {\n",
              "        vertical-align: middle;\n",
              "    }\n",
              "\n",
              "    .dataframe tbody tr th {\n",
              "        vertical-align: top;\n",
              "    }\n",
              "\n",
              "    .dataframe thead th {\n",
              "        text-align: right;\n",
              "    }\n",
              "</style>\n",
              "<table border=\"1\" class=\"dataframe\">\n",
              "  <thead>\n",
              "    <tr style=\"text-align: right;\">\n",
              "      <th></th>\n",
              "      <th>Name</th>\n",
              "      <th>DOB</th>\n",
              "      <th>EmpID</th>\n",
              "      <th>Month</th>\n",
              "      <th>Day</th>\n",
              "      <th>Year</th>\n",
              "      <th>Week Number</th>\n",
              "      <th>Day of week</th>\n",
              "      <th>Day Name</th>\n",
              "      <th>Month Name</th>\n",
              "    </tr>\n",
              "  </thead>\n",
              "  <tbody>\n",
              "    <tr>\n",
              "      <th>1</th>\n",
              "      <td>Basif</td>\n",
              "      <td>19/03/1981</td>\n",
              "      <td>E983</td>\n",
              "      <td>3</td>\n",
              "      <td>19</td>\n",
              "      <td>1981</td>\n",
              "      <td>12</td>\n",
              "      <td>3</td>\n",
              "      <td>Thursday</td>\n",
              "      <td>March</td>\n",
              "    </tr>\n",
              "    <tr>\n",
              "      <th>2</th>\n",
              "      <td>John</td>\n",
              "      <td>12/09/1999</td>\n",
              "      <td>E675</td>\n",
              "      <td>9</td>\n",
              "      <td>12</td>\n",
              "      <td>1999</td>\n",
              "      <td>36</td>\n",
              "      <td>6</td>\n",
              "      <td>Sunday</td>\n",
              "      <td>September</td>\n",
              "    </tr>\n",
              "  </tbody>\n",
              "</table>\n",
              "</div>"
            ],
            "text/plain": [
              "    Name         DOB EmpID  ...  Day of week  Day Name  Month Name\n",
              "1  Basif  19/03/1981  E983  ...            3  Thursday       March\n",
              "2   John  12/09/1999  E675  ...            6    Sunday   September\n",
              "\n",
              "[2 rows x 10 columns]"
            ]
          },
          "metadata": {
            "tags": []
          },
          "execution_count": 21
        }
      ]
    },
    {
      "cell_type": "code",
      "metadata": {
        "colab": {
          "base_uri": "https://localhost:8080/",
          "height": 111
        },
        "id": "oJD006WN_AOu",
        "outputId": "6babd26f-93e7-4e2a-cfd2-7ce3d40f6047"
      },
      "source": [
        "# Find employees who are born after 12-20-1980\n",
        "from datetime import date\n",
        "person[pd.to_datetime(person['DOB']) > pd.Timestamp('1980/12/20')]"
      ],
      "execution_count": null,
      "outputs": [
        {
          "output_type": "execute_result",
          "data": {
            "text/html": [
              "<div>\n",
              "<style scoped>\n",
              "    .dataframe tbody tr th:only-of-type {\n",
              "        vertical-align: middle;\n",
              "    }\n",
              "\n",
              "    .dataframe tbody tr th {\n",
              "        vertical-align: top;\n",
              "    }\n",
              "\n",
              "    .dataframe thead th {\n",
              "        text-align: right;\n",
              "    }\n",
              "</style>\n",
              "<table border=\"1\" class=\"dataframe\">\n",
              "  <thead>\n",
              "    <tr style=\"text-align: right;\">\n",
              "      <th></th>\n",
              "      <th>Name</th>\n",
              "      <th>DOB</th>\n",
              "      <th>EmpID</th>\n",
              "      <th>Month</th>\n",
              "      <th>Day</th>\n",
              "      <th>Year</th>\n",
              "      <th>Week Number</th>\n",
              "      <th>Day of week</th>\n",
              "      <th>Day Name</th>\n",
              "      <th>Month Name</th>\n",
              "    </tr>\n",
              "  </thead>\n",
              "  <tbody>\n",
              "    <tr>\n",
              "      <th>1</th>\n",
              "      <td>Basif</td>\n",
              "      <td>19/03/1981</td>\n",
              "      <td>E983</td>\n",
              "      <td>3</td>\n",
              "      <td>19</td>\n",
              "      <td>1981</td>\n",
              "      <td>12</td>\n",
              "      <td>3</td>\n",
              "      <td>Thursday</td>\n",
              "      <td>March</td>\n",
              "    </tr>\n",
              "    <tr>\n",
              "      <th>2</th>\n",
              "      <td>John</td>\n",
              "      <td>12/09/1999</td>\n",
              "      <td>E675</td>\n",
              "      <td>9</td>\n",
              "      <td>12</td>\n",
              "      <td>1999</td>\n",
              "      <td>36</td>\n",
              "      <td>6</td>\n",
              "      <td>Sunday</td>\n",
              "      <td>September</td>\n",
              "    </tr>\n",
              "  </tbody>\n",
              "</table>\n",
              "</div>"
            ],
            "text/plain": [
              "    Name         DOB EmpID  ...  Day of week  Day Name  Month Name\n",
              "1  Basif  19/03/1981  E983  ...            3  Thursday       March\n",
              "2   John  12/09/1999  E675  ...            6    Sunday   September\n",
              "\n",
              "[2 rows x 10 columns]"
            ]
          },
          "metadata": {
            "tags": []
          },
          "execution_count": 23
        }
      ]
    },
    {
      "cell_type": "code",
      "metadata": {
        "colab": {
          "base_uri": "https://localhost:8080/",
          "height": 111
        },
        "id": "T1CmaxU8_tWi",
        "outputId": "83e41dce-97a2-4718-be13-a252eb9592d2"
      },
      "source": [
        "# Find all records where DOB is between \"12-20-1980\" - \"12-20-2000\"\n",
        "from datetime import date\n",
        "person[(pd.to_datetime(person['DOB']) > pd.Timestamp(date(1980,12,20)))&\n",
        "       (pd.to_datetime(person['DOB']) < pd.Timestamp(date(2000,12,20)))]"
      ],
      "execution_count": null,
      "outputs": [
        {
          "output_type": "execute_result",
          "data": {
            "text/html": [
              "<div>\n",
              "<style scoped>\n",
              "    .dataframe tbody tr th:only-of-type {\n",
              "        vertical-align: middle;\n",
              "    }\n",
              "\n",
              "    .dataframe tbody tr th {\n",
              "        vertical-align: top;\n",
              "    }\n",
              "\n",
              "    .dataframe thead th {\n",
              "        text-align: right;\n",
              "    }\n",
              "</style>\n",
              "<table border=\"1\" class=\"dataframe\">\n",
              "  <thead>\n",
              "    <tr style=\"text-align: right;\">\n",
              "      <th></th>\n",
              "      <th>Name</th>\n",
              "      <th>DOB</th>\n",
              "      <th>EmpID</th>\n",
              "      <th>Month</th>\n",
              "      <th>Day</th>\n",
              "      <th>Year</th>\n",
              "      <th>Week Number</th>\n",
              "      <th>Day of week</th>\n",
              "      <th>Day Name</th>\n",
              "      <th>Month Name</th>\n",
              "    </tr>\n",
              "  </thead>\n",
              "  <tbody>\n",
              "    <tr>\n",
              "      <th>1</th>\n",
              "      <td>Basif</td>\n",
              "      <td>19/03/1981</td>\n",
              "      <td>E983</td>\n",
              "      <td>3</td>\n",
              "      <td>19</td>\n",
              "      <td>1981</td>\n",
              "      <td>12</td>\n",
              "      <td>3</td>\n",
              "      <td>Thursday</td>\n",
              "      <td>March</td>\n",
              "    </tr>\n",
              "    <tr>\n",
              "      <th>2</th>\n",
              "      <td>John</td>\n",
              "      <td>12/09/1999</td>\n",
              "      <td>E675</td>\n",
              "      <td>9</td>\n",
              "      <td>12</td>\n",
              "      <td>1999</td>\n",
              "      <td>36</td>\n",
              "      <td>6</td>\n",
              "      <td>Sunday</td>\n",
              "      <td>September</td>\n",
              "    </tr>\n",
              "  </tbody>\n",
              "</table>\n",
              "</div>"
            ],
            "text/plain": [
              "    Name         DOB EmpID  ...  Day of week  Day Name  Month Name\n",
              "1  Basif  19/03/1981  E983  ...            3  Thursday       March\n",
              "2   John  12/09/1999  E675  ...            6    Sunday   September\n",
              "\n",
              "[2 rows x 10 columns]"
            ]
          },
          "metadata": {
            "tags": []
          },
          "execution_count": 24
        }
      ]
    },
    {
      "cell_type": "code",
      "metadata": {
        "colab": {
          "base_uri": "https://localhost:8080/"
        },
        "id": "QcLB4UyMAzJe",
        "outputId": "64d73059-db9c-4cf6-c1fe-b599af275682"
      },
      "source": [
        "# Min Date in a dataframe column\n",
        "pd.to_datetime(person['DOB']).min()"
      ],
      "execution_count": null,
      "outputs": [
        {
          "output_type": "execute_result",
          "data": {
            "text/plain": [
              "Timestamp('1960-03-20 00:00:00')"
            ]
          },
          "metadata": {
            "tags": []
          },
          "execution_count": 28
        }
      ]
    },
    {
      "cell_type": "code",
      "metadata": {
        "colab": {
          "base_uri": "https://localhost:8080/"
        },
        "id": "H9982SwLBEXJ",
        "outputId": "ad175904-ea17-49b7-e597-d6f4b6643dc1"
      },
      "source": [
        "# Max Date in a dataframe column\n",
        "pd.to_datetime(person['DOB']).max()"
      ],
      "execution_count": null,
      "outputs": [
        {
          "output_type": "execute_result",
          "data": {
            "text/plain": [
              "Timestamp('1999-12-09 00:00:00')"
            ]
          },
          "metadata": {
            "tags": []
          },
          "execution_count": 29
        }
      ]
    },
    {
      "cell_type": "code",
      "metadata": {
        "id": "GP9yBWvjBPEw"
      },
      "source": [
        ""
      ],
      "execution_count": null,
      "outputs": []
    }
  ]
}