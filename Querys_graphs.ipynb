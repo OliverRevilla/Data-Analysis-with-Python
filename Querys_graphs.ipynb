{
  "nbformat": 4,
  "nbformat_minor": 0,
  "metadata": {
    "colab": {
      "name": "Análisis_de_datos.ipynb",
      "provenance": [],
      "authorship_tag": "ABX9TyNXJtfvvN3+pIbCwXDUJ7bo",
      "include_colab_link": true
    },
    "kernelspec": {
      "name": "python3",
      "display_name": "Python 3"
    },
    "language_info": {
      "name": "python"
    }
  },
  "cells": [
    {
      "cell_type": "markdown",
      "metadata": {
        "id": "view-in-github",
        "colab_type": "text"
      },
      "source": [
        "<a href=\"https://colab.research.google.com/github/OliverRevilla/Data-Analysis-with-Python/blob/main/Querys_graphs.ipynb\" target=\"_parent\"><img src=\"https://colab.research.google.com/assets/colab-badge.svg\" alt=\"Open In Colab\"/></a>"
      ]
    },
    {
      "cell_type": "code",
      "metadata": {
        "id": "aYb7Eyv-LaOU"
      },
      "source": [
        "import numpy as np\n",
        "import pandas as pd\n",
        "import matplotlib.pyplot as plt"
      ],
      "execution_count": null,
      "outputs": []
    },
    {
      "cell_type": "code",
      "metadata": {
        "colab": {
          "base_uri": "https://localhost:8080/"
        },
        "id": "GtHse446LkSH",
        "outputId": "e22e8e61-4e9b-4a3f-bd1c-059774990b1d"
      },
      "source": [
        "np.random.seed(2020)\n",
        "datos = np.random.randn(10,4)\n",
        "datos.shape"
      ],
      "execution_count": null,
      "outputs": [
        {
          "output_type": "execute_result",
          "data": {
            "text/plain": [
              "(10, 4)"
            ]
          },
          "metadata": {
            "tags": []
          },
          "execution_count": 34
        }
      ]
    },
    {
      "cell_type": "markdown",
      "metadata": {
        "id": "DQuxoFgBOXEL"
      },
      "source": [
        "BoxPlots"
      ]
    },
    {
      "cell_type": "markdown",
      "metadata": {
        "id": "YXZ8Riy-UWeA"
      },
      "source": [
        "**BOXPLOTS**"
      ]
    },
    {
      "cell_type": "code",
      "metadata": {
        "colab": {
          "base_uri": "https://localhost:8080/",
          "height": 281
        },
        "id": "6Cv7WBVxSBok",
        "outputId": "8f9d243d-8663-4bd4-e9a4-255c2f2c1ba4"
      },
      "source": [
        "colors = ['pink','blue','yellow','red']\n",
        "bplot1 = plt.boxplot(datos, vert = True, notch= True, patch_artist= True)\n",
        "plt.title('Boxplots')\n",
        "\n",
        "# Color a las propiedades\n",
        "for element in ['boxes', 'whiskers', 'fliers', 'means', 'medians', 'caps']:\n",
        "  plt.setp(bplot1[element], color='black')\n",
        "\n",
        "# Color a las cajas\n",
        "colors = ['#11A8DC','#11DC83','#DC1170','#A8DC11']\n",
        "for patch,color in zip(bplot1['boxes'],colors):\n",
        "  patch.set_facecolor(color)  \n",
        "plt.grid(axis = 'y') # o 'x' \n",
        "plt.show()\n",
        "  "
      ],
      "execution_count": null,
      "outputs": [
        {
          "output_type": "display_data",
          "data": {
            "image/png": "[encoded data removed]",
            "text/plain": [
              "<Figure size 432x288 with 1 Axes>"
            ]
          },
          "metadata": {
            "tags": [],
            "needs_background": "light"
          }
        }
      ]
    },
    {
      "cell_type": "markdown",
      "metadata": {
        "id": "5OAK1liBesx6"
      },
      "source": [
        "Principales estadísticos"
      ]
    },
    {
      "cell_type": "code",
      "metadata": {
        "colab": {
          "base_uri": "https://localhost:8080/"
        },
        "id": "QM7pbvNXa7iN",
        "outputId": "cd196aa4-ddee-4f1a-c144-658d15adcdb6"
      },
      "source": [
        "datos.mean()"
      ],
      "execution_count": null,
      "outputs": [
        {
          "output_type": "execute_result",
          "data": {
            "text/plain": [
              "-0.03816823333539909"
            ]
          },
          "metadata": {
            "tags": []
          },
          "execution_count": 102
        }
      ]
    },
    {
      "cell_type": "code",
      "metadata": {
        "colab": {
          "base_uri": "https://localhost:8080/"
        },
        "id": "QkkqtmqPe0qR",
        "outputId": "5f8a443b-97ff-401e-9b56-9bd2872495ee"
      },
      "source": [
        "datos.mean(axis = 1)"
      ],
      "execution_count": null,
      "outputs": [
        {
          "output_type": "execute_result",
          "data": {
            "text/plain": [
              "array([-0.86883833, -0.5409643 ,  0.08698301, -0.26769018, -0.17206948,\n",
              "        0.39261388, -1.04997016,  0.99285098,  0.26258069,  0.78282157])"
            ]
          },
          "metadata": {
            "tags": []
          },
          "execution_count": 104
        }
      ]
    },
    {
      "cell_type": "code",
      "metadata": {
        "colab": {
          "base_uri": "https://localhost:8080/"
        },
        "id": "swkv-qH9e44H",
        "outputId": "a309cd99-e8bc-4826-d0e4-370dbeaa3ca8"
      },
      "source": [
        "datos.mean(axis = 0)"
      ],
      "execution_count": null,
      "outputs": [
        {
          "output_type": "execute_result",
          "data": {
            "text/plain": [
              "array([ 0.15291522, -0.41988013,  0.10969863,  0.00459334])"
            ]
          },
          "metadata": {
            "tags": []
          },
          "execution_count": 108
        }
      ]
    },
    {
      "cell_type": "code",
      "metadata": {
        "colab": {
          "base_uri": "https://localhost:8080/"
        },
        "id": "iCsPBioffMOv",
        "outputId": "7dae75bf-ca15-482e-d8e3-e98ef3e5eeb6"
      },
      "source": [
        "datos.std()"
      ],
      "execution_count": null,
      "outputs": [
        {
          "output_type": "execute_result",
          "data": {
            "text/plain": [
              "0.9772841905882709"
            ]
          },
          "metadata": {
            "tags": []
          },
          "execution_count": 110
        }
      ]
    },
    {
      "cell_type": "markdown",
      "metadata": {
        "id": "53H_9CwKfXJK"
      },
      "source": [
        "**DataFrames**"
      ]
    },
    {
      "cell_type": "code",
      "metadata": {
        "colab": {
          "base_uri": "https://localhost:8080/",
          "height": 359
        },
        "id": "VudG1OwpfZRA",
        "outputId": "3188155f-9c1c-4671-dd1e-c041778769de"
      },
      "source": [
        "df = pd.DataFrame(datos)\n",
        "type(df)\n",
        "df"
      ],
      "execution_count": null,
      "outputs": [
        {
          "output_type": "execute_result",
          "data": {
            "text/html": [
              "<div>\n",
              "<style scoped>\n",
              "    .dataframe tbody tr th:only-of-type {\n",
              "        vertical-align: middle;\n",
              "    }\n",
              "\n",
              "    .dataframe tbody tr th {\n",
              "        vertical-align: top;\n",
              "    }\n",
              "\n",
              "    .dataframe thead th {\n",
              "        text-align: right;\n",
              "    }\n",
              "</style>\n",
              "<table border=\"1\" class=\"dataframe\">\n",
              "  <thead>\n",
              "    <tr style=\"text-align: right;\">\n",
              "      <th></th>\n",
              "      <th>0</th>\n",
              "      <th>1</th>\n",
              "      <th>2</th>\n",
              "      <th>3</th>\n",
              "    </tr>\n",
              "  </thead>\n",
              "  <tbody>\n",
              "    <tr>\n",
              "      <th>0</th>\n",
              "      <td>-1.768846</td>\n",
              "      <td>0.075552</td>\n",
              "      <td>-1.130630</td>\n",
              "      <td>-0.651430</td>\n",
              "    </tr>\n",
              "    <tr>\n",
              "      <th>1</th>\n",
              "      <td>-0.893116</td>\n",
              "      <td>-1.274101</td>\n",
              "      <td>-0.061154</td>\n",
              "      <td>0.064514</td>\n",
              "    </tr>\n",
              "    <tr>\n",
              "      <th>2</th>\n",
              "      <td>0.410113</td>\n",
              "      <td>-0.572882</td>\n",
              "      <td>-0.801334</td>\n",
              "      <td>1.312035</td>\n",
              "    </tr>\n",
              "    <tr>\n",
              "      <th>3</th>\n",
              "      <td>1.274699</td>\n",
              "      <td>-1.214358</td>\n",
              "      <td>0.313719</td>\n",
              "      <td>-1.444821</td>\n",
              "    </tr>\n",
              "    <tr>\n",
              "      <th>4</th>\n",
              "      <td>-0.368961</td>\n",
              "      <td>-0.769227</td>\n",
              "      <td>0.392616</td>\n",
              "      <td>0.057294</td>\n",
              "    </tr>\n",
              "    <tr>\n",
              "      <th>5</th>\n",
              "      <td>2.089979</td>\n",
              "      <td>0.041971</td>\n",
              "      <td>-0.048341</td>\n",
              "      <td>-0.513154</td>\n",
              "    </tr>\n",
              "    <tr>\n",
              "      <th>6</th>\n",
              "      <td>-0.084589</td>\n",
              "      <td>-1.215450</td>\n",
              "      <td>-1.412931</td>\n",
              "      <td>-1.486911</td>\n",
              "    </tr>\n",
              "    <tr>\n",
              "      <th>7</th>\n",
              "      <td>0.382225</td>\n",
              "      <td>0.937673</td>\n",
              "      <td>1.772678</td>\n",
              "      <td>0.878828</td>\n",
              "    </tr>\n",
              "    <tr>\n",
              "      <th>8</th>\n",
              "      <td>0.331719</td>\n",
              "      <td>-0.306036</td>\n",
              "      <td>1.240266</td>\n",
              "      <td>-0.215627</td>\n",
              "    </tr>\n",
              "    <tr>\n",
              "      <th>9</th>\n",
              "      <td>0.155929</td>\n",
              "      <td>0.098056</td>\n",
              "      <td>0.832096</td>\n",
              "      <td>2.045205</td>\n",
              "    </tr>\n",
              "  </tbody>\n",
              "</table>\n",
              "</div>"
            ],
            "text/plain": [
              "          0         1         2         3\n",
              "0 -1.768846  0.075552 -1.130630 -0.651430\n",
              "1 -0.893116 -1.274101 -0.061154  0.064514\n",
              "2  0.410113 -0.572882 -0.801334  1.312035\n",
              "3  1.274699 -1.214358  0.313719 -1.444821\n",
              "4 -0.368961 -0.769227  0.392616  0.057294\n",
              "5  2.089979  0.041971 -0.048341 -0.513154\n",
              "6 -0.084589 -1.215450 -1.412931 -1.486911\n",
              "7  0.382225  0.937673  1.772678  0.878828\n",
              "8  0.331719 -0.306036  1.240266 -0.215627\n",
              "9  0.155929  0.098056  0.832096  2.045205"
            ]
          },
          "metadata": {
            "tags": []
          },
          "execution_count": 113
        }
      ]
    },
    {
      "cell_type": "code",
      "metadata": {
        "colab": {
          "base_uri": "https://localhost:8080/",
          "height": 297
        },
        "id": "J5HZd2bAfgMu",
        "outputId": "035435dd-d6fe-4c3a-cdb9-9cd1965020ff"
      },
      "source": [
        "df.columns = ['Valores1','Valores2','Valores3','Valores4']\n",
        "df.describe() # solo valores numéricos"
      ],
      "execution_count": null,
      "outputs": [
        {
          "output_type": "execute_result",
          "data": {
            "text/html": [
              "<div>\n",
              "<style scoped>\n",
              "    .dataframe tbody tr th:only-of-type {\n",
              "        vertical-align: middle;\n",
              "    }\n",
              "\n",
              "    .dataframe tbody tr th {\n",
              "        vertical-align: top;\n",
              "    }\n",
              "\n",
              "    .dataframe thead th {\n",
              "        text-align: right;\n",
              "    }\n",
              "</style>\n",
              "<table border=\"1\" class=\"dataframe\">\n",
              "  <thead>\n",
              "    <tr style=\"text-align: right;\">\n",
              "      <th></th>\n",
              "      <th>Valores1</th>\n",
              "      <th>Valores2</th>\n",
              "      <th>Valores3</th>\n",
              "      <th>Valores4</th>\n",
              "    </tr>\n",
              "  </thead>\n",
              "  <tbody>\n",
              "    <tr>\n",
              "      <th>count</th>\n",
              "      <td>10.000000</td>\n",
              "      <td>10.000000</td>\n",
              "      <td>10.000000</td>\n",
              "      <td>10.000000</td>\n",
              "    </tr>\n",
              "    <tr>\n",
              "      <th>mean</th>\n",
              "      <td>0.152915</td>\n",
              "      <td>-0.419880</td>\n",
              "      <td>0.109699</td>\n",
              "      <td>0.004593</td>\n",
              "    </tr>\n",
              "    <tr>\n",
              "      <th>std</th>\n",
              "      <td>1.068615</td>\n",
              "      <td>0.724354</td>\n",
              "      <td>1.023511</td>\n",
              "      <td>1.140978</td>\n",
              "    </tr>\n",
              "    <tr>\n",
              "      <th>min</th>\n",
              "      <td>-1.768846</td>\n",
              "      <td>-1.274101</td>\n",
              "      <td>-1.412931</td>\n",
              "      <td>-1.486911</td>\n",
              "    </tr>\n",
              "    <tr>\n",
              "      <th>25%</th>\n",
              "      <td>-0.297868</td>\n",
              "      <td>-1.103075</td>\n",
              "      <td>-0.616289</td>\n",
              "      <td>-0.616861</td>\n",
              "    </tr>\n",
              "    <tr>\n",
              "      <th>50%</th>\n",
              "      <td>0.243824</td>\n",
              "      <td>-0.439459</td>\n",
              "      <td>0.132689</td>\n",
              "      <td>-0.079167</td>\n",
              "    </tr>\n",
              "    <tr>\n",
              "      <th>75%</th>\n",
              "      <td>0.403141</td>\n",
              "      <td>0.067157</td>\n",
              "      <td>0.722226</td>\n",
              "      <td>0.675249</td>\n",
              "    </tr>\n",
              "    <tr>\n",
              "      <th>max</th>\n",
              "      <td>2.089979</td>\n",
              "      <td>0.937673</td>\n",
              "      <td>1.772678</td>\n",
              "      <td>2.045205</td>\n",
              "    </tr>\n",
              "  </tbody>\n",
              "</table>\n",
              "</div>"
            ],
            "text/plain": [
              "        Valores1   Valores2   Valores3   Valores4\n",
              "count  10.000000  10.000000  10.000000  10.000000\n",
              "mean    0.152915  -0.419880   0.109699   0.004593\n",
              "std     1.068615   0.724354   1.023511   1.140978\n",
              "min    -1.768846  -1.274101  -1.412931  -1.486911\n",
              "25%    -0.297868  -1.103075  -0.616289  -0.616861\n",
              "50%     0.243824  -0.439459   0.132689  -0.079167\n",
              "75%     0.403141   0.067157   0.722226   0.675249\n",
              "max     2.089979   0.937673   1.772678   2.045205"
            ]
          },
          "metadata": {
            "tags": []
          },
          "execution_count": 115
        }
      ]
    },
    {
      "cell_type": "code",
      "metadata": {
        "colab": {
          "base_uri": "https://localhost:8080/"
        },
        "id": "hxVFS3jjft3W",
        "outputId": "5a9d1e34-5b9e-4c7d-e1ad-b850932b1c9c"
      },
      "source": [
        "#Cálculo de deciles\n",
        "np.percentile(df, np.arange(0,100,10))"
      ],
      "execution_count": null,
      "outputs": [
        {
          "output_type": "execute_result",
          "data": {
            "text/plain": [
              "array([-1.76884571, -1.28798395, -0.94061844, -0.59644679, -0.25179037,\n",
              "       -0.00318471,  0.08455357,  0.34687084,  0.84144228,  1.27843251])"
            ]
          },
          "metadata": {
            "tags": []
          },
          "execution_count": 116
        }
      ]
    },
    {
      "cell_type": "code",
      "metadata": {
        "colab": {
          "base_uri": "https://localhost:8080/"
        },
        "id": "p95bEo6UhcH9",
        "outputId": "75e0c3cb-03fe-4aaf-dddd-7b3f2759d140"
      },
      "source": [
        "#Estadísticos para una variable\n",
        "medias = []\n",
        "for i in df.columns:\n",
        "  media = df[i].mean()\n",
        "  medias.append(media)\n",
        "\n",
        "medias"
      ],
      "execution_count": null,
      "outputs": [
        {
          "output_type": "execute_result",
          "data": {
            "text/plain": [
              "[0.15291522149441658,\n",
              " -0.41988012849739215,\n",
              " 0.10969863349406599,\n",
              " 0.004593340167313142]"
            ]
          },
          "metadata": {
            "tags": []
          },
          "execution_count": 123
        }
      ]
    },
    {
      "cell_type": "code",
      "metadata": {
        "colab": {
          "base_uri": "https://localhost:8080/",
          "height": 204
        },
        "id": "KIkb2Bi_hjeq",
        "outputId": "caea8e35-f622-4fd7-f286-c88f944d3a87"
      },
      "source": [
        "#Creación de listas\n",
        "col1 = [1,2,3,4,5]\n",
        "col2 = ['A','B','C','D','E']\n",
        "col3 = [True,False,True,False,True]\n",
        "lista_index = ['Id1','Id2','Id3','Id4','Id5']\n",
        "#creación de un diccionario\n",
        "df2 = pd.DataFrame({'Numeros': col1,\n",
        "                   'Letras': col2,\n",
        "                   'Validacion': col3}, index = lista_index)\n",
        "df2"
      ],
      "execution_count": null,
      "outputs": [
        {
          "output_type": "execute_result",
          "data": {
            "text/html": [
              "<div>\n",
              "<style scoped>\n",
              "    .dataframe tbody tr th:only-of-type {\n",
              "        vertical-align: middle;\n",
              "    }\n",
              "\n",
              "    .dataframe tbody tr th {\n",
              "        vertical-align: top;\n",
              "    }\n",
              "\n",
              "    .dataframe thead th {\n",
              "        text-align: right;\n",
              "    }\n",
              "</style>\n",
              "<table border=\"1\" class=\"dataframe\">\n",
              "  <thead>\n",
              "    <tr style=\"text-align: right;\">\n",
              "      <th></th>\n",
              "      <th>Numeros</th>\n",
              "      <th>Letras</th>\n",
              "      <th>Validacion</th>\n",
              "    </tr>\n",
              "  </thead>\n",
              "  <tbody>\n",
              "    <tr>\n",
              "      <th>Id1</th>\n",
              "      <td>1</td>\n",
              "      <td>A</td>\n",
              "      <td>True</td>\n",
              "    </tr>\n",
              "    <tr>\n",
              "      <th>Id2</th>\n",
              "      <td>2</td>\n",
              "      <td>B</td>\n",
              "      <td>False</td>\n",
              "    </tr>\n",
              "    <tr>\n",
              "      <th>Id3</th>\n",
              "      <td>3</td>\n",
              "      <td>C</td>\n",
              "      <td>True</td>\n",
              "    </tr>\n",
              "    <tr>\n",
              "      <th>Id4</th>\n",
              "      <td>4</td>\n",
              "      <td>D</td>\n",
              "      <td>False</td>\n",
              "    </tr>\n",
              "    <tr>\n",
              "      <th>Id5</th>\n",
              "      <td>5</td>\n",
              "      <td>E</td>\n",
              "      <td>True</td>\n",
              "    </tr>\n",
              "  </tbody>\n",
              "</table>\n",
              "</div>"
            ],
            "text/plain": [
              "     Numeros Letras  Validacion\n",
              "Id1        1      A        True\n",
              "Id2        2      B       False\n",
              "Id3        3      C        True\n",
              "Id4        4      D       False\n",
              "Id5        5      E        True"
            ]
          },
          "metadata": {
            "tags": []
          },
          "execution_count": 126
        }
      ]
    },
    {
      "cell_type": "code",
      "metadata": {
        "colab": {
          "base_uri": "https://localhost:8080/",
          "height": 142
        },
        "id": "iiJcpEqMjQHs",
        "outputId": "e91b64ed-fc2a-4256-d834-e5631b956be1"
      },
      "source": [
        "data = pd.read_csv('https://docs.google.com/spreadsheets/d/e/2PACX-1vRo5Lsi4kqlP1Muiu9vKvUKS4__O4vzqbioeojVcCxGYjMqqbFPv10b9VGSWKD8oQ/pub?gid=732305239&single=true&output=csv')\n",
        "data.head(3)"
      ],
      "execution_count": null,
      "outputs": [
        {
          "output_type": "execute_result",
          "data": {
            "text/html": [
              "<div>\n",
              "<style scoped>\n",
              "    .dataframe tbody tr th:only-of-type {\n",
              "        vertical-align: middle;\n",
              "    }\n",
              "\n",
              "    .dataframe tbody tr th {\n",
              "        vertical-align: top;\n",
              "    }\n",
              "\n",
              "    .dataframe thead th {\n",
              "        text-align: right;\n",
              "    }\n",
              "</style>\n",
              "<table border=\"1\" class=\"dataframe\">\n",
              "  <thead>\n",
              "    <tr style=\"text-align: right;\">\n",
              "      <th></th>\n",
              "      <th>FechaProgramacion</th>\n",
              "      <th>Fabrica</th>\n",
              "      <th>Seccion</th>\n",
              "      <th>Linea</th>\n",
              "      <th>Equipo</th>\n",
              "      <th>TiempoPNP</th>\n",
              "    </tr>\n",
              "  </thead>\n",
              "  <tbody>\n",
              "    <tr>\n",
              "      <th>0</th>\n",
              "      <td>19/7/2018</td>\n",
              "      <td>Envases</td>\n",
              "      <td>Envasado Evaporada</td>\n",
              "      <td>Linea Baby 4</td>\n",
              "      <td>TRANSP CABLE ELEVADO ENFRIADOR</td>\n",
              "      <td>45</td>\n",
              "    </tr>\n",
              "    <tr>\n",
              "      <th>1</th>\n",
              "      <td>19/7/2018</td>\n",
              "      <td>Envases</td>\n",
              "      <td>Envasado Evaporada</td>\n",
              "      <td>Linea Baby 4</td>\n",
              "      <td>TRANSP CABLE ELEVADO CERRADORA</td>\n",
              "      <td>45</td>\n",
              "    </tr>\n",
              "    <tr>\n",
              "      <th>2</th>\n",
              "      <td>19/7/2018</td>\n",
              "      <td>Envases</td>\n",
              "      <td>Envasado Evaporada</td>\n",
              "      <td>Linea Baby 4</td>\n",
              "      <td>TABLERO AUTOMATISMO ESTERILIZADOR</td>\n",
              "      <td>45</td>\n",
              "    </tr>\n",
              "  </tbody>\n",
              "</table>\n",
              "</div>"
            ],
            "text/plain": [
              "  FechaProgramacion  Fabrica  ...                             Equipo TiempoPNP\n",
              "0         19/7/2018  Envases  ...     TRANSP CABLE ELEVADO ENFRIADOR        45\n",
              "1         19/7/2018  Envases  ...     TRANSP CABLE ELEVADO CERRADORA        45\n",
              "2         19/7/2018  Envases  ...  TABLERO AUTOMATISMO ESTERILIZADOR        45\n",
              "\n",
              "[3 rows x 6 columns]"
            ]
          },
          "metadata": {
            "tags": []
          },
          "execution_count": 127
        }
      ]
    },
    {
      "cell_type": "code",
      "metadata": {
        "colab": {
          "base_uri": "https://localhost:8080/"
        },
        "id": "yEUEMtbaj6F2",
        "outputId": "fab28feb-f288-4f4d-9b27-ce51f6213559"
      },
      "source": [
        "data.info()"
      ],
      "execution_count": null,
      "outputs": [
        {
          "output_type": "stream",
          "text": [
            "<class 'pandas.core.frame.DataFrame'>\n",
            "RangeIndex: 9999 entries, 0 to 9998\n",
            "Data columns (total 6 columns):\n",
            " #   Column             Non-Null Count  Dtype \n",
            "---  ------             --------------  ----- \n",
            " 0   FechaProgramacion  9999 non-null   object\n",
            " 1   Fabrica            9999 non-null   object\n",
            " 2   Seccion            9999 non-null   object\n",
            " 3   Linea              9999 non-null   object\n",
            " 4   Equipo             9999 non-null   object\n",
            " 5   TiempoPNP          9999 non-null   int64 \n",
            "dtypes: int64(1), object(5)\n",
            "memory usage: 468.8+ KB\n"
          ],
          "name": "stdout"
        }
      ]
    },
    {
      "cell_type": "code",
      "metadata": {
        "colab": {
          "base_uri": "https://localhost:8080/"
        },
        "id": "E6j0AYVij9tU",
        "outputId": "5fe86852-2907-4642-b8ef-3e8080301c9e"
      },
      "source": [
        "data.dtypes"
      ],
      "execution_count": null,
      "outputs": [
        {
          "output_type": "execute_result",
          "data": {
            "text/plain": [
              "FechaProgramacion    object\n",
              "Fabrica              object\n",
              "Seccion              object\n",
              "Linea                object\n",
              "Equipo               object\n",
              "TiempoPNP             int64\n",
              "dtype: object"
            ]
          },
          "metadata": {
            "tags": []
          },
          "execution_count": 132
        }
      ]
    },
    {
      "cell_type": "code",
      "metadata": {
        "colab": {
          "base_uri": "https://localhost:8080/"
        },
        "id": "kIxtbZa4kCrn",
        "outputId": "f1d287fd-70b0-4912-9361-3499e440f01d"
      },
      "source": [
        "# Vaores únicos en cada columna\n",
        "lista = []\n",
        "\n",
        "for i in data.columns:\n",
        "  if i != ('FechaProgramacion' or 'TiempoPNP'):\n",
        "    unicos = data[i].unique()\n",
        "    lista.append(unicos)\n",
        "  \n",
        "lista"
      ],
      "execution_count": null,
      "outputs": [
        {
          "output_type": "execute_result",
          "data": {
            "text/plain": [
              "[array(['Envases', 'Condenseria', 'Derivados'], dtype=object),\n",
              " array(['Envasado Evaporada', 'Envasado RTD'], dtype=object),\n",
              " array(['Linea Baby 4', 'Linea Baby 1', 'Linea Baby 3', 'Linea Baby 2',\n",
              "        'Linea Baby 6', 'Linea Baby 7'], dtype=object),\n",
              " array(['TRANSP CABLE ELEVADO ENFRIADOR', 'TRANSP CABLE ELEVADO CERRADORA',\n",
              "        'TABLERO AUTOMATISMO ESTERILIZADOR', 'ROBOT PALETIZADOR KUKA',\n",
              "        'ETIQUETADORA', 'ESTERILIZADOR', 'ESPIRAL INGRESO ETIQUETADORA',\n",
              "        'EMBALADORA NON SHOCK', 'ELEVADOR SALIDA ENFRIADOR',\n",
              "        'DETECTOR RAYOS X INSCAN100', 'CODIFICADOR DE CAJAS MARSH',\n",
              "        'VAC TRAC ENFRIADOR', 'TRANSP SALIDA ENFRIADOR',\n",
              "        'TRANSP SALIDA CERRADORA', 'TRANSP MASS CONVEYOR',\n",
              "        'TRANSP ALIMENTADOR ENVASES VACIO',\n",
              "        'TRANSP ALIMENT CAJAS A PALETIZ', 'PRECALENTADOR', 'LLENADORA',\n",
              "        'Llenado Y Embalado / Baby 4 - FLE', 'TRANSP SALIDA EMBALADORA',\n",
              "        'TRANSP RODILLO PALETAS', 'TABLERO AUTOMATISMO LLEN-CERRADORA',\n",
              "        'PALETIZADOR WALLON', 'CODIFICADOR DE ENVASE LLENO',\n",
              "        'SOPLADOR DE ENVASES LLENADORA',\n",
              "        'ELEVADOR SALIDA PALETIZADOR WALLON', 'BBA DE RECUPERO LLENADORA',\n",
              "        'TABLERO AUTOMATISMO EMBAL-ETIQ', 'SOPLADOR DE ENVASES ENFRIADOR',\n",
              "        'ENGOMADORA - PRENSA', 'ENFRIADOR', 'ELEVADOR SALIDA CERRADORA',\n",
              "        'ELEVADOR PALETAS', 'CERRADORA', 'DETECTOR GAMMA',\n",
              "        'TRANSP ALIMENT CAJAS PALETIZADO',\n",
              "        'ELEVADOR SALIDA PAL/DEPAL WALLON', 'SOPLADOR LLENADORA',\n",
              "        'SOPLADOR ENFRIADOR', 'EMBALADORA',\n",
              "        'ELEVADOR SALIDA PRECALENTADOR', 'VAC TRAC PRECALENTADOR',\n",
              "        'PRENSA', 'Llenado Y Embalado / Baby 1 - FLE', 'ENGOMADORA',\n",
              "        'TRANSP SALIDA PRECALENTADOR', 'Llenado Y Embalado / Baby 3 - FLE',\n",
              "        'TRANSP ALIMENT CAJAS PALETIZ',\n",
              "        'Llenado Y Embalado / Baby 2 - FLE',\n",
              "        'TRANSP SALIDA ELEVADOR CERRADORA',\n",
              "        'BAJADOR MAGNETICO PALETIZADOR', 'BAJADOR MAGNETICO ETIQUETADORA',\n",
              "        'TRANSPORTADOR SALIDA ENFRIADOR', 'TRANSPORTADOR MASS CONVEYOR',\n",
              "        'BAJADOR MAGNETICO PRECALENTADOR',\n",
              "        'TRANSP SALIDA ELEVADOR PALETIZADOR',\n",
              "        'TRANSP SALIDA ELEVADOR ENFRIADOR',\n",
              "        'TRANSP ALIMENTACION INGRESO EMBALADORA',\n",
              "        'TRANSP ALIMENT ENV PALETIZADOR',\n",
              "        'Llenado Y Embalado / Baby 6 - FLE', 'TRANSP SALIDA ENFRIADOR 02',\n",
              "        'TRANSP SALIDA EMBALADORA CERMEX', 'TRANSP ALIMENTADOR EMBALADORA',\n",
              "        'SOPLADOR ENFRIADOR 1', 'ETIQUETADORA 2', 'ETIQUETADORA 1',\n",
              "        'ELEVADOR SALIDA ENFRIADOR 2', 'CERRADORA 121L',\n",
              "        'BOMBA DE RECUPERO LLENADORA', 'BALANZA EYECTOR',\n",
              "        'TRANSP SALIDA ENFRIADOR 2', 'TRANSP MASS CONVEYOR 2',\n",
              "        'TABLERO TRANSPORTE LLEN-CERRAD', 'FORMADOR CAJAS',\n",
              "        'EMBALADORA CERMEX', 'CODIFICADOR DE CAJAS',\n",
              "        'BAJADOR MAGNETICO PALETIZADO 1',\n",
              "        'BAJADOR MAGNETICO ETIQUETADORA 02',\n",
              "        'VAC TRAC ENFRIADOR IZQUIERDA', 'TRANSP SALIDA ETIQUETADORA 1',\n",
              "        'TRANSP RODILLOS INGRESO CELDA PALETIZAD',\n",
              "        'TRANSP MASS CONVEYOR 1', 'TRANSP AEREO SALIDA ELEV ENFRIADOR 1',\n",
              "        'TRANSP PALETIZADOR 2', 'TRANSP PALETIZADOR 1',\n",
              "        'TABLERO TRANSPORTE ESTER-MASS CONVEYOR',\n",
              "        'TABLERO TRANSPORTE EMBAL/ETIQUET', 'SOPLADOR ENFRIADOR 2',\n",
              "        'CODIFICADOR DE ENVASE LLENO DER',\n",
              "        'BAJADOR MAGNETICO PRECALENTADOR 2',\n",
              "        'BAJADOR MAGNETICO ETIQUETADORA 01', 'VAC TRAC ENFRIADOR DERECHA',\n",
              "        'TRANSP SALIDA ETIQUETADORA 2', 'TRANSP SALIDA BALANZA',\n",
              "        'PALETIZADOR CAJAS - CERMEX', 'ENGOMADORA PRENSA CERMEX',\n",
              "        'ELEVADOR SALIDA ENFRIADOR 1', 'BAJADOR MAGNETICO PALETIZADO 2',\n",
              "        'TRANSPORTE DE RECUPERACION',\n",
              "        'TRANSP AEREO SALIDA ELEV ENFRIADOR 2',\n",
              "        'INSPECTOR CAMARA ONE VISION', 'ELEVADOR LINEA RECUPERACION',\n",
              "        'CODIFICADOR DE ENVASE LLENO IZQ',\n",
              "        'BAJADOR MAGNETICO PRECALENTADOR 1', 'INSPECTOR FILLTRAC'],\n",
              "       dtype=object),\n",
              " array([ 45,  20, 234, 294, 115,  46,  15,  30,  40, 250,  38,  95, 232,\n",
              "        270,  17,  97,  83,  81,  60,  28,  47,  54,  27,  93,  26, 125,\n",
              "         70, 113,  51,  88, 152,  63,  57,  55,  18, 117, 118,  64,  56,\n",
              "         50,  66,  36,  53,  90,  74,  69, 351,  67, 124,  73,  49, 150,\n",
              "         32,  24, 119,  31, 173,  10,  16,  19,  82, 147,  25,   5, 108,\n",
              "        112,  14, 154,  80,  87,  35, 105,  92, 120,  41, 104, 110,  61,\n",
              "        191,  44,  76,  78, 193, 241, 216,  94,  68, 101, 106,  77, 261,\n",
              "         42,  12,  23,  29,  58,  13, 186, 239, 360,  39,  37, 136,  62,\n",
              "         21, 128, 121,  71,  59,  43,  75, 246, 354, 131,  48, 220, 180,\n",
              "        279, 123,  79, 100, 189,  91, 185])]"
            ]
          },
          "metadata": {
            "tags": []
          },
          "execution_count": 153
        }
      ]
    },
    {
      "cell_type": "code",
      "metadata": {
        "colab": {
          "base_uri": "https://localhost:8080/"
        },
        "id": "P1j-WPlXkTlv",
        "outputId": "bad7cb1f-3ae7-443b-c098-8262a082a14e"
      },
      "source": [
        "data.Seccion.unique()"
      ],
      "execution_count": null,
      "outputs": [
        {
          "output_type": "execute_result",
          "data": {
            "text/plain": [
              "array(['Envasado Evaporada', 'Envasado RTD'], dtype=object)"
            ]
          },
          "metadata": {
            "tags": []
          },
          "execution_count": 155
        }
      ]
    },
    {
      "cell_type": "markdown",
      "metadata": {
        "id": "jjYJx2QGnA7q"
      },
      "source": [
        "**Funciones de agrupación**"
      ]
    },
    {
      "cell_type": "code",
      "metadata": {
        "colab": {
          "base_uri": "https://localhost:8080/",
          "height": 173
        },
        "id": "peygQW41nJF9",
        "outputId": "2f7204c4-5314-4394-962d-3da46bb06a6e"
      },
      "source": [
        "#Calcular los tiempos de parada por fábrica\n",
        "total = data.groupby('Fabrica').agg({'TiempoPNP':['sum','mean','min','count']}).reset_index()\n",
        "total"
      ],
      "execution_count": null,
      "outputs": [
        {
          "output_type": "execute_result",
          "data": {
            "text/html": [
              "<div>\n",
              "<style scoped>\n",
              "    .dataframe tbody tr th:only-of-type {\n",
              "        vertical-align: middle;\n",
              "    }\n",
              "\n",
              "    .dataframe tbody tr th {\n",
              "        vertical-align: top;\n",
              "    }\n",
              "\n",
              "    .dataframe thead tr th {\n",
              "        text-align: left;\n",
              "    }\n",
              "</style>\n",
              "<table border=\"1\" class=\"dataframe\">\n",
              "  <thead>\n",
              "    <tr>\n",
              "      <th></th>\n",
              "      <th>Fabrica</th>\n",
              "      <th colspan=\"4\" halign=\"left\">TiempoPNP</th>\n",
              "    </tr>\n",
              "    <tr>\n",
              "      <th></th>\n",
              "      <th></th>\n",
              "      <th>sum</th>\n",
              "      <th>mean</th>\n",
              "      <th>min</th>\n",
              "      <th>count</th>\n",
              "    </tr>\n",
              "  </thead>\n",
              "  <tbody>\n",
              "    <tr>\n",
              "      <th>0</th>\n",
              "      <td>Condenseria</td>\n",
              "      <td>253829</td>\n",
              "      <td>76.133473</td>\n",
              "      <td>10</td>\n",
              "      <td>3334</td>\n",
              "    </tr>\n",
              "    <tr>\n",
              "      <th>1</th>\n",
              "      <td>Derivados</td>\n",
              "      <td>340043</td>\n",
              "      <td>102.023102</td>\n",
              "      <td>5</td>\n",
              "      <td>3333</td>\n",
              "    </tr>\n",
              "    <tr>\n",
              "      <th>2</th>\n",
              "      <td>Envases</td>\n",
              "      <td>265488</td>\n",
              "      <td>79.678271</td>\n",
              "      <td>5</td>\n",
              "      <td>3332</td>\n",
              "    </tr>\n",
              "  </tbody>\n",
              "</table>\n",
              "</div>"
            ],
            "text/plain": [
              "       Fabrica TiempoPNP                      \n",
              "                     sum        mean min count\n",
              "0  Condenseria    253829   76.133473  10  3334\n",
              "1    Derivados    340043  102.023102   5  3333\n",
              "2      Envases    265488   79.678271   5  3332"
            ]
          },
          "metadata": {
            "tags": []
          },
          "execution_count": 161
        }
      ]
    },
    {
      "cell_type": "code",
      "metadata": {
        "colab": {
          "base_uri": "https://localhost:8080/",
          "height": 266
        },
        "id": "y1XHQI1LnyZx",
        "outputId": "e26ed0a9-f2b5-4796-894b-9d659cae0d2f"
      },
      "source": [
        "Lineas = data.groupby('Linea').agg({'TiempoPNP':['sum','mean','min','count']}).reset_index()\n",
        "Lineas"
      ],
      "execution_count": null,
      "outputs": [
        {
          "output_type": "execute_result",
          "data": {
            "text/html": [
              "<div>\n",
              "<style scoped>\n",
              "    .dataframe tbody tr th:only-of-type {\n",
              "        vertical-align: middle;\n",
              "    }\n",
              "\n",
              "    .dataframe tbody tr th {\n",
              "        vertical-align: top;\n",
              "    }\n",
              "\n",
              "    .dataframe thead tr th {\n",
              "        text-align: left;\n",
              "    }\n",
              "</style>\n",
              "<table border=\"1\" class=\"dataframe\">\n",
              "  <thead>\n",
              "    <tr>\n",
              "      <th></th>\n",
              "      <th>Linea</th>\n",
              "      <th colspan=\"4\" halign=\"left\">TiempoPNP</th>\n",
              "    </tr>\n",
              "    <tr>\n",
              "      <th></th>\n",
              "      <th></th>\n",
              "      <th>sum</th>\n",
              "      <th>mean</th>\n",
              "      <th>min</th>\n",
              "      <th>count</th>\n",
              "    </tr>\n",
              "  </thead>\n",
              "  <tbody>\n",
              "    <tr>\n",
              "      <th>0</th>\n",
              "      <td>Linea Baby 1</td>\n",
              "      <td>158308</td>\n",
              "      <td>80.115385</td>\n",
              "      <td>10</td>\n",
              "      <td>1976</td>\n",
              "    </tr>\n",
              "    <tr>\n",
              "      <th>1</th>\n",
              "      <td>Linea Baby 2</td>\n",
              "      <td>79344</td>\n",
              "      <td>73.466667</td>\n",
              "      <td>14</td>\n",
              "      <td>1080</td>\n",
              "    </tr>\n",
              "    <tr>\n",
              "      <th>2</th>\n",
              "      <td>Linea Baby 3</td>\n",
              "      <td>85365</td>\n",
              "      <td>62.538462</td>\n",
              "      <td>5</td>\n",
              "      <td>1365</td>\n",
              "    </tr>\n",
              "    <tr>\n",
              "      <th>3</th>\n",
              "      <td>Linea Baby 4</td>\n",
              "      <td>182455</td>\n",
              "      <td>84.080645</td>\n",
              "      <td>15</td>\n",
              "      <td>2170</td>\n",
              "    </tr>\n",
              "    <tr>\n",
              "      <th>4</th>\n",
              "      <td>Linea Baby 6</td>\n",
              "      <td>260813</td>\n",
              "      <td>111.888889</td>\n",
              "      <td>16</td>\n",
              "      <td>2331</td>\n",
              "    </tr>\n",
              "    <tr>\n",
              "      <th>5</th>\n",
              "      <td>Linea Baby 7</td>\n",
              "      <td>93075</td>\n",
              "      <td>86.420613</td>\n",
              "      <td>5</td>\n",
              "      <td>1077</td>\n",
              "    </tr>\n",
              "  </tbody>\n",
              "</table>\n",
              "</div>"
            ],
            "text/plain": [
              "          Linea TiempoPNP                      \n",
              "                      sum        mean min count\n",
              "0  Linea Baby 1    158308   80.115385  10  1976\n",
              "1  Linea Baby 2     79344   73.466667  14  1080\n",
              "2  Linea Baby 3     85365   62.538462   5  1365\n",
              "3  Linea Baby 4    182455   84.080645  15  2170\n",
              "4  Linea Baby 6    260813  111.888889  16  2331\n",
              "5  Linea Baby 7     93075   86.420613   5  1077"
            ]
          },
          "metadata": {
            "tags": []
          },
          "execution_count": 162
        }
      ]
    },
    {
      "cell_type": "code",
      "metadata": {
        "colab": {
          "base_uri": "https://localhost:8080/",
          "height": 111
        },
        "id": "cojBZIfapuye",
        "outputId": "2d001e30-5862-4762-b047-e652ab04c878"
      },
      "source": [
        "Seccion = data.groupby('Seccion').agg({'TiempoPNP':['sum','mean','min','count']}).reset_index()\n",
        "Seccion.columns = ['Seccion','Suma','Promedio','Minimo','Conteo']\n",
        "Seccion.sort_values('Suma', ascending=0)"
      ],
      "execution_count": null,
      "outputs": [
        {
          "output_type": "execute_result",
          "data": {
            "text/html": [
              "<div>\n",
              "<style scoped>\n",
              "    .dataframe tbody tr th:only-of-type {\n",
              "        vertical-align: middle;\n",
              "    }\n",
              "\n",
              "    .dataframe tbody tr th {\n",
              "        vertical-align: top;\n",
              "    }\n",
              "\n",
              "    .dataframe thead th {\n",
              "        text-align: right;\n",
              "    }\n",
              "</style>\n",
              "<table border=\"1\" class=\"dataframe\">\n",
              "  <thead>\n",
              "    <tr style=\"text-align: right;\">\n",
              "      <th></th>\n",
              "      <th>Seccion</th>\n",
              "      <th>Suma</th>\n",
              "      <th>Promedio</th>\n",
              "      <th>Minimo</th>\n",
              "      <th>Conteo</th>\n",
              "    </tr>\n",
              "  </thead>\n",
              "  <tbody>\n",
              "    <tr>\n",
              "      <th>1</th>\n",
              "      <td>Envasado RTD</td>\n",
              "      <td>467923</td>\n",
              "      <td>93.603321</td>\n",
              "      <td>5</td>\n",
              "      <td>4999</td>\n",
              "    </tr>\n",
              "    <tr>\n",
              "      <th>0</th>\n",
              "      <td>Envasado Evaporada</td>\n",
              "      <td>391437</td>\n",
              "      <td>78.287400</td>\n",
              "      <td>5</td>\n",
              "      <td>5000</td>\n",
              "    </tr>\n",
              "  </tbody>\n",
              "</table>\n",
              "</div>"
            ],
            "text/plain": [
              "              Seccion    Suma   Promedio  Minimo  Conteo\n",
              "1        Envasado RTD  467923  93.603321       5    4999\n",
              "0  Envasado Evaporada  391437  78.287400       5    5000"
            ]
          },
          "metadata": {
            "tags": []
          },
          "execution_count": 169
        }
      ]
    },
    {
      "cell_type": "markdown",
      "metadata": {
        "id": "wMf3UGg1uow4"
      },
      "source": [
        "**Análisis gráfico**"
      ]
    },
    {
      "cell_type": "code",
      "metadata": {
        "colab": {
          "base_uri": "https://localhost:8080/",
          "height": 334
        },
        "id": "PF6ejsBDuqXH",
        "outputId": "defd937c-aa84-458d-9018-d88d0116f186"
      },
      "source": [
        "plt.figure(figsize = (16,5))\n",
        "plt.subplot(131)\n",
        "plt.hist(data.query(\"Fabrica == 'Derivados'\")['TiempoPNP'].values, color = '#11DCD6', label = 'Derivados')\n",
        "plt.xlabel('Tiempos PNP')\n",
        "plt.ylabel('Frecuencias')\n",
        "plt.legend(loc = 'best')\n",
        "plt.subplot(132)\n",
        "plt.hist(data.query(\"Fabrica == 'Condenseria'\")['TiempoPNP'].values, color = '#11DC8F', label = 'Condenseria')\n",
        "plt.xlabel('Tiempos PNP')\n",
        "plt.ylabel('Frecuencias')\n",
        "plt.legend(loc = 'best')\n",
        "plt.subplot(133)\n",
        "plt.hist(data.query(\"Fabrica == 'Envases'\")['TiempoPNP'].values,color ='#043A6F', label = 'Envases')\n",
        "plt.xlabel('Tiempos PNP')\n",
        "plt.ylabel('Frecuencias')\n",
        "plt.legend(loc = 'best')\n",
        "plt.show()"
      ],
      "execution_count": null,
      "outputs": [
        {
          "output_type": "display_data",
          "data": {
            "image/png": "[encoded data removed]",
            "text/plain": [
              "<Figure size 1152x360 with 3 Axes>"
            ]
          },
          "metadata": {
            "tags": [],
            "needs_background": "light"
          }
        }
      ]
    },
    {
      "cell_type": "code",
      "metadata": {
        "colab": {
          "base_uri": "https://localhost:8080/",
          "height": 333
        },
        "id": "qBkPfP2wxzj6",
        "outputId": "9ebae3f7-5eae-4f32-9a33-95164ae496f9"
      },
      "source": [
        "import seaborn as sns\n",
        "sns.distplot(data.TiempoPNP,bins = 8, kde= True, color = '#3DD775')\n",
        "plt.show()"
      ],
      "execution_count": null,
      "outputs": [
        {
          "output_type": "stream",
          "text": [
            "/usr/local/lib/python3.7/dist-packages/seaborn/distributions.py:2557: FutureWarning: `distplot` is a deprecated function and will be removed in a future version. Please adapt your code to use either `displot` (a figure-level function with similar flexibility) or `histplot` (an axes-level function for histograms).\n",
            "  warnings.warn(msg, FutureWarning)\n"
          ],
          "name": "stderr"
        },
        {
          "output_type": "display_data",
          "data": {
            "image/png": "[encoded data removed]",
            "text/plain": [
              "<Figure size 432x288 with 1 Axes>"
            ]
          },
          "metadata": {
            "tags": [],
            "needs_background": "light"
          }
        }
      ]
    },
    {
      "cell_type": "code",
      "metadata": {
        "colab": {
          "base_uri": "https://localhost:8080/",
          "height": 355
        },
        "id": "arK1Wmj2ytuu",
        "outputId": "df65184b-074d-4fcc-d006-c6a2062ff92f"
      },
      "source": [
        "plt.figure(figsize = (16,5))\n",
        "sns.set_theme(style=\"white\")\n",
        "sns.histplot(data = data, x = 'TiempoPNP', hue = 'Fabrica', bins = 100, palette = 'husl')\n",
        "plt.title('Tiempos PNP por fábrica')\n",
        "plt.show()"
      ],
      "execution_count": null,
      "outputs": [
        {
          "output_type": "display_data",
          "data": {
            "image/png": "[encoded data removed]",
            "text/plain": [
              "<Figure size 1152x360 with 1 Axes>"
            ]
          },
          "metadata": {
            "tags": []
          }
        }
      ]
    },
    {
      "cell_type": "code",
      "metadata": {
        "id": "mI4EJqJIzQ1x"
      },
      "source": [
        ""
      ],
      "execution_count": null,
      "outputs": []
    }
  ]
}