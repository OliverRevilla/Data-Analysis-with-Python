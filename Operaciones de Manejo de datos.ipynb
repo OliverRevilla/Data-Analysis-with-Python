{
 "cells": [
  {
   "cell_type": "code",
   "execution_count": 1,
   "metadata": {},
   "outputs": [],
   "source": [
    "import numpy as np\n",
    "import os\n",
    "import pandas as pd\n",
    "import matplotlib.pyplot as plt\n",
    "import seaborn as sns"
   ]
  },
  {
   "cell_type": "code",
   "execution_count": 13,
   "metadata": {},
   "outputs": [
    {
     "data": {
      "text/plain": [
       "0.1508196814060767"
      ]
     },
     "execution_count": 13,
     "metadata": {},
     "output_type": "execute_result"
    }
   ],
   "source": [
    "np.random.random_sample()"
   ]
  },
  {
   "cell_type": "code",
   "execution_count": 14,
   "metadata": {},
   "outputs": [
    {
     "data": {
      "text/plain": [
       "'C:\\\\Users\\\\Andres\\\\Desktop\\\\Python'"
      ]
     },
     "execution_count": 14,
     "metadata": {},
     "output_type": "execute_result"
    }
   ],
   "source": [
    "os.getcwd()"
   ]
  },
  {
   "cell_type": "code",
   "execution_count": 17,
   "metadata": {},
   "outputs": [
    {
     "data": {
      "text/plain": [
       "['Bonos_del_Gobierno.csv',\n",
       " 'books.json',\n",
       " 'books.xml',\n",
       " 'ch05_01.csv',\n",
       " 'ch05_05.txt',\n",
       " 'ch05_06.txt',\n",
       " 'ch05_07.csv',\n",
       " 'ch05_08.csv',\n",
       " 'ComputerSales.csv',\n",
       " 'Data.zip',\n",
       " 'data2.xlsx',\n",
       " 'Datos históricos USD_PEN.csv',\n",
       " 'datosnum.csv',\n",
       " 'Diccionario_Datos.XLSX',\n",
       " 'Encuesta_economica_anual_2017.csv',\n",
       " 'Excel.xlsx',\n",
       " 'Financial Sample.xlsx',\n",
       " 'frame.json',\n",
       " 'icecreamsales.csv',\n",
       " 'positivos_covid.csv',\n",
       " 'Regex.txt',\n",
       " 'shoes_dataset.csv',\n",
       " 'vacunas_covid.csv']"
      ]
     },
     "execution_count": 17,
     "metadata": {},
     "output_type": "execute_result"
    }
   ],
   "source": [
    "os.chdir('E:/CURSOS/LIBROS  PYTHON/Datasets')\n",
    "os.listdir()"
   ]
  },
  {
   "cell_type": "code",
   "execution_count": 45,
   "metadata": {},
   "outputs": [
    {
     "data": {
      "text/plain": [
       "array([0.82291214, 0.00613952, 0.08865207, 0.52441335, 0.98177849,\n",
       "       0.97430961, 0.64598953, 0.99192569, 0.76513897, 0.73587531,\n",
       "       0.5802775 , 0.8074907 , 0.03164805, 0.05740767, 0.20076651,\n",
       "       0.28991836, 0.16337354, 0.58835905, 0.51057379, 0.37915649,\n",
       "       0.75169432, 0.07621129, 0.62308353, 0.69377576, 0.60924969])"
      ]
     },
     "execution_count": 45,
     "metadata": {},
     "output_type": "execute_result"
    }
   ],
   "source": [
    "np.random.sample(25)"
   ]
  },
  {
   "cell_type": "code",
   "execution_count": 53,
   "metadata": {},
   "outputs": [],
   "source": [
    "a = 1\n",
    "b = 100\n",
    "n = 200000\n",
    "data = np.random.uniform(a,b,n)"
   ]
  },
  {
   "cell_type": "code",
   "execution_count": 54,
   "metadata": {},
   "outputs": [
    {
     "data": {
      "text/plain": [
       "(array([20066., 20066., 19962., 20069., 19976., 19901., 20027., 20033.,\n",
       "        20019., 19881.]),\n",
       " array([ 1.0012157 , 10.90106667, 20.80091763, 30.7007686 , 40.60061957,\n",
       "        50.50047054, 60.4003215 , 70.30017247, 80.20002344, 90.09987441,\n",
       "        99.99972537]),\n",
       " <a list of 10 Patch objects>)"
      ]
     },
     "execution_count": 54,
     "metadata": {},
     "output_type": "execute_result"
    },
    {
     "data": {
      "image/png": "[encoded data removed]",
      "text/plain": [
       "<Figure size 432x288 with 1 Axes>"
      ]
     },
     "metadata": {
      "needs_background": "light"
     },
     "output_type": "display_data"
    }
   ],
   "source": [
    "%matplotlib inline\n",
    "plt.hist(data)"
   ]
  },
  {
   "cell_type": "code",
   "execution_count": 72,
   "metadata": {},
   "outputs": [],
   "source": [
    "# Función normal\n",
    "data = np.random.randn(100)"
   ]
  },
  {
   "cell_type": "code",
   "execution_count": 74,
   "metadata": {},
   "outputs": [
    {
     "data": {
      "text/plain": [
       "(array([ 5.,  6.,  9., 22., 22., 14., 11., 10.,  0.,  1.]),\n",
       " array([-1.83272631, -1.39960517, -0.96648403, -0.53336288, -0.10024174,\n",
       "         0.3328794 ,  0.76600055,  1.19912169,  1.63224283,  2.06536398,\n",
       "         2.49848512]),\n",
       " <a list of 10 Patch objects>)"
      ]
     },
     "execution_count": 74,
     "metadata": {},
     "output_type": "execute_result"
    },
    {
     "data": {
      "image/png": "[encoded data removed]",
      "text/plain": [
       "<Figure size 432x288 with 1 Axes>"
      ]
     },
     "metadata": {
      "needs_background": "light"
     },
     "output_type": "display_data"
    }
   ],
   "source": [
    "x = range(1,101)\n",
    "plt.subplot(1,1,1)\n",
    "plt.plot(x, data)\n",
    "plt.subplot(1,2,1)\n",
    "plt.hist(data)\n"
   ]
  },
  {
   "cell_type": "code",
   "execution_count": 75,
   "metadata": {},
   "outputs": [
    {
     "data": {
      "text/plain": [
       "[<matplotlib.lines.Line2D at 0x251fd044b50>]"
      ]
     },
     "execution_count": 75,
     "metadata": {},
     "output_type": "execute_result"
    },
    {
     "data": {
      "image/png": "[encoded data removed]",
      "text/plain": [
       "<Figure size 432x288 with 1 Axes>"
      ]
     },
     "metadata": {
      "needs_background": "light"
     },
     "output_type": "display_data"
    }
   ],
   "source": [
    "plt.plot(x, sorted(data))"
   ]
  },
  {
   "cell_type": "code",
   "execution_count": null,
   "metadata": {},
   "outputs": [],
   "source": [
    "mu = 5\n",
    "sd = 2\n",
    "z = np.random.randn(10000)\n",
    "x = range(-5,5)\n",
    "plt.plot()"
   ]
  },
  {
   "cell_type": "markdown",
   "metadata": {},
   "source": [
    "### Simulación de Montercarlo "
   ]
  },
  {
   "cell_type": "markdown",
   "metadata": {},
   "source": [
    "Generamos dos numeros aleatorios x e y entre 0 y 1\n",
    "Calculando x*x + w*w\n",
    "    Si el valor es inferior a 1 --> estamos dentro del círculo\n",
    "    Si el valor es superior a 1 --> estamos fuera del círculo\n"
   ]
  },
  {
   "cell_type": "code",
   "execution_count": 6,
   "metadata": {},
   "outputs": [],
   "source": [
    "def pi_montecarlo(n,n_exp):\n",
    "    pi_avg = 0\n",
    "    n = 1000\n",
    "    pi_value_list = []\n",
    "    for i in range(n_exp):\n",
    "        value = 0\n",
    "        x = np.random.uniform(0,1,n).tolist()\n",
    "        y = np.random.uniform(0,1,n).tolist()\n",
    "        for j in range(n):\n",
    "            z = np.sqrt(x[j]**2 + y[j]**2)\n",
    "            if z <= 1:\n",
    "                value += 1\n",
    "        float_value = float(value)\n",
    "        pi_value = float_value*4/n\n",
    "        pi_value_list.append(pi_value)\n",
    "        pi_avg += pi_value\n",
    "    \n",
    "    pi = pi_avg/100\n",
    "\n",
    "    print(pi, pi_value)\n",
    "    plt.plot(pi_value_list)"
   ]
  },
  {
   "cell_type": "code",
   "execution_count": 7,
   "metadata": {},
   "outputs": [
    {
     "name": "stdout",
     "output_type": "stream",
     "text": [
      "3.1565200000000004 3.136\n"
     ]
    },
    {
     "data": {
      "image/png": "[encoded data removed]",
      "text/plain": [
       "<Figure size 432x288 with 1 Axes>"
      ]
     },
     "metadata": {
      "needs_background": "light"
     },
     "output_type": "display_data"
    }
   ],
   "source": [
    "pi_montecarlo(10000,200) #200 experimentos, 10000 puntos por experimento"
   ]
  },
  {
   "cell_type": "markdown",
   "metadata": {},
   "source": [
    "### Dummy Data Sets"
   ]
  },
  {
   "cell_type": "code",
   "execution_count": 9,
   "metadata": {},
   "outputs": [],
   "source": [
    "data = pd.DataFrame(\n",
    "    {\n",
    "        'A':np.random.randn(10),\n",
    "        'B':1.5 + 2.5*np.random.randn(10),\n",
    "        'C':np.random.uniform(5,32,10)\n",
    "    }\n",
    ")"
   ]
  },
  {
   "cell_type": "code",
   "execution_count": 10,
   "metadata": {},
   "outputs": [
    {
     "data": {
      "text/html": [
       "<div>\n",
       "<style scoped>\n",
       "    .dataframe tbody tr th:only-of-type {\n",
       "        vertical-align: middle;\n",
       "    }\n",
       "\n",
       "    .dataframe tbody tr th {\n",
       "        vertical-align: top;\n",
       "    }\n",
       "\n",
       "    .dataframe thead th {\n",
       "        text-align: right;\n",
       "    }\n",
       "</style>\n",
       "<table border=\"1\" class=\"dataframe\">\n",
       "  <thead>\n",
       "    <tr style=\"text-align: right;\">\n",
       "      <th></th>\n",
       "      <th>A</th>\n",
       "      <th>B</th>\n",
       "      <th>C</th>\n",
       "    </tr>\n",
       "  </thead>\n",
       "  <tbody>\n",
       "    <tr>\n",
       "      <th>0</th>\n",
       "      <td>-2.580339</td>\n",
       "      <td>-0.481914</td>\n",
       "      <td>17.378926</td>\n",
       "    </tr>\n",
       "    <tr>\n",
       "      <th>1</th>\n",
       "      <td>-1.917363</td>\n",
       "      <td>1.518869</td>\n",
       "      <td>13.722200</td>\n",
       "    </tr>\n",
       "    <tr>\n",
       "      <th>2</th>\n",
       "      <td>0.426611</td>\n",
       "      <td>7.128071</td>\n",
       "      <td>9.097046</td>\n",
       "    </tr>\n",
       "    <tr>\n",
       "      <th>3</th>\n",
       "      <td>-0.131885</td>\n",
       "      <td>0.264771</td>\n",
       "      <td>28.468310</td>\n",
       "    </tr>\n",
       "    <tr>\n",
       "      <th>4</th>\n",
       "      <td>-0.700341</td>\n",
       "      <td>-1.701455</td>\n",
       "      <td>15.420070</td>\n",
       "    </tr>\n",
       "    <tr>\n",
       "      <th>5</th>\n",
       "      <td>-0.517962</td>\n",
       "      <td>0.742686</td>\n",
       "      <td>20.046997</td>\n",
       "    </tr>\n",
       "    <tr>\n",
       "      <th>6</th>\n",
       "      <td>-0.914947</td>\n",
       "      <td>2.182977</td>\n",
       "      <td>15.222479</td>\n",
       "    </tr>\n",
       "    <tr>\n",
       "      <th>7</th>\n",
       "      <td>-0.140081</td>\n",
       "      <td>5.797125</td>\n",
       "      <td>29.574086</td>\n",
       "    </tr>\n",
       "    <tr>\n",
       "      <th>8</th>\n",
       "      <td>-1.069925</td>\n",
       "      <td>-0.075323</td>\n",
       "      <td>30.114086</td>\n",
       "    </tr>\n",
       "    <tr>\n",
       "      <th>9</th>\n",
       "      <td>-1.414492</td>\n",
       "      <td>-3.725676</td>\n",
       "      <td>8.136412</td>\n",
       "    </tr>\n",
       "  </tbody>\n",
       "</table>\n",
       "</div>"
      ],
      "text/plain": [
       "          A         B          C\n",
       "0 -2.580339 -0.481914  17.378926\n",
       "1 -1.917363  1.518869  13.722200\n",
       "2  0.426611  7.128071   9.097046\n",
       "3 -0.131885  0.264771  28.468310\n",
       "4 -0.700341 -1.701455  15.420070\n",
       "5 -0.517962  0.742686  20.046997\n",
       "6 -0.914947  2.182977  15.222479\n",
       "7 -0.140081  5.797125  29.574086\n",
       "8 -1.069925 -0.075323  30.114086\n",
       "9 -1.414492 -3.725676   8.136412"
      ]
     },
     "execution_count": 10,
     "metadata": {},
     "output_type": "execute_result"
    }
   ],
   "source": [
    "data"
   ]
  },
  {
   "cell_type": "markdown",
   "metadata": {},
   "source": [
    "### Agregación de datos por categoría"
   ]
  },
  {
   "cell_type": "code",
   "execution_count": 59,
   "metadata": {},
   "outputs": [],
   "source": [
    "gender = ['Male','Female']\n",
    "income = ['Poor','Middle class','Rich']"
   ]
  },
  {
   "cell_type": "code",
   "execution_count": 60,
   "metadata": {},
   "outputs": [],
   "source": [
    "n = 500 #tamaño del data set\n",
    "gender_data = []\n",
    "income_data = []\n",
    "\n",
    "for i in range(0,500):\n",
    "    gender_data.append(np.random.choice(gender))\n",
    "    income_data.append(np.random.choice(income))    "
   ]
  },
  {
   "cell_type": "code",
   "execution_count": 64,
   "metadata": {},
   "outputs": [],
   "source": [
    "height = 180 + 25*np.random.randn(n)\n",
    "weight = 75 + 12*np.random.randn(n)\n",
    "age = 23 + 5*np.random.rand(n)\n",
    "income = 10000 + 1500*np.random.randn(n)"
   ]
  },
  {
   "cell_type": "code",
   "execution_count": 65,
   "metadata": {},
   "outputs": [],
   "source": [
    "data = pd.DataFrame(\n",
    "    {\n",
    "        'Gender' : gender_data,\n",
    "        'Economic Status' : income_data,\n",
    "        'Height' : height,\n",
    "        'Weight' : weight,\n",
    "        'Age' : age,\n",
    "        'Income' : income\n",
    "    }\n",
    ")"
   ]
  },
  {
   "cell_type": "code",
   "execution_count": 66,
   "metadata": {},
   "outputs": [
    {
     "data": {
      "text/html": [
       "<div>\n",
       "<style scoped>\n",
       "    .dataframe tbody tr th:only-of-type {\n",
       "        vertical-align: middle;\n",
       "    }\n",
       "\n",
       "    .dataframe tbody tr th {\n",
       "        vertical-align: top;\n",
       "    }\n",
       "\n",
       "    .dataframe thead th {\n",
       "        text-align: right;\n",
       "    }\n",
       "</style>\n",
       "<table border=\"1\" class=\"dataframe\">\n",
       "  <thead>\n",
       "    <tr style=\"text-align: right;\">\n",
       "      <th></th>\n",
       "      <th>Gender</th>\n",
       "      <th>Economic Status</th>\n",
       "      <th>Height</th>\n",
       "      <th>Weight</th>\n",
       "      <th>Age</th>\n",
       "      <th>Income</th>\n",
       "    </tr>\n",
       "  </thead>\n",
       "  <tbody>\n",
       "    <tr>\n",
       "      <th>0</th>\n",
       "      <td>Male</td>\n",
       "      <td>Rich</td>\n",
       "      <td>194.151273</td>\n",
       "      <td>70.909719</td>\n",
       "      <td>26.567502</td>\n",
       "      <td>11006.607984</td>\n",
       "    </tr>\n",
       "    <tr>\n",
       "      <th>1</th>\n",
       "      <td>Female</td>\n",
       "      <td>Middle class</td>\n",
       "      <td>179.776270</td>\n",
       "      <td>68.147630</td>\n",
       "      <td>24.408609</td>\n",
       "      <td>10159.485630</td>\n",
       "    </tr>\n",
       "    <tr>\n",
       "      <th>2</th>\n",
       "      <td>Male</td>\n",
       "      <td>Poor</td>\n",
       "      <td>187.515561</td>\n",
       "      <td>83.580399</td>\n",
       "      <td>23.943324</td>\n",
       "      <td>9091.173085</td>\n",
       "    </tr>\n",
       "    <tr>\n",
       "      <th>3</th>\n",
       "      <td>Male</td>\n",
       "      <td>Poor</td>\n",
       "      <td>201.956007</td>\n",
       "      <td>93.062869</td>\n",
       "      <td>27.974786</td>\n",
       "      <td>9336.239503</td>\n",
       "    </tr>\n",
       "    <tr>\n",
       "      <th>4</th>\n",
       "      <td>Male</td>\n",
       "      <td>Middle class</td>\n",
       "      <td>181.935520</td>\n",
       "      <td>76.588743</td>\n",
       "      <td>24.195520</td>\n",
       "      <td>7353.294838</td>\n",
       "    </tr>\n",
       "    <tr>\n",
       "      <th>...</th>\n",
       "      <td>...</td>\n",
       "      <td>...</td>\n",
       "      <td>...</td>\n",
       "      <td>...</td>\n",
       "      <td>...</td>\n",
       "      <td>...</td>\n",
       "    </tr>\n",
       "    <tr>\n",
       "      <th>495</th>\n",
       "      <td>Male</td>\n",
       "      <td>Rich</td>\n",
       "      <td>173.975337</td>\n",
       "      <td>60.280037</td>\n",
       "      <td>24.753396</td>\n",
       "      <td>9650.517627</td>\n",
       "    </tr>\n",
       "    <tr>\n",
       "      <th>496</th>\n",
       "      <td>Female</td>\n",
       "      <td>Middle class</td>\n",
       "      <td>162.536025</td>\n",
       "      <td>83.609179</td>\n",
       "      <td>27.592087</td>\n",
       "      <td>9707.907582</td>\n",
       "    </tr>\n",
       "    <tr>\n",
       "      <th>497</th>\n",
       "      <td>Female</td>\n",
       "      <td>Rich</td>\n",
       "      <td>180.014106</td>\n",
       "      <td>77.889163</td>\n",
       "      <td>27.009013</td>\n",
       "      <td>11040.160852</td>\n",
       "    </tr>\n",
       "    <tr>\n",
       "      <th>498</th>\n",
       "      <td>Female</td>\n",
       "      <td>Poor</td>\n",
       "      <td>167.950743</td>\n",
       "      <td>55.873577</td>\n",
       "      <td>26.916184</td>\n",
       "      <td>8878.812006</td>\n",
       "    </tr>\n",
       "    <tr>\n",
       "      <th>499</th>\n",
       "      <td>Female</td>\n",
       "      <td>Poor</td>\n",
       "      <td>163.914246</td>\n",
       "      <td>68.341475</td>\n",
       "      <td>24.629749</td>\n",
       "      <td>10153.936435</td>\n",
       "    </tr>\n",
       "  </tbody>\n",
       "</table>\n",
       "<p>500 rows × 6 columns</p>\n",
       "</div>"
      ],
      "text/plain": [
       "     Gender Economic Status      Height     Weight        Age        Income\n",
       "0      Male            Rich  194.151273  70.909719  26.567502  11006.607984\n",
       "1    Female    Middle class  179.776270  68.147630  24.408609  10159.485630\n",
       "2      Male            Poor  187.515561  83.580399  23.943324   9091.173085\n",
       "3      Male            Poor  201.956007  93.062869  27.974786   9336.239503\n",
       "4      Male    Middle class  181.935520  76.588743  24.195520   7353.294838\n",
       "..      ...             ...         ...        ...        ...           ...\n",
       "495    Male            Rich  173.975337  60.280037  24.753396   9650.517627\n",
       "496  Female    Middle class  162.536025  83.609179  27.592087   9707.907582\n",
       "497  Female            Rich  180.014106  77.889163  27.009013  11040.160852\n",
       "498  Female            Poor  167.950743  55.873577  26.916184   8878.812006\n",
       "499  Female            Poor  163.914246  68.341475  24.629749  10153.936435\n",
       "\n",
       "[500 rows x 6 columns]"
      ]
     },
     "execution_count": 66,
     "metadata": {},
     "output_type": "execute_result"
    }
   ],
   "source": [
    "data"
   ]
  },
  {
   "cell_type": "code",
   "execution_count": 67,
   "metadata": {},
   "outputs": [
    {
     "data": {
      "text/html": [
       "<div>\n",
       "<style scoped>\n",
       "    .dataframe tbody tr th:only-of-type {\n",
       "        vertical-align: middle;\n",
       "    }\n",
       "\n",
       "    .dataframe tbody tr th {\n",
       "        vertical-align: top;\n",
       "    }\n",
       "\n",
       "    .dataframe thead th {\n",
       "        text-align: right;\n",
       "    }\n",
       "</style>\n",
       "<table border=\"1\" class=\"dataframe\">\n",
       "  <thead>\n",
       "    <tr style=\"text-align: right;\">\n",
       "      <th></th>\n",
       "      <th>Gender</th>\n",
       "      <th>Economic Status</th>\n",
       "      <th>Height</th>\n",
       "      <th>Weight</th>\n",
       "      <th>Age</th>\n",
       "      <th>Income</th>\n",
       "    </tr>\n",
       "  </thead>\n",
       "  <tbody>\n",
       "    <tr>\n",
       "      <th>0</th>\n",
       "      <td>Male</td>\n",
       "      <td>Rich</td>\n",
       "      <td>194.151273</td>\n",
       "      <td>70.909719</td>\n",
       "      <td>26.567502</td>\n",
       "      <td>11006.607984</td>\n",
       "    </tr>\n",
       "    <tr>\n",
       "      <th>1</th>\n",
       "      <td>Female</td>\n",
       "      <td>Middle class</td>\n",
       "      <td>179.776270</td>\n",
       "      <td>68.147630</td>\n",
       "      <td>24.408609</td>\n",
       "      <td>10159.485630</td>\n",
       "    </tr>\n",
       "    <tr>\n",
       "      <th>2</th>\n",
       "      <td>Male</td>\n",
       "      <td>Poor</td>\n",
       "      <td>187.515561</td>\n",
       "      <td>83.580399</td>\n",
       "      <td>23.943324</td>\n",
       "      <td>9091.173085</td>\n",
       "    </tr>\n",
       "    <tr>\n",
       "      <th>3</th>\n",
       "      <td>Male</td>\n",
       "      <td>Poor</td>\n",
       "      <td>201.956007</td>\n",
       "      <td>93.062869</td>\n",
       "      <td>27.974786</td>\n",
       "      <td>9336.239503</td>\n",
       "    </tr>\n",
       "    <tr>\n",
       "      <th>4</th>\n",
       "      <td>Male</td>\n",
       "      <td>Middle class</td>\n",
       "      <td>181.935520</td>\n",
       "      <td>76.588743</td>\n",
       "      <td>24.195520</td>\n",
       "      <td>7353.294838</td>\n",
       "    </tr>\n",
       "  </tbody>\n",
       "</table>\n",
       "</div>"
      ],
      "text/plain": [
       "   Gender Economic Status      Height     Weight        Age        Income\n",
       "0    Male            Rich  194.151273  70.909719  26.567502  11006.607984\n",
       "1  Female    Middle class  179.776270  68.147630  24.408609  10159.485630\n",
       "2    Male            Poor  187.515561  83.580399  23.943324   9091.173085\n",
       "3    Male            Poor  201.956007  93.062869  27.974786   9336.239503\n",
       "4    Male    Middle class  181.935520  76.588743  24.195520   7353.294838"
      ]
     },
     "execution_count": 67,
     "metadata": {},
     "output_type": "execute_result"
    }
   ],
   "source": [
    "data.head()"
   ]
  },
  {
   "cell_type": "markdown",
   "metadata": {},
   "source": [
    "### Agrupación de datos"
   ]
  },
  {
   "cell_type": "code",
   "execution_count": 77,
   "metadata": {},
   "outputs": [
    {
     "data": {
      "text/html": [
       "<div>\n",
       "<style scoped>\n",
       "    .dataframe tbody tr th:only-of-type {\n",
       "        vertical-align: middle;\n",
       "    }\n",
       "\n",
       "    .dataframe tbody tr th {\n",
       "        vertical-align: top;\n",
       "    }\n",
       "\n",
       "    .dataframe thead tr th {\n",
       "        text-align: left;\n",
       "    }\n",
       "\n",
       "    .dataframe thead tr:last-of-type th {\n",
       "        text-align: right;\n",
       "    }\n",
       "</style>\n",
       "<table border=\"1\" class=\"dataframe\">\n",
       "  <thead>\n",
       "    <tr>\n",
       "      <th></th>\n",
       "      <th colspan=\"8\" halign=\"left\">Height</th>\n",
       "      <th colspan=\"2\" halign=\"left\">Weight</th>\n",
       "      <th>...</th>\n",
       "      <th colspan=\"2\" halign=\"left\">Age</th>\n",
       "      <th colspan=\"8\" halign=\"left\">Income</th>\n",
       "    </tr>\n",
       "    <tr>\n",
       "      <th></th>\n",
       "      <th>count</th>\n",
       "      <th>mean</th>\n",
       "      <th>std</th>\n",
       "      <th>min</th>\n",
       "      <th>25%</th>\n",
       "      <th>50%</th>\n",
       "      <th>75%</th>\n",
       "      <th>max</th>\n",
       "      <th>count</th>\n",
       "      <th>mean</th>\n",
       "      <th>...</th>\n",
       "      <th>75%</th>\n",
       "      <th>max</th>\n",
       "      <th>count</th>\n",
       "      <th>mean</th>\n",
       "      <th>std</th>\n",
       "      <th>min</th>\n",
       "      <th>25%</th>\n",
       "      <th>50%</th>\n",
       "      <th>75%</th>\n",
       "      <th>max</th>\n",
       "    </tr>\n",
       "    <tr>\n",
       "      <th>Gender</th>\n",
       "      <th></th>\n",
       "      <th></th>\n",
       "      <th></th>\n",
       "      <th></th>\n",
       "      <th></th>\n",
       "      <th></th>\n",
       "      <th></th>\n",
       "      <th></th>\n",
       "      <th></th>\n",
       "      <th></th>\n",
       "      <th></th>\n",
       "      <th></th>\n",
       "      <th></th>\n",
       "      <th></th>\n",
       "      <th></th>\n",
       "      <th></th>\n",
       "      <th></th>\n",
       "      <th></th>\n",
       "      <th></th>\n",
       "      <th></th>\n",
       "      <th></th>\n",
       "    </tr>\n",
       "  </thead>\n",
       "  <tbody>\n",
       "    <tr>\n",
       "      <th>Female</th>\n",
       "      <td>257.0</td>\n",
       "      <td>177.667357</td>\n",
       "      <td>24.725357</td>\n",
       "      <td>105.608956</td>\n",
       "      <td>161.326603</td>\n",
       "      <td>178.465866</td>\n",
       "      <td>192.338766</td>\n",
       "      <td>253.577365</td>\n",
       "      <td>257.0</td>\n",
       "      <td>73.433164</td>\n",
       "      <td>...</td>\n",
       "      <td>26.965316</td>\n",
       "      <td>27.993217</td>\n",
       "      <td>257.0</td>\n",
       "      <td>10108.525503</td>\n",
       "      <td>1529.203745</td>\n",
       "      <td>6096.494414</td>\n",
       "      <td>9122.876365</td>\n",
       "      <td>9980.849338</td>\n",
       "      <td>11131.819762</td>\n",
       "      <td>14329.958066</td>\n",
       "    </tr>\n",
       "    <tr>\n",
       "      <th>Male</th>\n",
       "      <td>243.0</td>\n",
       "      <td>178.657963</td>\n",
       "      <td>23.790164</td>\n",
       "      <td>115.749197</td>\n",
       "      <td>164.215109</td>\n",
       "      <td>176.844232</td>\n",
       "      <td>194.079443</td>\n",
       "      <td>256.206528</td>\n",
       "      <td>243.0</td>\n",
       "      <td>75.484530</td>\n",
       "      <td>...</td>\n",
       "      <td>26.896417</td>\n",
       "      <td>27.985732</td>\n",
       "      <td>243.0</td>\n",
       "      <td>10014.856464</td>\n",
       "      <td>1454.374241</td>\n",
       "      <td>5961.108761</td>\n",
       "      <td>9094.130126</td>\n",
       "      <td>9862.855531</td>\n",
       "      <td>11062.796831</td>\n",
       "      <td>14398.978899</td>\n",
       "    </tr>\n",
       "  </tbody>\n",
       "</table>\n",
       "<p>2 rows × 32 columns</p>\n",
       "</div>"
      ],
      "text/plain": [
       "       Height                                                             \\\n",
       "        count        mean        std         min         25%         50%   \n",
       "Gender                                                                     \n",
       "Female  257.0  177.667357  24.725357  105.608956  161.326603  178.465866   \n",
       "Male    243.0  178.657963  23.790164  115.749197  164.215109  176.844232   \n",
       "\n",
       "                               Weight             ...        Age             \\\n",
       "               75%         max  count       mean  ...        75%        max   \n",
       "Gender                                            ...                         \n",
       "Female  192.338766  253.577365  257.0  73.433164  ...  26.965316  27.993217   \n",
       "Male    194.079443  256.206528  243.0  75.484530  ...  26.896417  27.985732   \n",
       "\n",
       "       Income                                                       \\\n",
       "        count          mean          std          min          25%   \n",
       "Gender                                                               \n",
       "Female  257.0  10108.525503  1529.203745  6096.494414  9122.876365   \n",
       "Male    243.0  10014.856464  1454.374241  5961.108761  9094.130126   \n",
       "\n",
       "                                                 \n",
       "                50%           75%           max  \n",
       "Gender                                           \n",
       "Female  9980.849338  11131.819762  14329.958066  \n",
       "Male    9862.855531  11062.796831  14398.978899  \n",
       "\n",
       "[2 rows x 32 columns]"
      ]
     },
     "execution_count": 77,
     "metadata": {},
     "output_type": "execute_result"
    }
   ],
   "source": [
    "grouped_gender = data.groupby(\"Gender\")\n",
    "grouped_gender.describe()"
   ]
  },
  {
   "cell_type": "code",
   "execution_count": 69,
   "metadata": {},
   "outputs": [
    {
     "data": {
      "text/plain": [
       "{'Female': Int64Index([  1,   5,   9,  10,  12,  16,  17,  18,  21,  22,\n",
       "             ...\n",
       "             485, 486, 487, 488, 489, 490, 496, 497, 498, 499],\n",
       "            dtype='int64', length=257),\n",
       " 'Male': Int64Index([  0,   2,   3,   4,   6,   7,   8,  11,  13,  14,\n",
       "             ...\n",
       "             472, 474, 475, 478, 480, 491, 492, 493, 494, 495],\n",
       "            dtype='int64', length=243)}"
      ]
     },
     "execution_count": 69,
     "metadata": {},
     "output_type": "execute_result"
    }
   ],
   "source": [
    "grouped_gender.groups"
   ]
  },
  {
   "cell_type": "code",
   "execution_count": 79,
   "metadata": {},
   "outputs": [
    {
     "name": "stdout",
     "output_type": "stream",
     "text": [
      "Female\n",
      "     Gender Economic Status      Height     Weight        Age        Income\n",
      "1    Female    Middle class  179.776270  68.147630  24.408609  10159.485630\n",
      "5    Female    Middle class  165.987782  79.952115  27.991755  12320.905836\n",
      "9    Female            Rich  221.292812  86.424830  23.960757   7523.857691\n",
      "10   Female    Middle class  149.489786  78.749022  25.017539  11592.978616\n",
      "12   Female            Poor  165.670967  77.484669  27.165301   8731.469994\n",
      "..      ...             ...         ...        ...        ...           ...\n",
      "490  Female    Middle class  185.056102  77.538225  23.440226  11907.145551\n",
      "496  Female    Middle class  162.536025  83.609179  27.592087   9707.907582\n",
      "497  Female            Rich  180.014106  77.889163  27.009013  11040.160852\n",
      "498  Female            Poor  167.950743  55.873577  26.916184   8878.812006\n",
      "499  Female            Poor  163.914246  68.341475  24.629749  10153.936435\n",
      "\n",
      "[257 rows x 6 columns]\n",
      "Male\n",
      "    Gender Economic Status      Height     Weight        Age        Income\n",
      "0     Male            Rich  194.151273  70.909719  26.567502  11006.607984\n",
      "2     Male            Poor  187.515561  83.580399  23.943324   9091.173085\n",
      "3     Male            Poor  201.956007  93.062869  27.974786   9336.239503\n",
      "4     Male    Middle class  181.935520  76.588743  24.195520   7353.294838\n",
      "6     Male    Middle class  154.985199  64.841442  23.038747  13103.789290\n",
      "..     ...             ...         ...        ...        ...           ...\n",
      "491   Male            Poor  155.947060  74.636035  26.126860   9915.506367\n",
      "492   Male    Middle class  193.693986  72.145133  24.636705   9514.052727\n",
      "493   Male            Rich  232.108297  83.307154  23.901952  11497.932304\n",
      "494   Male    Middle class  175.403276  75.969188  24.719752  10764.978367\n",
      "495   Male            Rich  173.975337  60.280037  24.753396   9650.517627\n",
      "\n",
      "[243 rows x 6 columns]\n"
     ]
    }
   ],
   "source": [
    "for names, groups in grouped_gender:\n",
    "    print(names)\n",
    "    print(groups)"
   ]
  },
  {
   "cell_type": "code",
   "execution_count": 71,
   "metadata": {},
   "outputs": [
    {
     "data": {
      "text/html": [
       "<div>\n",
       "<style scoped>\n",
       "    .dataframe tbody tr th:only-of-type {\n",
       "        vertical-align: middle;\n",
       "    }\n",
       "\n",
       "    .dataframe tbody tr th {\n",
       "        vertical-align: top;\n",
       "    }\n",
       "\n",
       "    .dataframe thead th {\n",
       "        text-align: right;\n",
       "    }\n",
       "</style>\n",
       "<table border=\"1\" class=\"dataframe\">\n",
       "  <thead>\n",
       "    <tr style=\"text-align: right;\">\n",
       "      <th></th>\n",
       "      <th>Gender</th>\n",
       "      <th>Economic Status</th>\n",
       "      <th>Height</th>\n",
       "      <th>Weight</th>\n",
       "      <th>Age</th>\n",
       "      <th>Income</th>\n",
       "    </tr>\n",
       "  </thead>\n",
       "  <tbody>\n",
       "    <tr>\n",
       "      <th>1</th>\n",
       "      <td>Female</td>\n",
       "      <td>Middle class</td>\n",
       "      <td>179.776270</td>\n",
       "      <td>68.147630</td>\n",
       "      <td>24.408609</td>\n",
       "      <td>10159.485630</td>\n",
       "    </tr>\n",
       "    <tr>\n",
       "      <th>5</th>\n",
       "      <td>Female</td>\n",
       "      <td>Middle class</td>\n",
       "      <td>165.987782</td>\n",
       "      <td>79.952115</td>\n",
       "      <td>27.991755</td>\n",
       "      <td>12320.905836</td>\n",
       "    </tr>\n",
       "    <tr>\n",
       "      <th>9</th>\n",
       "      <td>Female</td>\n",
       "      <td>Rich</td>\n",
       "      <td>221.292812</td>\n",
       "      <td>86.424830</td>\n",
       "      <td>23.960757</td>\n",
       "      <td>7523.857691</td>\n",
       "    </tr>\n",
       "    <tr>\n",
       "      <th>10</th>\n",
       "      <td>Female</td>\n",
       "      <td>Middle class</td>\n",
       "      <td>149.489786</td>\n",
       "      <td>78.749022</td>\n",
       "      <td>25.017539</td>\n",
       "      <td>11592.978616</td>\n",
       "    </tr>\n",
       "    <tr>\n",
       "      <th>12</th>\n",
       "      <td>Female</td>\n",
       "      <td>Poor</td>\n",
       "      <td>165.670967</td>\n",
       "      <td>77.484669</td>\n",
       "      <td>27.165301</td>\n",
       "      <td>8731.469994</td>\n",
       "    </tr>\n",
       "    <tr>\n",
       "      <th>...</th>\n",
       "      <td>...</td>\n",
       "      <td>...</td>\n",
       "      <td>...</td>\n",
       "      <td>...</td>\n",
       "      <td>...</td>\n",
       "      <td>...</td>\n",
       "    </tr>\n",
       "    <tr>\n",
       "      <th>490</th>\n",
       "      <td>Female</td>\n",
       "      <td>Middle class</td>\n",
       "      <td>185.056102</td>\n",
       "      <td>77.538225</td>\n",
       "      <td>23.440226</td>\n",
       "      <td>11907.145551</td>\n",
       "    </tr>\n",
       "    <tr>\n",
       "      <th>496</th>\n",
       "      <td>Female</td>\n",
       "      <td>Middle class</td>\n",
       "      <td>162.536025</td>\n",
       "      <td>83.609179</td>\n",
       "      <td>27.592087</td>\n",
       "      <td>9707.907582</td>\n",
       "    </tr>\n",
       "    <tr>\n",
       "      <th>497</th>\n",
       "      <td>Female</td>\n",
       "      <td>Rich</td>\n",
       "      <td>180.014106</td>\n",
       "      <td>77.889163</td>\n",
       "      <td>27.009013</td>\n",
       "      <td>11040.160852</td>\n",
       "    </tr>\n",
       "    <tr>\n",
       "      <th>498</th>\n",
       "      <td>Female</td>\n",
       "      <td>Poor</td>\n",
       "      <td>167.950743</td>\n",
       "      <td>55.873577</td>\n",
       "      <td>26.916184</td>\n",
       "      <td>8878.812006</td>\n",
       "    </tr>\n",
       "    <tr>\n",
       "      <th>499</th>\n",
       "      <td>Female</td>\n",
       "      <td>Poor</td>\n",
       "      <td>163.914246</td>\n",
       "      <td>68.341475</td>\n",
       "      <td>24.629749</td>\n",
       "      <td>10153.936435</td>\n",
       "    </tr>\n",
       "  </tbody>\n",
       "</table>\n",
       "<p>257 rows × 6 columns</p>\n",
       "</div>"
      ],
      "text/plain": [
       "     Gender Economic Status      Height     Weight        Age        Income\n",
       "1    Female    Middle class  179.776270  68.147630  24.408609  10159.485630\n",
       "5    Female    Middle class  165.987782  79.952115  27.991755  12320.905836\n",
       "9    Female            Rich  221.292812  86.424830  23.960757   7523.857691\n",
       "10   Female    Middle class  149.489786  78.749022  25.017539  11592.978616\n",
       "12   Female            Poor  165.670967  77.484669  27.165301   8731.469994\n",
       "..      ...             ...         ...        ...        ...           ...\n",
       "490  Female    Middle class  185.056102  77.538225  23.440226  11907.145551\n",
       "496  Female    Middle class  162.536025  83.609179  27.592087   9707.907582\n",
       "497  Female            Rich  180.014106  77.889163  27.009013  11040.160852\n",
       "498  Female            Poor  167.950743  55.873577  26.916184   8878.812006\n",
       "499  Female            Poor  163.914246  68.341475  24.629749  10153.936435\n",
       "\n",
       "[257 rows x 6 columns]"
      ]
     },
     "execution_count": 71,
     "metadata": {},
     "output_type": "execute_result"
    }
   ],
   "source": [
    "grouped_gender.get_group('Female')\n",
    "#Genera un data con la categoría agrupada"
   ]
  },
  {
   "cell_type": "code",
   "execution_count": 73,
   "metadata": {},
   "outputs": [],
   "source": [
    "double_group = data.groupby(['Gender','Economic Status'])"
   ]
  },
  {
   "cell_type": "code",
   "execution_count": 74,
   "metadata": {},
   "outputs": [
    {
     "data": {
      "text/plain": [
       "6"
      ]
     },
     "execution_count": 74,
     "metadata": {},
     "output_type": "execute_result"
    }
   ],
   "source": [
    "len(double_group)"
   ]
  },
  {
   "cell_type": "code",
   "execution_count": 75,
   "metadata": {},
   "outputs": [
    {
     "name": "stdout",
     "output_type": "stream",
     "text": [
      "('Female', 'Middle class')\n",
      "     Gender Economic Status      Height     Weight        Age        Income\n",
      "1    Female    Middle class  179.776270  68.147630  24.408609  10159.485630\n",
      "5    Female    Middle class  165.987782  79.952115  27.991755  12320.905836\n",
      "10   Female    Middle class  149.489786  78.749022  25.017539  11592.978616\n",
      "16   Female    Middle class  207.818341  82.477415  27.908493  10068.596444\n",
      "17   Female    Middle class  188.319510  69.507695  25.695462   9453.972271\n",
      "..      ...             ...         ...        ...        ...           ...\n",
      "483  Female    Middle class  176.937156  58.622912  25.174949   6769.215773\n",
      "486  Female    Middle class  162.300062  73.168366  26.177173  11131.819762\n",
      "487  Female    Middle class  148.330604  67.526873  27.713464   9772.310335\n",
      "490  Female    Middle class  185.056102  77.538225  23.440226  11907.145551\n",
      "496  Female    Middle class  162.536025  83.609179  27.592087   9707.907582\n",
      "\n",
      "[90 rows x 6 columns]\n",
      "('Female', 'Poor')\n",
      "     Gender Economic Status      Height     Weight        Age        Income\n",
      "12   Female            Poor  165.670967  77.484669  27.165301   8731.469994\n",
      "18   Female            Poor  181.904892  85.273082  23.336296  10762.226387\n",
      "21   Female            Poor  213.337754  68.429063  24.980897  11114.078160\n",
      "22   Female            Poor  170.449533  73.716436  25.448289  11467.837811\n",
      "32   Female            Poor  180.656438  84.129297  25.456945  10044.867615\n",
      "..      ...             ...         ...        ...        ...           ...\n",
      "476  Female            Poor  217.428383  83.766488  26.140473   9789.733350\n",
      "488  Female            Poor  151.203662  89.268477  26.367646  12625.681296\n",
      "489  Female            Poor  212.742674  81.853540  24.648980   9802.444721\n",
      "498  Female            Poor  167.950743  55.873577  26.916184   8878.812006\n",
      "499  Female            Poor  163.914246  68.341475  24.629749  10153.936435\n",
      "\n",
      "[87 rows x 6 columns]\n",
      "('Female', 'Rich')\n",
      "     Gender Economic Status      Height     Weight        Age        Income\n",
      "9    Female            Rich  221.292812  86.424830  23.960757   7523.857691\n",
      "26   Female            Rich  184.320339  74.375056  23.163736   8513.739774\n",
      "29   Female            Rich  162.027801  84.634528  24.708711  12557.494620\n",
      "31   Female            Rich  173.399319  72.979361  27.475452  10807.717169\n",
      "39   Female            Rich  135.445965  64.197534  27.934437  11743.028820\n",
      "..      ...             ...         ...        ...        ...           ...\n",
      "481  Female            Rich  179.775990  73.765367  25.917376  11776.871458\n",
      "482  Female            Rich  132.281831  77.778398  26.538165  10237.781219\n",
      "484  Female            Rich  225.741141  89.532184  27.571033   9220.148506\n",
      "485  Female            Rich  176.609300  88.482384  23.438150  11265.171144\n",
      "497  Female            Rich  180.014106  77.889163  27.009013  11040.160852\n",
      "\n",
      "[80 rows x 6 columns]\n",
      "('Male', 'Middle class')\n",
      "    Gender Economic Status      Height      Weight        Age        Income\n",
      "4     Male    Middle class  181.935520   76.588743  24.195520   7353.294838\n",
      "6     Male    Middle class  154.985199   64.841442  23.038747  13103.789290\n",
      "14    Male    Middle class  166.721814   83.897544  23.946016  11518.917764\n",
      "19    Male    Middle class  171.874412   54.916622  24.048576  13364.415448\n",
      "27    Male    Middle class  227.876885   75.333313  26.703534  10016.792500\n",
      "..     ...             ...         ...         ...        ...           ...\n",
      "474   Male    Middle class  170.847881   89.261730  23.615722  10223.374040\n",
      "475   Male    Middle class  170.163410  104.168568  27.515082   8422.626502\n",
      "478   Male    Middle class  226.419385   83.994357  27.472313  12850.328787\n",
      "492   Male    Middle class  193.693986   72.145133  24.636705   9514.052727\n",
      "494   Male    Middle class  175.403276   75.969188  24.719752  10764.978367\n",
      "\n",
      "[90 rows x 6 columns]\n",
      "('Male', 'Poor')\n",
      "    Gender Economic Status      Height     Weight        Age        Income\n",
      "2     Male            Poor  187.515561  83.580399  23.943324   9091.173085\n",
      "3     Male            Poor  201.956007  93.062869  27.974786   9336.239503\n",
      "11    Male            Poor  163.454278  74.971836  23.341737   9966.798596\n",
      "13    Male            Poor  187.817165  90.540501  24.014477   8378.951563\n",
      "23    Male            Poor  174.315485  92.614783  25.035070   9664.657673\n",
      "..     ...             ...         ...        ...        ...           ...\n",
      "462   Male            Poor  168.426745  72.723624  25.103556  11274.604891\n",
      "468   Male            Poor  160.834220  74.183560  24.640120   9557.326406\n",
      "470   Male            Poor  131.166497  95.204715  25.157782   9204.214978\n",
      "480   Male            Poor  175.533206  55.052126  25.201203   9876.595843\n",
      "491   Male            Poor  155.947060  74.636035  26.126860   9915.506367\n",
      "\n",
      "[78 rows x 6 columns]\n",
      "('Male', 'Rich')\n",
      "    Gender Economic Status      Height     Weight        Age        Income\n",
      "0     Male            Rich  194.151273  70.909719  26.567502  11006.607984\n",
      "7     Male            Rich  160.710501  71.584022  25.717571  13052.096837\n",
      "8     Male            Rich  166.406356  79.827864  23.070211   9837.274726\n",
      "15    Male            Rich  159.423525  95.928872  27.440074  11816.922465\n",
      "20    Male            Rich  172.696269  64.101494  26.889877   9350.388313\n",
      "..     ...             ...         ...        ...        ...           ...\n",
      "452   Male            Rich  151.624446  54.135862  26.338674   9955.947202\n",
      "467   Male            Rich  140.953972  81.425739  27.465175  10006.804993\n",
      "471   Male            Rich  176.205408  85.203432  25.749643   9835.470325\n",
      "493   Male            Rich  232.108297  83.307154  23.901952  11497.932304\n",
      "495   Male            Rich  173.975337  60.280037  24.753396   9650.517627\n",
      "\n",
      "[75 rows x 6 columns]\n"
     ]
    }
   ],
   "source": [
    "for names, groups in double_group:\n",
    "    print(names)\n",
    "    print(groups)\n"
   ]
  },
  {
   "cell_type": "markdown",
   "metadata": {},
   "source": [
    "### Operaciones sobre datos agrupados "
   ]
  },
  {
   "cell_type": "code",
   "execution_count": 82,
   "metadata": {},
   "outputs": [
    {
     "data": {
      "text/html": [
       "<div>\n",
       "<style scoped>\n",
       "    .dataframe tbody tr th:only-of-type {\n",
       "        vertical-align: middle;\n",
       "    }\n",
       "\n",
       "    .dataframe tbody tr th {\n",
       "        vertical-align: top;\n",
       "    }\n",
       "\n",
       "    .dataframe thead th {\n",
       "        text-align: right;\n",
       "    }\n",
       "</style>\n",
       "<table border=\"1\" class=\"dataframe\">\n",
       "  <thead>\n",
       "    <tr style=\"text-align: right;\">\n",
       "      <th></th>\n",
       "      <th></th>\n",
       "      <th>Height</th>\n",
       "      <th>Weight</th>\n",
       "      <th>Age</th>\n",
       "      <th>Income</th>\n",
       "    </tr>\n",
       "    <tr>\n",
       "      <th>Gender</th>\n",
       "      <th>Economic Status</th>\n",
       "      <th></th>\n",
       "      <th></th>\n",
       "      <th></th>\n",
       "      <th></th>\n",
       "    </tr>\n",
       "  </thead>\n",
       "  <tbody>\n",
       "    <tr>\n",
       "      <th rowspan=\"3\" valign=\"top\">Female</th>\n",
       "      <th>Middle class</th>\n",
       "      <td>178.474650</td>\n",
       "      <td>72.365308</td>\n",
       "      <td>25.705737</td>\n",
       "      <td>10031.782355</td>\n",
       "    </tr>\n",
       "    <tr>\n",
       "      <th>Poor</th>\n",
       "      <td>176.125963</td>\n",
       "      <td>72.753501</td>\n",
       "      <td>25.553813</td>\n",
       "      <td>10223.623702</td>\n",
       "    </tr>\n",
       "    <tr>\n",
       "      <th>Rich</th>\n",
       "      <td>178.435420</td>\n",
       "      <td>75.373635</td>\n",
       "      <td>25.649573</td>\n",
       "      <td>10069.692252</td>\n",
       "    </tr>\n",
       "    <tr>\n",
       "      <th rowspan=\"3\" valign=\"top\">Male</th>\n",
       "      <th>Middle class</th>\n",
       "      <td>176.898257</td>\n",
       "      <td>76.325145</td>\n",
       "      <td>25.609878</td>\n",
       "      <td>9980.365278</td>\n",
       "    </tr>\n",
       "    <tr>\n",
       "      <th>Poor</th>\n",
       "      <td>179.173237</td>\n",
       "      <td>75.710984</td>\n",
       "      <td>25.493134</td>\n",
       "      <td>9895.211297</td>\n",
       "    </tr>\n",
       "    <tr>\n",
       "      <th>Rich</th>\n",
       "      <td>180.233725</td>\n",
       "      <td>74.240281</td>\n",
       "      <td>25.592277</td>\n",
       "      <td>10180.676861</td>\n",
       "    </tr>\n",
       "  </tbody>\n",
       "</table>\n",
       "</div>"
      ],
      "text/plain": [
       "                            Height     Weight        Age        Income\n",
       "Gender Economic Status                                                \n",
       "Female Middle class     178.474650  72.365308  25.705737  10031.782355\n",
       "       Poor             176.125963  72.753501  25.553813  10223.623702\n",
       "       Rich             178.435420  75.373635  25.649573  10069.692252\n",
       "Male   Middle class     176.898257  76.325145  25.609878   9980.365278\n",
       "       Poor             179.173237  75.710984  25.493134   9895.211297\n",
       "       Rich             180.233725  74.240281  25.592277  10180.676861"
      ]
     },
     "execution_count": 82,
     "metadata": {},
     "output_type": "execute_result"
    }
   ],
   "source": [
    "double_group.mean() #método mean"
   ]
  },
  {
   "cell_type": "code",
   "execution_count": 83,
   "metadata": {},
   "outputs": [
    {
     "data": {
      "text/plain": [
       "Gender  Economic Status\n",
       "Female  Middle class       90\n",
       "        Poor               87\n",
       "        Rich               80\n",
       "Male    Middle class       90\n",
       "        Poor               78\n",
       "        Rich               75\n",
       "dtype: int64"
      ]
     },
     "execution_count": 83,
     "metadata": {},
     "output_type": "execute_result"
    }
   ],
   "source": [
    "double_group.size() # método size"
   ]
  },
  {
   "cell_type": "code",
   "execution_count": 84,
   "metadata": {},
   "outputs": [
    {
     "data": {
      "text/html": [
       "<div>\n",
       "<style scoped>\n",
       "    .dataframe tbody tr th:only-of-type {\n",
       "        vertical-align: middle;\n",
       "    }\n",
       "\n",
       "    .dataframe tbody tr th {\n",
       "        vertical-align: top;\n",
       "    }\n",
       "\n",
       "    .dataframe thead tr th {\n",
       "        text-align: left;\n",
       "    }\n",
       "\n",
       "    .dataframe thead tr:last-of-type th {\n",
       "        text-align: right;\n",
       "    }\n",
       "</style>\n",
       "<table border=\"1\" class=\"dataframe\">\n",
       "  <thead>\n",
       "    <tr>\n",
       "      <th></th>\n",
       "      <th></th>\n",
       "      <th colspan=\"8\" halign=\"left\">Height</th>\n",
       "      <th colspan=\"2\" halign=\"left\">Weight</th>\n",
       "      <th>...</th>\n",
       "      <th colspan=\"2\" halign=\"left\">Age</th>\n",
       "      <th colspan=\"8\" halign=\"left\">Income</th>\n",
       "    </tr>\n",
       "    <tr>\n",
       "      <th></th>\n",
       "      <th></th>\n",
       "      <th>count</th>\n",
       "      <th>mean</th>\n",
       "      <th>std</th>\n",
       "      <th>min</th>\n",
       "      <th>25%</th>\n",
       "      <th>50%</th>\n",
       "      <th>75%</th>\n",
       "      <th>max</th>\n",
       "      <th>count</th>\n",
       "      <th>mean</th>\n",
       "      <th>...</th>\n",
       "      <th>75%</th>\n",
       "      <th>max</th>\n",
       "      <th>count</th>\n",
       "      <th>mean</th>\n",
       "      <th>std</th>\n",
       "      <th>min</th>\n",
       "      <th>25%</th>\n",
       "      <th>50%</th>\n",
       "      <th>75%</th>\n",
       "      <th>max</th>\n",
       "    </tr>\n",
       "    <tr>\n",
       "      <th>Gender</th>\n",
       "      <th>Economic Status</th>\n",
       "      <th></th>\n",
       "      <th></th>\n",
       "      <th></th>\n",
       "      <th></th>\n",
       "      <th></th>\n",
       "      <th></th>\n",
       "      <th></th>\n",
       "      <th></th>\n",
       "      <th></th>\n",
       "      <th></th>\n",
       "      <th></th>\n",
       "      <th></th>\n",
       "      <th></th>\n",
       "      <th></th>\n",
       "      <th></th>\n",
       "      <th></th>\n",
       "      <th></th>\n",
       "      <th></th>\n",
       "      <th></th>\n",
       "      <th></th>\n",
       "      <th></th>\n",
       "    </tr>\n",
       "  </thead>\n",
       "  <tbody>\n",
       "    <tr>\n",
       "      <th rowspan=\"3\" valign=\"top\">Female</th>\n",
       "      <th>Middle class</th>\n",
       "      <td>90.0</td>\n",
       "      <td>178.474650</td>\n",
       "      <td>23.636918</td>\n",
       "      <td>110.500623</td>\n",
       "      <td>162.808926</td>\n",
       "      <td>179.464790</td>\n",
       "      <td>191.535650</td>\n",
       "      <td>253.577365</td>\n",
       "      <td>90.0</td>\n",
       "      <td>72.365308</td>\n",
       "      <td>...</td>\n",
       "      <td>26.954475</td>\n",
       "      <td>27.993217</td>\n",
       "      <td>90.0</td>\n",
       "      <td>10031.782355</td>\n",
       "      <td>1541.684762</td>\n",
       "      <td>6769.215773</td>\n",
       "      <td>9039.687500</td>\n",
       "      <td>9803.800557</td>\n",
       "      <td>11099.708927</td>\n",
       "      <td>14329.958066</td>\n",
       "    </tr>\n",
       "    <tr>\n",
       "      <th>Poor</th>\n",
       "      <td>87.0</td>\n",
       "      <td>176.125963</td>\n",
       "      <td>24.404245</td>\n",
       "      <td>120.100648</td>\n",
       "      <td>157.168582</td>\n",
       "      <td>173.595366</td>\n",
       "      <td>191.119833</td>\n",
       "      <td>244.794654</td>\n",
       "      <td>87.0</td>\n",
       "      <td>72.753501</td>\n",
       "      <td>...</td>\n",
       "      <td>26.882142</td>\n",
       "      <td>27.915247</td>\n",
       "      <td>87.0</td>\n",
       "      <td>10223.623702</td>\n",
       "      <td>1567.079135</td>\n",
       "      <td>6096.494414</td>\n",
       "      <td>9209.600785</td>\n",
       "      <td>10153.936435</td>\n",
       "      <td>11089.128126</td>\n",
       "      <td>14189.823602</td>\n",
       "    </tr>\n",
       "    <tr>\n",
       "      <th>Rich</th>\n",
       "      <td>80.0</td>\n",
       "      <td>178.435420</td>\n",
       "      <td>26.445047</td>\n",
       "      <td>105.608956</td>\n",
       "      <td>163.533054</td>\n",
       "      <td>179.109868</td>\n",
       "      <td>194.538685</td>\n",
       "      <td>245.455760</td>\n",
       "      <td>80.0</td>\n",
       "      <td>75.373635</td>\n",
       "      <td>...</td>\n",
       "      <td>27.020320</td>\n",
       "      <td>27.934437</td>\n",
       "      <td>80.0</td>\n",
       "      <td>10069.692252</td>\n",
       "      <td>1484.586233</td>\n",
       "      <td>6473.254621</td>\n",
       "      <td>9128.320173</td>\n",
       "      <td>9932.895800</td>\n",
       "      <td>11279.741356</td>\n",
       "      <td>12861.770332</td>\n",
       "    </tr>\n",
       "    <tr>\n",
       "      <th rowspan=\"3\" valign=\"top\">Male</th>\n",
       "      <th>Middle class</th>\n",
       "      <td>90.0</td>\n",
       "      <td>176.898257</td>\n",
       "      <td>24.633642</td>\n",
       "      <td>126.287377</td>\n",
       "      <td>160.726865</td>\n",
       "      <td>175.083127</td>\n",
       "      <td>190.642662</td>\n",
       "      <td>256.206528</td>\n",
       "      <td>90.0</td>\n",
       "      <td>76.325145</td>\n",
       "      <td>...</td>\n",
       "      <td>27.109043</td>\n",
       "      <td>27.878705</td>\n",
       "      <td>90.0</td>\n",
       "      <td>9980.365278</td>\n",
       "      <td>1437.598311</td>\n",
       "      <td>7190.745192</td>\n",
       "      <td>9040.594870</td>\n",
       "      <td>9775.540455</td>\n",
       "      <td>11066.360124</td>\n",
       "      <td>13364.415448</td>\n",
       "    </tr>\n",
       "    <tr>\n",
       "      <th>Poor</th>\n",
       "      <td>78.0</td>\n",
       "      <td>179.173237</td>\n",
       "      <td>22.309181</td>\n",
       "      <td>125.467446</td>\n",
       "      <td>164.986790</td>\n",
       "      <td>181.489969</td>\n",
       "      <td>194.844595</td>\n",
       "      <td>231.350822</td>\n",
       "      <td>78.0</td>\n",
       "      <td>75.710984</td>\n",
       "      <td>...</td>\n",
       "      <td>26.705296</td>\n",
       "      <td>27.974786</td>\n",
       "      <td>78.0</td>\n",
       "      <td>9895.211297</td>\n",
       "      <td>1520.495617</td>\n",
       "      <td>5961.108761</td>\n",
       "      <td>9092.454865</td>\n",
       "      <td>9688.146007</td>\n",
       "      <td>10904.523013</td>\n",
       "      <td>14020.525437</td>\n",
       "    </tr>\n",
       "    <tr>\n",
       "      <th>Rich</th>\n",
       "      <td>75.0</td>\n",
       "      <td>180.233725</td>\n",
       "      <td>24.425855</td>\n",
       "      <td>115.749197</td>\n",
       "      <td>165.356353</td>\n",
       "      <td>180.870428</td>\n",
       "      <td>195.288545</td>\n",
       "      <td>232.108297</td>\n",
       "      <td>75.0</td>\n",
       "      <td>74.240281</td>\n",
       "      <td>...</td>\n",
       "      <td>26.893901</td>\n",
       "      <td>27.985732</td>\n",
       "      <td>75.0</td>\n",
       "      <td>10180.676861</td>\n",
       "      <td>1407.707846</td>\n",
       "      <td>6440.440664</td>\n",
       "      <td>9281.006352</td>\n",
       "      <td>10139.438548</td>\n",
       "      <td>11133.045454</td>\n",
       "      <td>14398.978899</td>\n",
       "    </tr>\n",
       "  </tbody>\n",
       "</table>\n",
       "<p>6 rows × 32 columns</p>\n",
       "</div>"
      ],
      "text/plain": [
       "                       Height                                                 \\\n",
       "                        count        mean        std         min         25%   \n",
       "Gender Economic Status                                                         \n",
       "Female Middle class      90.0  178.474650  23.636918  110.500623  162.808926   \n",
       "       Poor              87.0  176.125963  24.404245  120.100648  157.168582   \n",
       "       Rich              80.0  178.435420  26.445047  105.608956  163.533054   \n",
       "Male   Middle class      90.0  176.898257  24.633642  126.287377  160.726865   \n",
       "       Poor              78.0  179.173237  22.309181  125.467446  164.986790   \n",
       "       Rich              75.0  180.233725  24.425855  115.749197  165.356353   \n",
       "\n",
       "                                                           Weight             \\\n",
       "                               50%         75%         max  count       mean   \n",
       "Gender Economic Status                                                         \n",
       "Female Middle class     179.464790  191.535650  253.577365   90.0  72.365308   \n",
       "       Poor             173.595366  191.119833  244.794654   87.0  72.753501   \n",
       "       Rich             179.109868  194.538685  245.455760   80.0  75.373635   \n",
       "Male   Middle class     175.083127  190.642662  256.206528   90.0  76.325145   \n",
       "       Poor             181.489969  194.844595  231.350822   78.0  75.710984   \n",
       "       Rich             180.870428  195.288545  232.108297   75.0  74.240281   \n",
       "\n",
       "                        ...        Age            Income                \\\n",
       "                        ...        75%        max  count          mean   \n",
       "Gender Economic Status  ...                                              \n",
       "Female Middle class     ...  26.954475  27.993217   90.0  10031.782355   \n",
       "       Poor             ...  26.882142  27.915247   87.0  10223.623702   \n",
       "       Rich             ...  27.020320  27.934437   80.0  10069.692252   \n",
       "Male   Middle class     ...  27.109043  27.878705   90.0   9980.365278   \n",
       "       Poor             ...  26.705296  27.974786   78.0   9895.211297   \n",
       "       Rich             ...  26.893901  27.985732   75.0  10180.676861   \n",
       "\n",
       "                                                                             \\\n",
       "                                std          min          25%           50%   \n",
       "Gender Economic Status                                                        \n",
       "Female Middle class     1541.684762  6769.215773  9039.687500   9803.800557   \n",
       "       Poor             1567.079135  6096.494414  9209.600785  10153.936435   \n",
       "       Rich             1484.586233  6473.254621  9128.320173   9932.895800   \n",
       "Male   Middle class     1437.598311  7190.745192  9040.594870   9775.540455   \n",
       "       Poor             1520.495617  5961.108761  9092.454865   9688.146007   \n",
       "       Rich             1407.707846  6440.440664  9281.006352  10139.438548   \n",
       "\n",
       "                                                    \n",
       "                                 75%           max  \n",
       "Gender Economic Status                              \n",
       "Female Middle class     11099.708927  14329.958066  \n",
       "       Poor             11089.128126  14189.823602  \n",
       "       Rich             11279.741356  12861.770332  \n",
       "Male   Middle class     11066.360124  13364.415448  \n",
       "       Poor             10904.523013  14020.525437  \n",
       "       Rich             11133.045454  14398.978899  \n",
       "\n",
       "[6 rows x 32 columns]"
      ]
     },
     "execution_count": 84,
     "metadata": {},
     "output_type": "execute_result"
    }
   ],
   "source": [
    "double_group.describe()"
   ]
  },
  {
   "cell_type": "code",
   "execution_count": 85,
   "metadata": {},
   "outputs": [],
   "source": [
    "grouped_income = double_group['Income']"
   ]
  },
  {
   "cell_type": "code",
   "execution_count": 86,
   "metadata": {},
   "outputs": [
    {
     "data": {
      "text/html": [
       "<div>\n",
       "<style scoped>\n",
       "    .dataframe tbody tr th:only-of-type {\n",
       "        vertical-align: middle;\n",
       "    }\n",
       "\n",
       "    .dataframe tbody tr th {\n",
       "        vertical-align: top;\n",
       "    }\n",
       "\n",
       "    .dataframe thead th {\n",
       "        text-align: right;\n",
       "    }\n",
       "</style>\n",
       "<table border=\"1\" class=\"dataframe\">\n",
       "  <thead>\n",
       "    <tr style=\"text-align: right;\">\n",
       "      <th></th>\n",
       "      <th></th>\n",
       "      <th>count</th>\n",
       "      <th>mean</th>\n",
       "      <th>std</th>\n",
       "      <th>min</th>\n",
       "      <th>25%</th>\n",
       "      <th>50%</th>\n",
       "      <th>75%</th>\n",
       "      <th>max</th>\n",
       "    </tr>\n",
       "    <tr>\n",
       "      <th>Gender</th>\n",
       "      <th>Economic Status</th>\n",
       "      <th></th>\n",
       "      <th></th>\n",
       "      <th></th>\n",
       "      <th></th>\n",
       "      <th></th>\n",
       "      <th></th>\n",
       "      <th></th>\n",
       "      <th></th>\n",
       "    </tr>\n",
       "  </thead>\n",
       "  <tbody>\n",
       "    <tr>\n",
       "      <th rowspan=\"3\" valign=\"top\">Female</th>\n",
       "      <th>Middle class</th>\n",
       "      <td>90.0</td>\n",
       "      <td>10031.782355</td>\n",
       "      <td>1541.684762</td>\n",
       "      <td>6769.215773</td>\n",
       "      <td>9039.687500</td>\n",
       "      <td>9803.800557</td>\n",
       "      <td>11099.708927</td>\n",
       "      <td>14329.958066</td>\n",
       "    </tr>\n",
       "    <tr>\n",
       "      <th>Poor</th>\n",
       "      <td>87.0</td>\n",
       "      <td>10223.623702</td>\n",
       "      <td>1567.079135</td>\n",
       "      <td>6096.494414</td>\n",
       "      <td>9209.600785</td>\n",
       "      <td>10153.936435</td>\n",
       "      <td>11089.128126</td>\n",
       "      <td>14189.823602</td>\n",
       "    </tr>\n",
       "    <tr>\n",
       "      <th>Rich</th>\n",
       "      <td>80.0</td>\n",
       "      <td>10069.692252</td>\n",
       "      <td>1484.586233</td>\n",
       "      <td>6473.254621</td>\n",
       "      <td>9128.320173</td>\n",
       "      <td>9932.895800</td>\n",
       "      <td>11279.741356</td>\n",
       "      <td>12861.770332</td>\n",
       "    </tr>\n",
       "    <tr>\n",
       "      <th rowspan=\"3\" valign=\"top\">Male</th>\n",
       "      <th>Middle class</th>\n",
       "      <td>90.0</td>\n",
       "      <td>9980.365278</td>\n",
       "      <td>1437.598311</td>\n",
       "      <td>7190.745192</td>\n",
       "      <td>9040.594870</td>\n",
       "      <td>9775.540455</td>\n",
       "      <td>11066.360124</td>\n",
       "      <td>13364.415448</td>\n",
       "    </tr>\n",
       "    <tr>\n",
       "      <th>Poor</th>\n",
       "      <td>78.0</td>\n",
       "      <td>9895.211297</td>\n",
       "      <td>1520.495617</td>\n",
       "      <td>5961.108761</td>\n",
       "      <td>9092.454865</td>\n",
       "      <td>9688.146007</td>\n",
       "      <td>10904.523013</td>\n",
       "      <td>14020.525437</td>\n",
       "    </tr>\n",
       "    <tr>\n",
       "      <th>Rich</th>\n",
       "      <td>75.0</td>\n",
       "      <td>10180.676861</td>\n",
       "      <td>1407.707846</td>\n",
       "      <td>6440.440664</td>\n",
       "      <td>9281.006352</td>\n",
       "      <td>10139.438548</td>\n",
       "      <td>11133.045454</td>\n",
       "      <td>14398.978899</td>\n",
       "    </tr>\n",
       "  </tbody>\n",
       "</table>\n",
       "</div>"
      ],
      "text/plain": [
       "                        count          mean          std          min  \\\n",
       "Gender Economic Status                                                  \n",
       "Female Middle class      90.0  10031.782355  1541.684762  6769.215773   \n",
       "       Poor              87.0  10223.623702  1567.079135  6096.494414   \n",
       "       Rich              80.0  10069.692252  1484.586233  6473.254621   \n",
       "Male   Middle class      90.0   9980.365278  1437.598311  7190.745192   \n",
       "       Poor              78.0   9895.211297  1520.495617  5961.108761   \n",
       "       Rich              75.0  10180.676861  1407.707846  6440.440664   \n",
       "\n",
       "                                25%           50%           75%           max  \n",
       "Gender Economic Status                                                         \n",
       "Female Middle class     9039.687500   9803.800557  11099.708927  14329.958066  \n",
       "       Poor             9209.600785  10153.936435  11089.128126  14189.823602  \n",
       "       Rich             9128.320173   9932.895800  11279.741356  12861.770332  \n",
       "Male   Middle class     9040.594870   9775.540455  11066.360124  13364.415448  \n",
       "       Poor             9092.454865   9688.146007  10904.523013  14020.525437  \n",
       "       Rich             9281.006352  10139.438548  11133.045454  14398.978899  "
      ]
     },
     "execution_count": 86,
     "metadata": {},
     "output_type": "execute_result"
    }
   ],
   "source": [
    "grouped_income.describe()"
   ]
  },
  {
   "cell_type": "code",
   "execution_count": 88,
   "metadata": {},
   "outputs": [
    {
     "data": {
      "text/html": [
       "<div>\n",
       "<style scoped>\n",
       "    .dataframe tbody tr th:only-of-type {\n",
       "        vertical-align: middle;\n",
       "    }\n",
       "\n",
       "    .dataframe tbody tr th {\n",
       "        vertical-align: top;\n",
       "    }\n",
       "\n",
       "    .dataframe thead th {\n",
       "        text-align: right;\n",
       "    }\n",
       "</style>\n",
       "<table border=\"1\" class=\"dataframe\">\n",
       "  <thead>\n",
       "    <tr style=\"text-align: right;\">\n",
       "      <th></th>\n",
       "      <th></th>\n",
       "      <th>Income</th>\n",
       "      <th>Age</th>\n",
       "      <th>Height</th>\n",
       "    </tr>\n",
       "    <tr>\n",
       "      <th>Gender</th>\n",
       "      <th>Economic Status</th>\n",
       "      <th></th>\n",
       "      <th></th>\n",
       "      <th></th>\n",
       "    </tr>\n",
       "  </thead>\n",
       "  <tbody>\n",
       "    <tr>\n",
       "      <th rowspan=\"3\" valign=\"top\">Female</th>\n",
       "      <th>Middle class</th>\n",
       "      <td>90.0</td>\n",
       "      <td>25.705737</td>\n",
       "      <td>23.636918</td>\n",
       "    </tr>\n",
       "    <tr>\n",
       "      <th>Poor</th>\n",
       "      <td>87.0</td>\n",
       "      <td>25.553813</td>\n",
       "      <td>24.404245</td>\n",
       "    </tr>\n",
       "    <tr>\n",
       "      <th>Rich</th>\n",
       "      <td>80.0</td>\n",
       "      <td>25.649573</td>\n",
       "      <td>26.445047</td>\n",
       "    </tr>\n",
       "    <tr>\n",
       "      <th rowspan=\"3\" valign=\"top\">Male</th>\n",
       "      <th>Middle class</th>\n",
       "      <td>90.0</td>\n",
       "      <td>25.609878</td>\n",
       "      <td>24.633642</td>\n",
       "    </tr>\n",
       "    <tr>\n",
       "      <th>Poor</th>\n",
       "      <td>78.0</td>\n",
       "      <td>25.493134</td>\n",
       "      <td>22.309181</td>\n",
       "    </tr>\n",
       "    <tr>\n",
       "      <th>Rich</th>\n",
       "      <td>75.0</td>\n",
       "      <td>25.592277</td>\n",
       "      <td>24.425855</td>\n",
       "    </tr>\n",
       "  </tbody>\n",
       "</table>\n",
       "</div>"
      ],
      "text/plain": [
       "                        Income        Age     Height\n",
       "Gender Economic Status                              \n",
       "Female Middle class       90.0  25.705737  23.636918\n",
       "       Poor               87.0  25.553813  24.404245\n",
       "       Rich               80.0  25.649573  26.445047\n",
       "Male   Middle class       90.0  25.609878  24.633642\n",
       "       Poor               78.0  25.493134  22.309181\n",
       "       Rich               75.0  25.592277  24.425855"
      ]
     },
     "execution_count": 88,
     "metadata": {},
     "output_type": "execute_result"
    }
   ],
   "source": [
    "#Methods: mean std, size, median\n",
    "double_group.aggregate(\n",
    "{\n",
    "    'Income': np.size,\n",
    "    'Age':np.mean,\n",
    "    'Height':np.std\n",
    "}\n",
    ")"
   ]
  },
  {
   "cell_type": "code",
   "execution_count": 94,
   "metadata": {},
   "outputs": [
    {
     "data": {
      "text/html": [
       "<div>\n",
       "<style scoped>\n",
       "    .dataframe tbody tr th:only-of-type {\n",
       "        vertical-align: middle;\n",
       "    }\n",
       "\n",
       "    .dataframe tbody tr th {\n",
       "        vertical-align: top;\n",
       "    }\n",
       "\n",
       "    .dataframe thead th {\n",
       "        text-align: right;\n",
       "    }\n",
       "</style>\n",
       "<table border=\"1\" class=\"dataframe\">\n",
       "  <thead>\n",
       "    <tr style=\"text-align: right;\">\n",
       "      <th></th>\n",
       "      <th></th>\n",
       "      <th>Age</th>\n",
       "      <th>Height</th>\n",
       "    </tr>\n",
       "    <tr>\n",
       "      <th>Gender</th>\n",
       "      <th>Economic Status</th>\n",
       "      <th></th>\n",
       "      <th></th>\n",
       "    </tr>\n",
       "  </thead>\n",
       "  <tbody>\n",
       "    <tr>\n",
       "      <th rowspan=\"3\" valign=\"top\">Female</th>\n",
       "      <th>Middle class</th>\n",
       "      <td>25.705737</td>\n",
       "      <td>7.592974</td>\n",
       "    </tr>\n",
       "    <tr>\n",
       "      <th>Poor</th>\n",
       "      <td>25.553813</td>\n",
       "      <td>7.258860</td>\n",
       "    </tr>\n",
       "    <tr>\n",
       "      <th>Rich</th>\n",
       "      <td>25.649573</td>\n",
       "      <td>6.789975</td>\n",
       "    </tr>\n",
       "    <tr>\n",
       "      <th rowspan=\"3\" valign=\"top\">Male</th>\n",
       "      <th>Middle class</th>\n",
       "      <td>25.609878</td>\n",
       "      <td>7.221396</td>\n",
       "    </tr>\n",
       "    <tr>\n",
       "      <th>Poor</th>\n",
       "      <td>25.493134</td>\n",
       "      <td>8.083351</td>\n",
       "    </tr>\n",
       "    <tr>\n",
       "      <th>Rich</th>\n",
       "      <td>25.592277</td>\n",
       "      <td>7.428499</td>\n",
       "    </tr>\n",
       "  </tbody>\n",
       "</table>\n",
       "</div>"
      ],
      "text/plain": [
       "                              Age    Height\n",
       "Gender Economic Status                     \n",
       "Female Middle class     25.705737  7.592974\n",
       "       Poor             25.553813  7.258860\n",
       "       Rich             25.649573  6.789975\n",
       "Male   Middle class     25.609878  7.221396\n",
       "       Poor             25.493134  8.083351\n",
       "       Rich             25.592277  7.428499"
      ]
     },
     "execution_count": 94,
     "metadata": {},
     "output_type": "execute_result"
    }
   ],
   "source": [
    "double_group.aggregate(\n",
    "    {\n",
    "        'Age':np.mean,\n",
    "        'Height': lambda h: np.mean(h)/np.std(h)\n",
    "    })"
   ]
  },
  {
   "cell_type": "code",
   "execution_count": 96,
   "metadata": {},
   "outputs": [
    {
     "data": {
      "text/html": [
       "<div>\n",
       "<style scoped>\n",
       "    .dataframe tbody tr th:only-of-type {\n",
       "        vertical-align: middle;\n",
       "    }\n",
       "\n",
       "    .dataframe tbody tr th {\n",
       "        vertical-align: top;\n",
       "    }\n",
       "\n",
       "    .dataframe thead tr th {\n",
       "        text-align: left;\n",
       "    }\n",
       "\n",
       "    .dataframe thead tr:last-of-type th {\n",
       "        text-align: right;\n",
       "    }\n",
       "</style>\n",
       "<table border=\"1\" class=\"dataframe\">\n",
       "  <thead>\n",
       "    <tr>\n",
       "      <th></th>\n",
       "      <th></th>\n",
       "      <th colspan=\"3\" halign=\"left\">Height</th>\n",
       "      <th colspan=\"3\" halign=\"left\">Weight</th>\n",
       "      <th colspan=\"3\" halign=\"left\">Age</th>\n",
       "      <th colspan=\"3\" halign=\"left\">Income</th>\n",
       "    </tr>\n",
       "    <tr>\n",
       "      <th></th>\n",
       "      <th></th>\n",
       "      <th>sum</th>\n",
       "      <th>mean</th>\n",
       "      <th>std</th>\n",
       "      <th>sum</th>\n",
       "      <th>mean</th>\n",
       "      <th>std</th>\n",
       "      <th>sum</th>\n",
       "      <th>mean</th>\n",
       "      <th>std</th>\n",
       "      <th>sum</th>\n",
       "      <th>mean</th>\n",
       "      <th>std</th>\n",
       "    </tr>\n",
       "    <tr>\n",
       "      <th>Gender</th>\n",
       "      <th>Economic Status</th>\n",
       "      <th></th>\n",
       "      <th></th>\n",
       "      <th></th>\n",
       "      <th></th>\n",
       "      <th></th>\n",
       "      <th></th>\n",
       "      <th></th>\n",
       "      <th></th>\n",
       "      <th></th>\n",
       "      <th></th>\n",
       "      <th></th>\n",
       "      <th></th>\n",
       "    </tr>\n",
       "  </thead>\n",
       "  <tbody>\n",
       "    <tr>\n",
       "      <th rowspan=\"3\" valign=\"top\">Female</th>\n",
       "      <th>Middle class</th>\n",
       "      <td>16062.718508</td>\n",
       "      <td>178.474650</td>\n",
       "      <td>23.636918</td>\n",
       "      <td>6512.877689</td>\n",
       "      <td>72.365308</td>\n",
       "      <td>12.237337</td>\n",
       "      <td>2313.516342</td>\n",
       "      <td>25.705737</td>\n",
       "      <td>1.431407</td>\n",
       "      <td>902860.411911</td>\n",
       "      <td>10031.782355</td>\n",
       "      <td>1541.684762</td>\n",
       "    </tr>\n",
       "    <tr>\n",
       "      <th>Poor</th>\n",
       "      <td>15322.958739</td>\n",
       "      <td>176.125963</td>\n",
       "      <td>24.404245</td>\n",
       "      <td>6329.554630</td>\n",
       "      <td>72.753501</td>\n",
       "      <td>11.779179</td>\n",
       "      <td>2223.181697</td>\n",
       "      <td>25.553813</td>\n",
       "      <td>1.478530</td>\n",
       "      <td>889455.262068</td>\n",
       "      <td>10223.623702</td>\n",
       "      <td>1567.079135</td>\n",
       "    </tr>\n",
       "    <tr>\n",
       "      <th>Rich</th>\n",
       "      <td>14274.833560</td>\n",
       "      <td>178.435420</td>\n",
       "      <td>26.445047</td>\n",
       "      <td>6029.890837</td>\n",
       "      <td>75.373635</td>\n",
       "      <td>10.475037</td>\n",
       "      <td>2051.965859</td>\n",
       "      <td>25.649573</td>\n",
       "      <td>1.448806</td>\n",
       "      <td>805575.380180</td>\n",
       "      <td>10069.692252</td>\n",
       "      <td>1484.586233</td>\n",
       "    </tr>\n",
       "    <tr>\n",
       "      <th rowspan=\"3\" valign=\"top\">Male</th>\n",
       "      <th>Middle class</th>\n",
       "      <td>15920.843088</td>\n",
       "      <td>176.898257</td>\n",
       "      <td>24.633642</td>\n",
       "      <td>6869.263013</td>\n",
       "      <td>76.325145</td>\n",
       "      <td>12.692397</td>\n",
       "      <td>2304.889026</td>\n",
       "      <td>25.609878</td>\n",
       "      <td>1.535422</td>\n",
       "      <td>898232.874989</td>\n",
       "      <td>9980.365278</td>\n",
       "      <td>1437.598311</td>\n",
       "    </tr>\n",
       "    <tr>\n",
       "      <th>Poor</th>\n",
       "      <td>13975.512463</td>\n",
       "      <td>179.173237</td>\n",
       "      <td>22.309181</td>\n",
       "      <td>5905.456739</td>\n",
       "      <td>75.710984</td>\n",
       "      <td>12.155475</td>\n",
       "      <td>1988.464466</td>\n",
       "      <td>25.493134</td>\n",
       "      <td>1.379489</td>\n",
       "      <td>771826.481184</td>\n",
       "      <td>9895.211297</td>\n",
       "      <td>1520.495617</td>\n",
       "    </tr>\n",
       "    <tr>\n",
       "      <th>Rich</th>\n",
       "      <td>13517.529360</td>\n",
       "      <td>180.233725</td>\n",
       "      <td>24.425855</td>\n",
       "      <td>5568.021075</td>\n",
       "      <td>74.240281</td>\n",
       "      <td>11.343290</td>\n",
       "      <td>1919.420805</td>\n",
       "      <td>25.592277</td>\n",
       "      <td>1.471274</td>\n",
       "      <td>763550.764555</td>\n",
       "      <td>10180.676861</td>\n",
       "      <td>1407.707846</td>\n",
       "    </tr>\n",
       "  </tbody>\n",
       "</table>\n",
       "</div>"
      ],
      "text/plain": [
       "                              Height                              Weight  \\\n",
       "                                 sum        mean        std          sum   \n",
       "Gender Economic Status                                                     \n",
       "Female Middle class     16062.718508  178.474650  23.636918  6512.877689   \n",
       "       Poor             15322.958739  176.125963  24.404245  6329.554630   \n",
       "       Rich             14274.833560  178.435420  26.445047  6029.890837   \n",
       "Male   Middle class     15920.843088  176.898257  24.633642  6869.263013   \n",
       "       Poor             13975.512463  179.173237  22.309181  5905.456739   \n",
       "       Rich             13517.529360  180.233725  24.425855  5568.021075   \n",
       "\n",
       "                                                      Age             \\\n",
       "                             mean        std          sum       mean   \n",
       "Gender Economic Status                                                 \n",
       "Female Middle class     72.365308  12.237337  2313.516342  25.705737   \n",
       "       Poor             72.753501  11.779179  2223.181697  25.553813   \n",
       "       Rich             75.373635  10.475037  2051.965859  25.649573   \n",
       "Male   Middle class     76.325145  12.692397  2304.889026  25.609878   \n",
       "       Poor             75.710984  12.155475  1988.464466  25.493134   \n",
       "       Rich             74.240281  11.343290  1919.420805  25.592277   \n",
       "\n",
       "                                         Income                             \n",
       "                             std            sum          mean          std  \n",
       "Gender Economic Status                                                      \n",
       "Female Middle class     1.431407  902860.411911  10031.782355  1541.684762  \n",
       "       Poor             1.478530  889455.262068  10223.623702  1567.079135  \n",
       "       Rich             1.448806  805575.380180  10069.692252  1484.586233  \n",
       "Male   Middle class     1.535422  898232.874989   9980.365278  1437.598311  \n",
       "       Poor             1.379489  771826.481184   9895.211297  1520.495617  \n",
       "       Rich             1.471274  763550.764555  10180.676861  1407.707846  "
      ]
     },
     "execution_count": 96,
     "metadata": {},
     "output_type": "execute_result"
    }
   ],
   "source": [
    "double_group.aggregate([np.sum,np.mean,np.std]) #Varias funciones"
   ]
  },
  {
   "cell_type": "code",
   "execution_count": 98,
   "metadata": {},
   "outputs": [
    {
     "data": {
      "text/html": [
       "<div>\n",
       "<style scoped>\n",
       "    .dataframe tbody tr th:only-of-type {\n",
       "        vertical-align: middle;\n",
       "    }\n",
       "\n",
       "    .dataframe tbody tr th {\n",
       "        vertical-align: top;\n",
       "    }\n",
       "\n",
       "    .dataframe thead tr th {\n",
       "        text-align: left;\n",
       "    }\n",
       "\n",
       "    .dataframe thead tr:last-of-type th {\n",
       "        text-align: right;\n",
       "    }\n",
       "</style>\n",
       "<table border=\"1\" class=\"dataframe\">\n",
       "  <thead>\n",
       "    <tr>\n",
       "      <th></th>\n",
       "      <th></th>\n",
       "      <th>Height</th>\n",
       "      <th>Weight</th>\n",
       "      <th>Age</th>\n",
       "      <th>Income</th>\n",
       "    </tr>\n",
       "    <tr>\n",
       "      <th></th>\n",
       "      <th></th>\n",
       "      <th>&lt;lambda&gt;</th>\n",
       "      <th>&lt;lambda&gt;</th>\n",
       "      <th>&lt;lambda&gt;</th>\n",
       "      <th>&lt;lambda&gt;</th>\n",
       "    </tr>\n",
       "    <tr>\n",
       "      <th>Gender</th>\n",
       "      <th>Economic Status</th>\n",
       "      <th></th>\n",
       "      <th></th>\n",
       "      <th></th>\n",
       "      <th></th>\n",
       "    </tr>\n",
       "  </thead>\n",
       "  <tbody>\n",
       "    <tr>\n",
       "      <th rowspan=\"3\" valign=\"top\">Female</th>\n",
       "      <th>Middle class</th>\n",
       "      <td>7.592974</td>\n",
       "      <td>5.946614</td>\n",
       "      <td>18.058976</td>\n",
       "      <td>6.543480</td>\n",
       "    </tr>\n",
       "    <tr>\n",
       "      <th>Poor</th>\n",
       "      <td>7.258860</td>\n",
       "      <td>6.212255</td>\n",
       "      <td>17.383446</td>\n",
       "      <td>6.561820</td>\n",
       "    </tr>\n",
       "    <tr>\n",
       "      <th>Rich</th>\n",
       "      <td>6.789975</td>\n",
       "      <td>7.240946</td>\n",
       "      <td>17.815642</td>\n",
       "      <td>6.825622</td>\n",
       "    </tr>\n",
       "    <tr>\n",
       "      <th rowspan=\"3\" valign=\"top\">Male</th>\n",
       "      <th>Middle class</th>\n",
       "      <td>7.221396</td>\n",
       "      <td>6.047143</td>\n",
       "      <td>16.772819</td>\n",
       "      <td>6.981281</td>\n",
       "    </tr>\n",
       "    <tr>\n",
       "      <th>Poor</th>\n",
       "      <td>8.083351</td>\n",
       "      <td>6.268864</td>\n",
       "      <td>18.599748</td>\n",
       "      <td>6.550008</td>\n",
       "    </tr>\n",
       "    <tr>\n",
       "      <th>Rich</th>\n",
       "      <td>7.428499</td>\n",
       "      <td>6.588937</td>\n",
       "      <td>17.511770</td>\n",
       "      <td>7.280797</td>\n",
       "    </tr>\n",
       "  </tbody>\n",
       "</table>\n",
       "</div>"
      ],
      "text/plain": [
       "                          Height    Weight        Age    Income\n",
       "                        <lambda>  <lambda>   <lambda>  <lambda>\n",
       "Gender Economic Status                                         \n",
       "Female Middle class     7.592974  5.946614  18.058976  6.543480\n",
       "       Poor             7.258860  6.212255  17.383446  6.561820\n",
       "       Rich             6.789975  7.240946  17.815642  6.825622\n",
       "Male   Middle class     7.221396  6.047143  16.772819  6.981281\n",
       "       Poor             8.083351  6.268864  18.599748  6.550008\n",
       "       Rich             7.428499  6.588937  17.511770  7.280797"
      ]
     },
     "execution_count": 98,
     "metadata": {},
     "output_type": "execute_result"
    }
   ],
   "source": [
    "double_group.aggregate([lambda x: np.mean(x)/np.std(x)])"
   ]
  },
  {
   "cell_type": "markdown",
   "metadata": {},
   "source": [
    "### Filtrado de datos"
   ]
  },
  {
   "cell_type": "code",
   "execution_count": null,
   "metadata": {},
   "outputs": [],
   "source": [
    "# double_group['Age'].sum()"
   ]
  },
  {
   "cell_type": "code",
   "execution_count": 122,
   "metadata": {},
   "outputs": [
    {
     "data": {
      "text/plain": [
       "1      24.408609\n",
       "4      24.195520\n",
       "5      27.991755\n",
       "6      23.038747\n",
       "10     25.017539\n",
       "         ...    \n",
       "492    24.636705\n",
       "494    24.719752\n",
       "496    27.592087\n",
       "498    26.916184\n",
       "499    24.629749\n",
       "Name: Age, Length: 267, dtype: float64"
      ]
     },
     "execution_count": 122,
     "metadata": {},
     "output_type": "execute_result"
    }
   ],
   "source": [
    "double_group['Age'].filter(lambda x: x.sum() > 2200)"
   ]
  },
  {
   "cell_type": "markdown",
   "metadata": {},
   "source": [
    "### Transformación de variables"
   ]
  },
  {
   "cell_type": "code",
   "execution_count": 123,
   "metadata": {},
   "outputs": [],
   "source": [
    "zscore = lambda x: (x - x.mean())/x.std() #normalizaciòn de datos"
   ]
  },
  {
   "cell_type": "code",
   "execution_count": 124,
   "metadata": {},
   "outputs": [
    {
     "data": {
      "text/plain": [
       "<function __main__.<lambda>(x)>"
      ]
     },
     "execution_count": 124,
     "metadata": {},
     "output_type": "execute_result"
    }
   ],
   "source": [
    "zscore"
   ]
  },
  {
   "cell_type": "code",
   "execution_count": 126,
   "metadata": {},
   "outputs": [],
   "source": [
    "z_group = double_group.transform(zscore) #función transform"
   ]
  },
  {
   "cell_type": "code",
   "execution_count": 128,
   "metadata": {},
   "outputs": [
    {
     "data": {
      "text/plain": [
       "(array([  8.,  18.,  64.,  84., 130.,  76.,  70.,  28.,  18.,   4.]),\n",
       " array([-2.65696906, -2.09161466, -1.52626027, -0.96090587, -0.39555147,\n",
       "         0.16980293,  0.73515733,  1.30051173,  1.86586613,  2.43122053,\n",
       "         2.99657493]),\n",
       " <a list of 10 Patch objects>)"
      ]
     },
     "execution_count": 128,
     "metadata": {},
     "output_type": "execute_result"
    },
    {
     "data": {
      "image/png": "[encoded data removed]",
      "text/plain": [
       "<Figure size 432x288 with 1 Axes>"
      ]
     },
     "metadata": {
      "needs_background": "light"
     },
     "output_type": "display_data"
    }
   ],
   "source": [
    "plt.hist(z_group['Income'])"
   ]
  },
  {
   "cell_type": "code",
   "execution_count": 129,
   "metadata": {},
   "outputs": [],
   "source": [
    "fill_na_mean = lambda x: x.fillna(x.mean())"
   ]
  },
  {
   "cell_type": "code",
   "execution_count": 130,
   "metadata": {},
   "outputs": [
    {
     "data": {
      "text/html": [
       "<div>\n",
       "<style scoped>\n",
       "    .dataframe tbody tr th:only-of-type {\n",
       "        vertical-align: middle;\n",
       "    }\n",
       "\n",
       "    .dataframe tbody tr th {\n",
       "        vertical-align: top;\n",
       "    }\n",
       "\n",
       "    .dataframe thead th {\n",
       "        text-align: right;\n",
       "    }\n",
       "</style>\n",
       "<table border=\"1\" class=\"dataframe\">\n",
       "  <thead>\n",
       "    <tr style=\"text-align: right;\">\n",
       "      <th></th>\n",
       "      <th>Height</th>\n",
       "      <th>Weight</th>\n",
       "      <th>Age</th>\n",
       "      <th>Income</th>\n",
       "    </tr>\n",
       "  </thead>\n",
       "  <tbody>\n",
       "    <tr>\n",
       "      <th>0</th>\n",
       "      <td>194.151273</td>\n",
       "      <td>70.909719</td>\n",
       "      <td>26.567502</td>\n",
       "      <td>11006.607984</td>\n",
       "    </tr>\n",
       "    <tr>\n",
       "      <th>1</th>\n",
       "      <td>179.776270</td>\n",
       "      <td>68.147630</td>\n",
       "      <td>24.408609</td>\n",
       "      <td>10159.485630</td>\n",
       "    </tr>\n",
       "    <tr>\n",
       "      <th>2</th>\n",
       "      <td>187.515561</td>\n",
       "      <td>83.580399</td>\n",
       "      <td>23.943324</td>\n",
       "      <td>9091.173085</td>\n",
       "    </tr>\n",
       "    <tr>\n",
       "      <th>3</th>\n",
       "      <td>201.956007</td>\n",
       "      <td>93.062869</td>\n",
       "      <td>27.974786</td>\n",
       "      <td>9336.239503</td>\n",
       "    </tr>\n",
       "    <tr>\n",
       "      <th>4</th>\n",
       "      <td>181.935520</td>\n",
       "      <td>76.588743</td>\n",
       "      <td>24.195520</td>\n",
       "      <td>7353.294838</td>\n",
       "    </tr>\n",
       "    <tr>\n",
       "      <th>...</th>\n",
       "      <td>...</td>\n",
       "      <td>...</td>\n",
       "      <td>...</td>\n",
       "      <td>...</td>\n",
       "    </tr>\n",
       "    <tr>\n",
       "      <th>495</th>\n",
       "      <td>173.975337</td>\n",
       "      <td>60.280037</td>\n",
       "      <td>24.753396</td>\n",
       "      <td>9650.517627</td>\n",
       "    </tr>\n",
       "    <tr>\n",
       "      <th>496</th>\n",
       "      <td>162.536025</td>\n",
       "      <td>83.609179</td>\n",
       "      <td>27.592087</td>\n",
       "      <td>9707.907582</td>\n",
       "    </tr>\n",
       "    <tr>\n",
       "      <th>497</th>\n",
       "      <td>180.014106</td>\n",
       "      <td>77.889163</td>\n",
       "      <td>27.009013</td>\n",
       "      <td>11040.160852</td>\n",
       "    </tr>\n",
       "    <tr>\n",
       "      <th>498</th>\n",
       "      <td>167.950743</td>\n",
       "      <td>55.873577</td>\n",
       "      <td>26.916184</td>\n",
       "      <td>8878.812006</td>\n",
       "    </tr>\n",
       "    <tr>\n",
       "      <th>499</th>\n",
       "      <td>163.914246</td>\n",
       "      <td>68.341475</td>\n",
       "      <td>24.629749</td>\n",
       "      <td>10153.936435</td>\n",
       "    </tr>\n",
       "  </tbody>\n",
       "</table>\n",
       "<p>500 rows × 4 columns</p>\n",
       "</div>"
      ],
      "text/plain": [
       "         Height     Weight        Age        Income\n",
       "0    194.151273  70.909719  26.567502  11006.607984\n",
       "1    179.776270  68.147630  24.408609  10159.485630\n",
       "2    187.515561  83.580399  23.943324   9091.173085\n",
       "3    201.956007  93.062869  27.974786   9336.239503\n",
       "4    181.935520  76.588743  24.195520   7353.294838\n",
       "..          ...        ...        ...           ...\n",
       "495  173.975337  60.280037  24.753396   9650.517627\n",
       "496  162.536025  83.609179  27.592087   9707.907582\n",
       "497  180.014106  77.889163  27.009013  11040.160852\n",
       "498  167.950743  55.873577  26.916184   8878.812006\n",
       "499  163.914246  68.341475  24.629749  10153.936435\n",
       "\n",
       "[500 rows x 4 columns]"
      ]
     },
     "execution_count": 130,
     "metadata": {},
     "output_type": "execute_result"
    }
   ],
   "source": [
    "double_group.transform(fill_na_mean)"
   ]
  },
  {
   "cell_type": "markdown",
   "metadata": {},
   "source": [
    "### Operaciones diversas útiles"
   ]
  },
  {
   "cell_type": "code",
   "execution_count": 136,
   "metadata": {},
   "outputs": [
    {
     "data": {
      "text/html": [
       "<div>\n",
       "<style scoped>\n",
       "    .dataframe tbody tr th:only-of-type {\n",
       "        vertical-align: middle;\n",
       "    }\n",
       "\n",
       "    .dataframe tbody tr th {\n",
       "        vertical-align: top;\n",
       "    }\n",
       "\n",
       "    .dataframe thead th {\n",
       "        text-align: right;\n",
       "    }\n",
       "</style>\n",
       "<table border=\"1\" class=\"dataframe\">\n",
       "  <thead>\n",
       "    <tr style=\"text-align: right;\">\n",
       "      <th></th>\n",
       "      <th>Gender</th>\n",
       "      <th>Economic Status</th>\n",
       "      <th>Height</th>\n",
       "      <th>Weight</th>\n",
       "      <th>Age</th>\n",
       "      <th>Income</th>\n",
       "    </tr>\n",
       "  </thead>\n",
       "  <tbody>\n",
       "    <tr>\n",
       "      <th>491</th>\n",
       "      <td>Male</td>\n",
       "      <td>Poor</td>\n",
       "      <td>155.947060</td>\n",
       "      <td>74.636035</td>\n",
       "      <td>26.126860</td>\n",
       "      <td>9915.506367</td>\n",
       "    </tr>\n",
       "    <tr>\n",
       "      <th>494</th>\n",
       "      <td>Male</td>\n",
       "      <td>Middle class</td>\n",
       "      <td>175.403276</td>\n",
       "      <td>75.969188</td>\n",
       "      <td>24.719752</td>\n",
       "      <td>10764.978367</td>\n",
       "    </tr>\n",
       "    <tr>\n",
       "      <th>495</th>\n",
       "      <td>Male</td>\n",
       "      <td>Rich</td>\n",
       "      <td>173.975337</td>\n",
       "      <td>60.280037</td>\n",
       "      <td>24.753396</td>\n",
       "      <td>9650.517627</td>\n",
       "    </tr>\n",
       "    <tr>\n",
       "      <th>496</th>\n",
       "      <td>Female</td>\n",
       "      <td>Middle class</td>\n",
       "      <td>162.536025</td>\n",
       "      <td>83.609179</td>\n",
       "      <td>27.592087</td>\n",
       "      <td>9707.907582</td>\n",
       "    </tr>\n",
       "    <tr>\n",
       "      <th>497</th>\n",
       "      <td>Female</td>\n",
       "      <td>Rich</td>\n",
       "      <td>180.014106</td>\n",
       "      <td>77.889163</td>\n",
       "      <td>27.009013</td>\n",
       "      <td>11040.160852</td>\n",
       "    </tr>\n",
       "    <tr>\n",
       "      <th>499</th>\n",
       "      <td>Female</td>\n",
       "      <td>Poor</td>\n",
       "      <td>163.914246</td>\n",
       "      <td>68.341475</td>\n",
       "      <td>24.629749</td>\n",
       "      <td>10153.936435</td>\n",
       "    </tr>\n",
       "  </tbody>\n",
       "</table>\n",
       "</div>"
      ],
      "text/plain": [
       "     Gender Economic Status      Height     Weight        Age        Income\n",
       "491    Male            Poor  155.947060  74.636035  26.126860   9915.506367\n",
       "494    Male    Middle class  175.403276  75.969188  24.719752  10764.978367\n",
       "495    Male            Rich  173.975337  60.280037  24.753396   9650.517627\n",
       "496  Female    Middle class  162.536025  83.609179  27.592087   9707.907582\n",
       "497  Female            Rich  180.014106  77.889163  27.009013  11040.160852\n",
       "499  Female            Poor  163.914246  68.341475  24.629749  10153.936435"
      ]
     },
     "execution_count": 136,
     "metadata": {},
     "output_type": "execute_result"
    }
   ],
   "source": [
    "double_group.tail(1)"
   ]
  },
  {
   "cell_type": "code",
   "execution_count": 137,
   "metadata": {},
   "outputs": [
    {
     "data": {
      "text/html": [
       "<div>\n",
       "<style scoped>\n",
       "    .dataframe tbody tr th:only-of-type {\n",
       "        vertical-align: middle;\n",
       "    }\n",
       "\n",
       "    .dataframe tbody tr th {\n",
       "        vertical-align: top;\n",
       "    }\n",
       "\n",
       "    .dataframe thead th {\n",
       "        text-align: right;\n",
       "    }\n",
       "</style>\n",
       "<table border=\"1\" class=\"dataframe\">\n",
       "  <thead>\n",
       "    <tr style=\"text-align: right;\">\n",
       "      <th></th>\n",
       "      <th>Gender</th>\n",
       "      <th>Economic Status</th>\n",
       "      <th>Height</th>\n",
       "      <th>Weight</th>\n",
       "      <th>Age</th>\n",
       "      <th>Income</th>\n",
       "    </tr>\n",
       "  </thead>\n",
       "  <tbody>\n",
       "    <tr>\n",
       "      <th>0</th>\n",
       "      <td>Male</td>\n",
       "      <td>Rich</td>\n",
       "      <td>194.151273</td>\n",
       "      <td>70.909719</td>\n",
       "      <td>26.567502</td>\n",
       "      <td>11006.607984</td>\n",
       "    </tr>\n",
       "    <tr>\n",
       "      <th>1</th>\n",
       "      <td>Female</td>\n",
       "      <td>Middle class</td>\n",
       "      <td>179.776270</td>\n",
       "      <td>68.147630</td>\n",
       "      <td>24.408609</td>\n",
       "      <td>10159.485630</td>\n",
       "    </tr>\n",
       "    <tr>\n",
       "      <th>2</th>\n",
       "      <td>Male</td>\n",
       "      <td>Poor</td>\n",
       "      <td>187.515561</td>\n",
       "      <td>83.580399</td>\n",
       "      <td>23.943324</td>\n",
       "      <td>9091.173085</td>\n",
       "    </tr>\n",
       "    <tr>\n",
       "      <th>4</th>\n",
       "      <td>Male</td>\n",
       "      <td>Middle class</td>\n",
       "      <td>181.935520</td>\n",
       "      <td>76.588743</td>\n",
       "      <td>24.195520</td>\n",
       "      <td>7353.294838</td>\n",
       "    </tr>\n",
       "    <tr>\n",
       "      <th>9</th>\n",
       "      <td>Female</td>\n",
       "      <td>Rich</td>\n",
       "      <td>221.292812</td>\n",
       "      <td>86.424830</td>\n",
       "      <td>23.960757</td>\n",
       "      <td>7523.857691</td>\n",
       "    </tr>\n",
       "    <tr>\n",
       "      <th>12</th>\n",
       "      <td>Female</td>\n",
       "      <td>Poor</td>\n",
       "      <td>165.670967</td>\n",
       "      <td>77.484669</td>\n",
       "      <td>27.165301</td>\n",
       "      <td>8731.469994</td>\n",
       "    </tr>\n",
       "  </tbody>\n",
       "</table>\n",
       "</div>"
      ],
      "text/plain": [
       "    Gender Economic Status      Height     Weight        Age        Income\n",
       "0     Male            Rich  194.151273  70.909719  26.567502  11006.607984\n",
       "1   Female    Middle class  179.776270  68.147630  24.408609  10159.485630\n",
       "2     Male            Poor  187.515561  83.580399  23.943324   9091.173085\n",
       "4     Male    Middle class  181.935520  76.588743  24.195520   7353.294838\n",
       "9   Female            Rich  221.292812  86.424830  23.960757   7523.857691\n",
       "12  Female            Poor  165.670967  77.484669  27.165301   8731.469994"
      ]
     },
     "execution_count": 137,
     "metadata": {},
     "output_type": "execute_result"
    }
   ],
   "source": [
    "double_group.head(1)"
   ]
  },
  {
   "cell_type": "code",
   "execution_count": 138,
   "metadata": {},
   "outputs": [
    {
     "data": {
      "text/html": [
       "<div>\n",
       "<style scoped>\n",
       "    .dataframe tbody tr th:only-of-type {\n",
       "        vertical-align: middle;\n",
       "    }\n",
       "\n",
       "    .dataframe tbody tr th {\n",
       "        vertical-align: top;\n",
       "    }\n",
       "\n",
       "    .dataframe thead th {\n",
       "        text-align: right;\n",
       "    }\n",
       "</style>\n",
       "<table border=\"1\" class=\"dataframe\">\n",
       "  <thead>\n",
       "    <tr style=\"text-align: right;\">\n",
       "      <th></th>\n",
       "      <th></th>\n",
       "      <th>Height</th>\n",
       "      <th>Weight</th>\n",
       "      <th>Age</th>\n",
       "      <th>Income</th>\n",
       "    </tr>\n",
       "    <tr>\n",
       "      <th>Gender</th>\n",
       "      <th>Economic Status</th>\n",
       "      <th></th>\n",
       "      <th></th>\n",
       "      <th></th>\n",
       "      <th></th>\n",
       "    </tr>\n",
       "  </thead>\n",
       "  <tbody>\n",
       "    <tr>\n",
       "      <th rowspan=\"3\" valign=\"top\">Female</th>\n",
       "      <th>Middle class</th>\n",
       "      <td>188.432433</td>\n",
       "      <td>68.695002</td>\n",
       "      <td>25.311701</td>\n",
       "      <td>10005.745766</td>\n",
       "    </tr>\n",
       "    <tr>\n",
       "      <th>Poor</th>\n",
       "      <td>196.578389</td>\n",
       "      <td>71.039616</td>\n",
       "      <td>23.971079</td>\n",
       "      <td>10425.980211</td>\n",
       "    </tr>\n",
       "    <tr>\n",
       "      <th>Rich</th>\n",
       "      <td>223.824269</td>\n",
       "      <td>87.766350</td>\n",
       "      <td>26.934155</td>\n",
       "      <td>9787.336198</td>\n",
       "    </tr>\n",
       "    <tr>\n",
       "      <th rowspan=\"3\" valign=\"top\">Male</th>\n",
       "      <th>Middle class</th>\n",
       "      <td>168.779408</td>\n",
       "      <td>73.856056</td>\n",
       "      <td>24.475790</td>\n",
       "      <td>11630.516003</td>\n",
       "    </tr>\n",
       "    <tr>\n",
       "      <th>Poor</th>\n",
       "      <td>187.621417</td>\n",
       "      <td>90.601488</td>\n",
       "      <td>26.646019</td>\n",
       "      <td>8182.671230</td>\n",
       "    </tr>\n",
       "    <tr>\n",
       "      <th>Rich</th>\n",
       "      <td>189.340008</td>\n",
       "      <td>95.804064</td>\n",
       "      <td>23.363684</td>\n",
       "      <td>12225.820848</td>\n",
       "    </tr>\n",
       "  </tbody>\n",
       "</table>\n",
       "</div>"
      ],
      "text/plain": [
       "                            Height     Weight        Age        Income\n",
       "Gender Economic Status                                                \n",
       "Female Middle class     188.432433  68.695002  25.311701  10005.745766\n",
       "       Poor             196.578389  71.039616  23.971079  10425.980211\n",
       "       Rich             223.824269  87.766350  26.934155   9787.336198\n",
       "Male   Middle class     168.779408  73.856056  24.475790  11630.516003\n",
       "       Poor             187.621417  90.601488  26.646019   8182.671230\n",
       "       Rich             189.340008  95.804064  23.363684  12225.820848"
      ]
     },
     "execution_count": 138,
     "metadata": {},
     "output_type": "execute_result"
    }
   ],
   "source": [
    "double_group.nth(32) ### para eleccionar el elemento 32"
   ]
  },
  {
   "cell_type": "code",
   "execution_count": 143,
   "metadata": {},
   "outputs": [],
   "source": [
    "data_sorted = data.sort_values(['Age','Income']) # sort_values"
   ]
  },
  {
   "cell_type": "code",
   "execution_count": 144,
   "metadata": {},
   "outputs": [
    {
     "data": {
      "text/html": [
       "<div>\n",
       "<style scoped>\n",
       "    .dataframe tbody tr th:only-of-type {\n",
       "        vertical-align: middle;\n",
       "    }\n",
       "\n",
       "    .dataframe tbody tr th {\n",
       "        vertical-align: top;\n",
       "    }\n",
       "\n",
       "    .dataframe thead th {\n",
       "        text-align: right;\n",
       "    }\n",
       "</style>\n",
       "<table border=\"1\" class=\"dataframe\">\n",
       "  <thead>\n",
       "    <tr style=\"text-align: right;\">\n",
       "      <th></th>\n",
       "      <th>Gender</th>\n",
       "      <th>Economic Status</th>\n",
       "      <th>Height</th>\n",
       "      <th>Weight</th>\n",
       "      <th>Age</th>\n",
       "      <th>Income</th>\n",
       "    </tr>\n",
       "  </thead>\n",
       "  <tbody>\n",
       "    <tr>\n",
       "      <th>447</th>\n",
       "      <td>Female</td>\n",
       "      <td>Rich</td>\n",
       "      <td>223.026368</td>\n",
       "      <td>82.355497</td>\n",
       "      <td>23.011409</td>\n",
       "      <td>9630.223854</td>\n",
       "    </tr>\n",
       "    <tr>\n",
       "      <th>298</th>\n",
       "      <td>Male</td>\n",
       "      <td>Rich</td>\n",
       "      <td>220.862455</td>\n",
       "      <td>60.651670</td>\n",
       "      <td>23.032199</td>\n",
       "      <td>10582.584079</td>\n",
       "    </tr>\n",
       "    <tr>\n",
       "      <th>6</th>\n",
       "      <td>Male</td>\n",
       "      <td>Middle class</td>\n",
       "      <td>154.985199</td>\n",
       "      <td>64.841442</td>\n",
       "      <td>23.038747</td>\n",
       "      <td>13103.789290</td>\n",
       "    </tr>\n",
       "    <tr>\n",
       "      <th>37</th>\n",
       "      <td>Male</td>\n",
       "      <td>Poor</td>\n",
       "      <td>142.778315</td>\n",
       "      <td>49.918772</td>\n",
       "      <td>23.053556</td>\n",
       "      <td>11188.758548</td>\n",
       "    </tr>\n",
       "    <tr>\n",
       "      <th>67</th>\n",
       "      <td>Female</td>\n",
       "      <td>Poor</td>\n",
       "      <td>186.761708</td>\n",
       "      <td>67.521133</td>\n",
       "      <td>23.066564</td>\n",
       "      <td>10352.323089</td>\n",
       "    </tr>\n",
       "    <tr>\n",
       "      <th>...</th>\n",
       "      <td>...</td>\n",
       "      <td>...</td>\n",
       "      <td>...</td>\n",
       "      <td>...</td>\n",
       "      <td>...</td>\n",
       "      <td>...</td>\n",
       "    </tr>\n",
       "    <tr>\n",
       "      <th>3</th>\n",
       "      <td>Male</td>\n",
       "      <td>Poor</td>\n",
       "      <td>201.956007</td>\n",
       "      <td>93.062869</td>\n",
       "      <td>27.974786</td>\n",
       "      <td>9336.239503</td>\n",
       "    </tr>\n",
       "    <tr>\n",
       "      <th>263</th>\n",
       "      <td>Female</td>\n",
       "      <td>Middle class</td>\n",
       "      <td>142.048772</td>\n",
       "      <td>87.060020</td>\n",
       "      <td>27.981166</td>\n",
       "      <td>13644.427918</td>\n",
       "    </tr>\n",
       "    <tr>\n",
       "      <th>427</th>\n",
       "      <td>Male</td>\n",
       "      <td>Rich</td>\n",
       "      <td>183.076256</td>\n",
       "      <td>74.188480</td>\n",
       "      <td>27.985732</td>\n",
       "      <td>11174.463472</td>\n",
       "    </tr>\n",
       "    <tr>\n",
       "      <th>5</th>\n",
       "      <td>Female</td>\n",
       "      <td>Middle class</td>\n",
       "      <td>165.987782</td>\n",
       "      <td>79.952115</td>\n",
       "      <td>27.991755</td>\n",
       "      <td>12320.905836</td>\n",
       "    </tr>\n",
       "    <tr>\n",
       "      <th>262</th>\n",
       "      <td>Female</td>\n",
       "      <td>Middle class</td>\n",
       "      <td>253.577365</td>\n",
       "      <td>84.308406</td>\n",
       "      <td>27.993217</td>\n",
       "      <td>9301.419030</td>\n",
       "    </tr>\n",
       "  </tbody>\n",
       "</table>\n",
       "<p>500 rows × 6 columns</p>\n",
       "</div>"
      ],
      "text/plain": [
       "     Gender Economic Status      Height     Weight        Age        Income\n",
       "447  Female            Rich  223.026368  82.355497  23.011409   9630.223854\n",
       "298    Male            Rich  220.862455  60.651670  23.032199  10582.584079\n",
       "6      Male    Middle class  154.985199  64.841442  23.038747  13103.789290\n",
       "37     Male            Poor  142.778315  49.918772  23.053556  11188.758548\n",
       "67   Female            Poor  186.761708  67.521133  23.066564  10352.323089\n",
       "..      ...             ...         ...        ...        ...           ...\n",
       "3      Male            Poor  201.956007  93.062869  27.974786   9336.239503\n",
       "263  Female    Middle class  142.048772  87.060020  27.981166  13644.427918\n",
       "427    Male            Rich  183.076256  74.188480  27.985732  11174.463472\n",
       "5    Female    Middle class  165.987782  79.952115  27.991755  12320.905836\n",
       "262  Female    Middle class  253.577365  84.308406  27.993217   9301.419030\n",
       "\n",
       "[500 rows x 6 columns]"
      ]
     },
     "execution_count": 144,
     "metadata": {},
     "output_type": "execute_result"
    }
   ],
   "source": [
    "data_sorted"
   ]
  },
  {
   "cell_type": "code",
   "execution_count": 145,
   "metadata": {},
   "outputs": [],
   "source": [
    "age_grouped = data_sorted.groupby('Gender')"
   ]
  },
  {
   "cell_type": "code",
   "execution_count": 147,
   "metadata": {},
   "outputs": [
    {
     "data": {
      "text/html": [
       "<div>\n",
       "<style scoped>\n",
       "    .dataframe tbody tr th:only-of-type {\n",
       "        vertical-align: middle;\n",
       "    }\n",
       "\n",
       "    .dataframe tbody tr th {\n",
       "        vertical-align: top;\n",
       "    }\n",
       "\n",
       "    .dataframe thead th {\n",
       "        text-align: right;\n",
       "    }\n",
       "</style>\n",
       "<table border=\"1\" class=\"dataframe\">\n",
       "  <thead>\n",
       "    <tr style=\"text-align: right;\">\n",
       "      <th></th>\n",
       "      <th>Gender</th>\n",
       "      <th>Economic Status</th>\n",
       "      <th>Height</th>\n",
       "      <th>Weight</th>\n",
       "      <th>Age</th>\n",
       "      <th>Income</th>\n",
       "    </tr>\n",
       "  </thead>\n",
       "  <tbody>\n",
       "    <tr>\n",
       "      <th>447</th>\n",
       "      <td>Female</td>\n",
       "      <td>Rich</td>\n",
       "      <td>223.026368</td>\n",
       "      <td>82.355497</td>\n",
       "      <td>23.011409</td>\n",
       "      <td>9630.223854</td>\n",
       "    </tr>\n",
       "    <tr>\n",
       "      <th>298</th>\n",
       "      <td>Male</td>\n",
       "      <td>Rich</td>\n",
       "      <td>220.862455</td>\n",
       "      <td>60.651670</td>\n",
       "      <td>23.032199</td>\n",
       "      <td>10582.584079</td>\n",
       "    </tr>\n",
       "  </tbody>\n",
       "</table>\n",
       "</div>"
      ],
      "text/plain": [
       "     Gender Economic Status      Height     Weight        Age        Income\n",
       "447  Female            Rich  223.026368  82.355497  23.011409   9630.223854\n",
       "298    Male            Rich  220.862455  60.651670  23.032199  10582.584079"
      ]
     },
     "execution_count": 147,
     "metadata": {},
     "output_type": "execute_result"
    }
   ],
   "source": [
    "age_grouped.head(1)"
   ]
  },
  {
   "cell_type": "code",
   "execution_count": 148,
   "metadata": {},
   "outputs": [
    {
     "data": {
      "text/html": [
       "<div>\n",
       "<style scoped>\n",
       "    .dataframe tbody tr th:only-of-type {\n",
       "        vertical-align: middle;\n",
       "    }\n",
       "\n",
       "    .dataframe tbody tr th {\n",
       "        vertical-align: top;\n",
       "    }\n",
       "\n",
       "    .dataframe thead th {\n",
       "        text-align: right;\n",
       "    }\n",
       "</style>\n",
       "<table border=\"1\" class=\"dataframe\">\n",
       "  <thead>\n",
       "    <tr style=\"text-align: right;\">\n",
       "      <th></th>\n",
       "      <th>Gender</th>\n",
       "      <th>Economic Status</th>\n",
       "      <th>Height</th>\n",
       "      <th>Weight</th>\n",
       "      <th>Age</th>\n",
       "      <th>Income</th>\n",
       "    </tr>\n",
       "  </thead>\n",
       "  <tbody>\n",
       "    <tr>\n",
       "      <th>427</th>\n",
       "      <td>Male</td>\n",
       "      <td>Rich</td>\n",
       "      <td>183.076256</td>\n",
       "      <td>74.188480</td>\n",
       "      <td>27.985732</td>\n",
       "      <td>11174.463472</td>\n",
       "    </tr>\n",
       "    <tr>\n",
       "      <th>262</th>\n",
       "      <td>Female</td>\n",
       "      <td>Middle class</td>\n",
       "      <td>253.577365</td>\n",
       "      <td>84.308406</td>\n",
       "      <td>27.993217</td>\n",
       "      <td>9301.419030</td>\n",
       "    </tr>\n",
       "  </tbody>\n",
       "</table>\n",
       "</div>"
      ],
      "text/plain": [
       "     Gender Economic Status      Height     Weight        Age        Income\n",
       "427    Male            Rich  183.076256  74.188480  27.985732  11174.463472\n",
       "262  Female    Middle class  253.577365  84.308406  27.993217   9301.419030"
      ]
     },
     "execution_count": 148,
     "metadata": {},
     "output_type": "execute_result"
    }
   ],
   "source": [
    "age_grouped.tail(1)"
   ]
  },
  {
   "cell_type": "markdown",
   "metadata": {},
   "source": [
    "### Conjunto de entrenamiento y conjunto de testing"
   ]
  },
  {
   "cell_type": "code",
   "execution_count": 150,
   "metadata": {},
   "outputs": [],
   "source": [
    "os.chdir('C:/Users/Andres/Desktop/Python/python-ml-course-master/datasets/customer-churn-model')"
   ]
  },
  {
   "cell_type": "code",
   "execution_count": 151,
   "metadata": {},
   "outputs": [
    {
     "data": {
      "text/plain": [
       "['Customer Churn Columns.csv',\n",
       " 'Customer Churn Model.csv',\n",
       " 'Customer Churn Model.txt',\n",
       " 'Tab Customer Churn Model.txt']"
      ]
     },
     "execution_count": 151,
     "metadata": {},
     "output_type": "execute_result"
    }
   ],
   "source": [
    "os.listdir()"
   ]
  },
  {
   "cell_type": "code",
   "execution_count": 152,
   "metadata": {},
   "outputs": [],
   "source": [
    "data = pd.read_csv('Customer Churn Model.txt')"
   ]
  },
  {
   "cell_type": "code",
   "execution_count": 153,
   "metadata": {},
   "outputs": [
    {
     "data": {
      "text/plain": [
       "3333"
      ]
     },
     "execution_count": 153,
     "metadata": {},
     "output_type": "execute_result"
    }
   ],
   "source": [
    "len(data)"
   ]
  },
  {
   "cell_type": "markdown",
   "metadata": {},
   "source": [
    "###### Dividir utilizando la distribución normal"
   ]
  },
  {
   "cell_type": "code",
   "execution_count": 155,
   "metadata": {},
   "outputs": [],
   "source": [
    "a = np.random.randn(len(data))"
   ]
  },
  {
   "cell_type": "code",
   "execution_count": 156,
   "metadata": {},
   "outputs": [
    {
     "data": {
      "text/plain": [
       "(array([  2.,  25., 168., 515., 905., 949., 545., 181.,  38.,   5.]),\n",
       " array([-3.79208247, -3.04067964, -2.28927681, -1.53787398, -0.78647115,\n",
       "        -0.03506832,  0.71633451,  1.46773734,  2.21914017,  2.970543  ,\n",
       "         3.72194583]),\n",
       " <a list of 10 Patch objects>)"
      ]
     },
     "execution_count": 156,
     "metadata": {},
     "output_type": "execute_result"
    },
    {
     "data": {
      "image/png": "[encoded data removed]",
      "text/plain": [
       "<Figure size 432x288 with 1 Axes>"
      ]
     },
     "metadata": {
      "needs_background": "light"
     },
     "output_type": "display_data"
    }
   ],
   "source": [
    "plt.hist(a)"
   ]
  },
  {
   "cell_type": "code",
   "execution_count": 166,
   "metadata": {},
   "outputs": [],
   "source": [
    "#Dividiendo por criterio de Pareto\n",
    "check = (a < 0.8)"
   ]
  },
  {
   "cell_type": "code",
   "execution_count": 167,
   "metadata": {},
   "outputs": [
    {
     "data": {
      "text/plain": [
       "array([ True,  True,  True, ...,  True, False,  True])"
      ]
     },
     "execution_count": 167,
     "metadata": {},
     "output_type": "execute_result"
    }
   ],
   "source": [
    "check"
   ]
  },
  {
   "cell_type": "code",
   "execution_count": 169,
   "metadata": {},
   "outputs": [],
   "source": [
    "training = data[check]\n",
    "testing = data[~check]"
   ]
  },
  {
   "cell_type": "code",
   "execution_count": 171,
   "metadata": {},
   "outputs": [
    {
     "name": "stdout",
     "output_type": "stream",
     "text": [
      "2648 685\n"
     ]
    }
   ],
   "source": [
    "print(len(training),len(testing))"
   ]
  },
  {
   "cell_type": "markdown",
   "metadata": {},
   "source": [
    "###### Con la librería sklearn"
   ]
  },
  {
   "cell_type": "code",
   "execution_count": 172,
   "metadata": {},
   "outputs": [],
   "source": [
    "from sklearn.model_selection import train_test_split"
   ]
  },
  {
   "cell_type": "code",
   "execution_count": 173,
   "metadata": {},
   "outputs": [],
   "source": [
    "train,test = train_test_split(data,test_size = 0.2)"
   ]
  },
  {
   "cell_type": "code",
   "execution_count": 174,
   "metadata": {},
   "outputs": [
    {
     "data": {
      "text/plain": [
       "2666"
      ]
     },
     "execution_count": 174,
     "metadata": {},
     "output_type": "execute_result"
    }
   ],
   "source": [
    "len(train)"
   ]
  },
  {
   "cell_type": "code",
   "execution_count": 175,
   "metadata": {},
   "outputs": [
    {
     "data": {
      "text/plain": [
       "667"
      ]
     },
     "execution_count": 175,
     "metadata": {},
     "output_type": "execute_result"
    }
   ],
   "source": [
    "len(test)"
   ]
  },
  {
   "cell_type": "markdown",
   "metadata": {},
   "source": [
    "###### Usando una función de shuffle"
   ]
  },
  {
   "cell_type": "code",
   "execution_count": 176,
   "metadata": {},
   "outputs": [
    {
     "data": {
      "text/html": [
       "<div>\n",
       "<style scoped>\n",
       "    .dataframe tbody tr th:only-of-type {\n",
       "        vertical-align: middle;\n",
       "    }\n",
       "\n",
       "    .dataframe tbody tr th {\n",
       "        vertical-align: top;\n",
       "    }\n",
       "\n",
       "    .dataframe thead th {\n",
       "        text-align: right;\n",
       "    }\n",
       "</style>\n",
       "<table border=\"1\" class=\"dataframe\">\n",
       "  <thead>\n",
       "    <tr style=\"text-align: right;\">\n",
       "      <th></th>\n",
       "      <th>State</th>\n",
       "      <th>Account Length</th>\n",
       "      <th>Area Code</th>\n",
       "      <th>Phone</th>\n",
       "      <th>Int'l Plan</th>\n",
       "      <th>VMail Plan</th>\n",
       "      <th>VMail Message</th>\n",
       "      <th>Day Mins</th>\n",
       "      <th>Day Calls</th>\n",
       "      <th>Day Charge</th>\n",
       "      <th>...</th>\n",
       "      <th>Eve Calls</th>\n",
       "      <th>Eve Charge</th>\n",
       "      <th>Night Mins</th>\n",
       "      <th>Night Calls</th>\n",
       "      <th>Night Charge</th>\n",
       "      <th>Intl Mins</th>\n",
       "      <th>Intl Calls</th>\n",
       "      <th>Intl Charge</th>\n",
       "      <th>CustServ Calls</th>\n",
       "      <th>Churn?</th>\n",
       "    </tr>\n",
       "  </thead>\n",
       "  <tbody>\n",
       "    <tr>\n",
       "      <th>0</th>\n",
       "      <td>KS</td>\n",
       "      <td>128</td>\n",
       "      <td>415</td>\n",
       "      <td>382-4657</td>\n",
       "      <td>no</td>\n",
       "      <td>yes</td>\n",
       "      <td>25</td>\n",
       "      <td>265.1</td>\n",
       "      <td>110</td>\n",
       "      <td>45.07</td>\n",
       "      <td>...</td>\n",
       "      <td>99</td>\n",
       "      <td>16.78</td>\n",
       "      <td>244.7</td>\n",
       "      <td>91</td>\n",
       "      <td>11.01</td>\n",
       "      <td>10.0</td>\n",
       "      <td>3</td>\n",
       "      <td>2.70</td>\n",
       "      <td>1</td>\n",
       "      <td>False.</td>\n",
       "    </tr>\n",
       "    <tr>\n",
       "      <th>1</th>\n",
       "      <td>OH</td>\n",
       "      <td>107</td>\n",
       "      <td>415</td>\n",
       "      <td>371-7191</td>\n",
       "      <td>no</td>\n",
       "      <td>yes</td>\n",
       "      <td>26</td>\n",
       "      <td>161.6</td>\n",
       "      <td>123</td>\n",
       "      <td>27.47</td>\n",
       "      <td>...</td>\n",
       "      <td>103</td>\n",
       "      <td>16.62</td>\n",
       "      <td>254.4</td>\n",
       "      <td>103</td>\n",
       "      <td>11.45</td>\n",
       "      <td>13.7</td>\n",
       "      <td>3</td>\n",
       "      <td>3.70</td>\n",
       "      <td>1</td>\n",
       "      <td>False.</td>\n",
       "    </tr>\n",
       "    <tr>\n",
       "      <th>2</th>\n",
       "      <td>NJ</td>\n",
       "      <td>137</td>\n",
       "      <td>415</td>\n",
       "      <td>358-1921</td>\n",
       "      <td>no</td>\n",
       "      <td>no</td>\n",
       "      <td>0</td>\n",
       "      <td>243.4</td>\n",
       "      <td>114</td>\n",
       "      <td>41.38</td>\n",
       "      <td>...</td>\n",
       "      <td>110</td>\n",
       "      <td>10.30</td>\n",
       "      <td>162.6</td>\n",
       "      <td>104</td>\n",
       "      <td>7.32</td>\n",
       "      <td>12.2</td>\n",
       "      <td>5</td>\n",
       "      <td>3.29</td>\n",
       "      <td>0</td>\n",
       "      <td>False.</td>\n",
       "    </tr>\n",
       "    <tr>\n",
       "      <th>3</th>\n",
       "      <td>OH</td>\n",
       "      <td>84</td>\n",
       "      <td>408</td>\n",
       "      <td>375-9999</td>\n",
       "      <td>yes</td>\n",
       "      <td>no</td>\n",
       "      <td>0</td>\n",
       "      <td>299.4</td>\n",
       "      <td>71</td>\n",
       "      <td>50.90</td>\n",
       "      <td>...</td>\n",
       "      <td>88</td>\n",
       "      <td>5.26</td>\n",
       "      <td>196.9</td>\n",
       "      <td>89</td>\n",
       "      <td>8.86</td>\n",
       "      <td>6.6</td>\n",
       "      <td>7</td>\n",
       "      <td>1.78</td>\n",
       "      <td>2</td>\n",
       "      <td>False.</td>\n",
       "    </tr>\n",
       "    <tr>\n",
       "      <th>4</th>\n",
       "      <td>OK</td>\n",
       "      <td>75</td>\n",
       "      <td>415</td>\n",
       "      <td>330-6626</td>\n",
       "      <td>yes</td>\n",
       "      <td>no</td>\n",
       "      <td>0</td>\n",
       "      <td>166.7</td>\n",
       "      <td>113</td>\n",
       "      <td>28.34</td>\n",
       "      <td>...</td>\n",
       "      <td>122</td>\n",
       "      <td>12.61</td>\n",
       "      <td>186.9</td>\n",
       "      <td>121</td>\n",
       "      <td>8.41</td>\n",
       "      <td>10.1</td>\n",
       "      <td>3</td>\n",
       "      <td>2.73</td>\n",
       "      <td>3</td>\n",
       "      <td>False.</td>\n",
       "    </tr>\n",
       "  </tbody>\n",
       "</table>\n",
       "<p>5 rows × 21 columns</p>\n",
       "</div>"
      ],
      "text/plain": [
       "  State  Account Length  Area Code     Phone Int'l Plan VMail Plan  \\\n",
       "0    KS             128        415  382-4657         no        yes   \n",
       "1    OH             107        415  371-7191         no        yes   \n",
       "2    NJ             137        415  358-1921         no         no   \n",
       "3    OH              84        408  375-9999        yes         no   \n",
       "4    OK              75        415  330-6626        yes         no   \n",
       "\n",
       "   VMail Message  Day Mins  Day Calls  Day Charge  ...  Eve Calls  Eve Charge  \\\n",
       "0             25     265.1        110       45.07  ...         99       16.78   \n",
       "1             26     161.6        123       27.47  ...        103       16.62   \n",
       "2              0     243.4        114       41.38  ...        110       10.30   \n",
       "3              0     299.4         71       50.90  ...         88        5.26   \n",
       "4              0     166.7        113       28.34  ...        122       12.61   \n",
       "\n",
       "   Night Mins  Night Calls  Night Charge  Intl Mins  Intl Calls  Intl Charge  \\\n",
       "0       244.7           91         11.01       10.0           3         2.70   \n",
       "1       254.4          103         11.45       13.7           3         3.70   \n",
       "2       162.6          104          7.32       12.2           5         3.29   \n",
       "3       196.9           89          8.86        6.6           7         1.78   \n",
       "4       186.9          121          8.41       10.1           3         2.73   \n",
       "\n",
       "   CustServ Calls  Churn?  \n",
       "0               1  False.  \n",
       "1               1  False.  \n",
       "2               0  False.  \n",
       "3               2  False.  \n",
       "4               3  False.  \n",
       "\n",
       "[5 rows x 21 columns]"
      ]
     },
     "execution_count": 176,
     "metadata": {},
     "output_type": "execute_result"
    }
   ],
   "source": [
    "data.head()"
   ]
  },
  {
   "cell_type": "code",
   "execution_count": 177,
   "metadata": {},
   "outputs": [],
   "source": [
    "import sklearn"
   ]
  },
  {
   "cell_type": "code",
   "execution_count": 180,
   "metadata": {},
   "outputs": [],
   "source": [
    "data = sklearn.utils.shuffle(data)"
   ]
  },
  {
   "cell_type": "code",
   "execution_count": 185,
   "metadata": {},
   "outputs": [],
   "source": [
    "cut_id = int(0.75*len(data))\n",
    "train_data = data[:cut_id]\n",
    "test_data = data[cut_id +1:]"
   ]
  },
  {
   "cell_type": "code",
   "execution_count": 184,
   "metadata": {},
   "outputs": [
    {
     "data": {
      "text/plain": [
       "2499"
      ]
     },
     "execution_count": 184,
     "metadata": {},
     "output_type": "execute_result"
    }
   ],
   "source": [
    "len(train_data)"
   ]
  },
  {
   "cell_type": "code",
   "execution_count": 186,
   "metadata": {},
   "outputs": [
    {
     "data": {
      "text/plain": [
       "833"
      ]
     },
     "execution_count": 186,
     "metadata": {},
     "output_type": "execute_result"
    }
   ],
   "source": [
    "len(test_data)"
   ]
  },
  {
   "cell_type": "markdown",
   "metadata": {},
   "source": [
    "# Concantenar y apendizar data sets"
   ]
  },
  {
   "cell_type": "code",
   "execution_count": 188,
   "metadata": {},
   "outputs": [
    {
     "data": {
      "text/plain": [
       "['Description.txt', 'winequality-red.csv', 'winequality-white.csv']"
      ]
     },
     "execution_count": 188,
     "metadata": {},
     "output_type": "execute_result"
    }
   ],
   "source": [
    "os.chdir('C:/Users/Andres/Desktop/Python/python-ml-course-master/datasets/wine')\n",
    "os.listdir()"
   ]
  },
  {
   "cell_type": "code",
   "execution_count": 189,
   "metadata": {},
   "outputs": [],
   "source": [
    "red_wine = pd.read_csv('winequality-red.csv', sep = ';')"
   ]
  },
  {
   "cell_type": "code",
   "execution_count": 192,
   "metadata": {},
   "outputs": [
    {
     "data": {
      "text/plain": [
       "array(['fixed acidity', 'volatile acidity', 'citric acid',\n",
       "       'residual sugar', 'chlorides', 'free sulfur dioxide',\n",
       "       'total sulfur dioxide', 'density', 'pH', 'sulphates', 'alcohol',\n",
       "       'quality'], dtype=object)"
      ]
     },
     "execution_count": 192,
     "metadata": {},
     "output_type": "execute_result"
    }
   ],
   "source": [
    "red_wine.columns.values"
   ]
  },
  {
   "cell_type": "code",
   "execution_count": 195,
   "metadata": {},
   "outputs": [
    {
     "data": {
      "text/plain": [
       "(1599, 12)"
      ]
     },
     "execution_count": 195,
     "metadata": {},
     "output_type": "execute_result"
    }
   ],
   "source": [
    "red_wine.shape"
   ]
  },
  {
   "cell_type": "code",
   "execution_count": 196,
   "metadata": {},
   "outputs": [],
   "source": [
    "white_wine = pd.read_csv('winequality-white.csv', sep = ';')"
   ]
  },
  {
   "cell_type": "code",
   "execution_count": 197,
   "metadata": {},
   "outputs": [
    {
     "data": {
      "text/plain": [
       "array(['fixed acidity', 'volatile acidity', 'citric acid',\n",
       "       'residual sugar', 'chlorides', 'free sulfur dioxide',\n",
       "       'total sulfur dioxide', 'density', 'pH', 'sulphates', 'alcohol',\n",
       "       'quality'], dtype=object)"
      ]
     },
     "execution_count": 197,
     "metadata": {},
     "output_type": "execute_result"
    }
   ],
   "source": [
    "white_wine.columns.values"
   ]
  },
  {
   "cell_type": "code",
   "execution_count": 199,
   "metadata": {},
   "outputs": [
    {
     "data": {
      "text/plain": [
       "(4898, 12)"
      ]
     },
     "execution_count": 199,
     "metadata": {},
     "output_type": "execute_result"
    }
   ],
   "source": [
    "white_wine.shape"
   ]
  },
  {
   "cell_type": "code",
   "execution_count": 200,
   "metadata": {},
   "outputs": [],
   "source": [
    "wine_data = pd.concat([red_wine,white_wine], axis = 0)"
   ]
  },
  {
   "cell_type": "code",
   "execution_count": 201,
   "metadata": {},
   "outputs": [
    {
     "data": {
      "text/plain": [
       "(6497, 12)"
      ]
     },
     "execution_count": 201,
     "metadata": {},
     "output_type": "execute_result"
    }
   ],
   "source": [
    "wine_data.shape"
   ]
  },
  {
   "cell_type": "markdown",
   "metadata": {},
   "source": [
    "### Joins datasets"
   ]
  },
  {
   "cell_type": "code",
   "execution_count": 4,
   "metadata": {},
   "outputs": [],
   "source": [
    "os.chdir('C:/Users/Andres/Desktop/Python/python-ml-course-master/datasets/athletes')"
   ]
  },
  {
   "cell_type": "code",
   "execution_count": 6,
   "metadata": {},
   "outputs": [
    {
     "data": {
      "text/plain": [
       "['Athelete_Country_Map.csv',\n",
       " 'Athelete_Sports_Map.csv',\n",
       " 'downloaded_medals.csv',\n",
       " 'downloaded_medals.json',\n",
       " 'downloaded_medals.xls',\n",
       " 'Medals.csv']"
      ]
     },
     "execution_count": 6,
     "metadata": {},
     "output_type": "execute_result"
    }
   ],
   "source": [
    "os.listdir()"
   ]
  },
  {
   "cell_type": "code",
   "execution_count": 64,
   "metadata": {},
   "outputs": [],
   "source": [
    "data_main = pd.read_csv('Medals.csv', encoding = 'ISO-8859-1')"
   ]
  },
  {
   "cell_type": "code",
   "execution_count": 65,
   "metadata": {},
   "outputs": [
    {
     "data": {
      "text/html": [
       "<div>\n",
       "<style scoped>\n",
       "    .dataframe tbody tr th:only-of-type {\n",
       "        vertical-align: middle;\n",
       "    }\n",
       "\n",
       "    .dataframe tbody tr th {\n",
       "        vertical-align: top;\n",
       "    }\n",
       "\n",
       "    .dataframe thead th {\n",
       "        text-align: right;\n",
       "    }\n",
       "</style>\n",
       "<table border=\"1\" class=\"dataframe\">\n",
       "  <thead>\n",
       "    <tr style=\"text-align: right;\">\n",
       "      <th></th>\n",
       "      <th>Athlete</th>\n",
       "      <th>Age</th>\n",
       "      <th>Year</th>\n",
       "      <th>Closing Ceremony Date</th>\n",
       "      <th>Gold Medals</th>\n",
       "      <th>Silver Medals</th>\n",
       "      <th>Bronze Medals</th>\n",
       "      <th>Total Medals</th>\n",
       "    </tr>\n",
       "  </thead>\n",
       "  <tbody>\n",
       "    <tr>\n",
       "      <th>0</th>\n",
       "      <td>Michael Phelps</td>\n",
       "      <td>23.0</td>\n",
       "      <td>2008</td>\n",
       "      <td>08/24/2008</td>\n",
       "      <td>8</td>\n",
       "      <td>0</td>\n",
       "      <td>0</td>\n",
       "      <td>8</td>\n",
       "    </tr>\n",
       "    <tr>\n",
       "      <th>1</th>\n",
       "      <td>Michael Phelps</td>\n",
       "      <td>19.0</td>\n",
       "      <td>2004</td>\n",
       "      <td>08/29/2004</td>\n",
       "      <td>6</td>\n",
       "      <td>0</td>\n",
       "      <td>2</td>\n",
       "      <td>8</td>\n",
       "    </tr>\n",
       "    <tr>\n",
       "      <th>2</th>\n",
       "      <td>Michael Phelps</td>\n",
       "      <td>27.0</td>\n",
       "      <td>2012</td>\n",
       "      <td>08/12/2012</td>\n",
       "      <td>4</td>\n",
       "      <td>2</td>\n",
       "      <td>0</td>\n",
       "      <td>6</td>\n",
       "    </tr>\n",
       "    <tr>\n",
       "      <th>3</th>\n",
       "      <td>Natalie Coughlin</td>\n",
       "      <td>25.0</td>\n",
       "      <td>2008</td>\n",
       "      <td>08/24/2008</td>\n",
       "      <td>1</td>\n",
       "      <td>2</td>\n",
       "      <td>3</td>\n",
       "      <td>6</td>\n",
       "    </tr>\n",
       "    <tr>\n",
       "      <th>4</th>\n",
       "      <td>Aleksey Nemov</td>\n",
       "      <td>24.0</td>\n",
       "      <td>2000</td>\n",
       "      <td>10/01/2000</td>\n",
       "      <td>2</td>\n",
       "      <td>1</td>\n",
       "      <td>3</td>\n",
       "      <td>6</td>\n",
       "    </tr>\n",
       "  </tbody>\n",
       "</table>\n",
       "</div>"
      ],
      "text/plain": [
       "            Athlete   Age  Year Closing Ceremony Date  Gold Medals  \\\n",
       "0    Michael Phelps  23.0  2008            08/24/2008            8   \n",
       "1    Michael Phelps  19.0  2004            08/29/2004            6   \n",
       "2    Michael Phelps  27.0  2012            08/12/2012            4   \n",
       "3  Natalie Coughlin  25.0  2008            08/24/2008            1   \n",
       "4     Aleksey Nemov  24.0  2000            10/01/2000            2   \n",
       "\n",
       "   Silver Medals  Bronze Medals  Total Medals  \n",
       "0              0              0             8  \n",
       "1              0              2             8  \n",
       "2              2              0             6  \n",
       "3              2              3             6  \n",
       "4              1              3             6  "
      ]
     },
     "execution_count": 65,
     "metadata": {},
     "output_type": "execute_result"
    }
   ],
   "source": [
    "data_main.head()"
   ]
  },
  {
   "cell_type": "code",
   "execution_count": 15,
   "metadata": {},
   "outputs": [
    {
     "data": {
      "text/plain": [
       "6956"
      ]
     },
     "execution_count": 15,
     "metadata": {},
     "output_type": "execute_result"
    }
   ],
   "source": [
    "a = data_main['Athlete'].unique().tolist()\n",
    "len(a)"
   ]
  },
  {
   "cell_type": "code",
   "execution_count": 17,
   "metadata": {},
   "outputs": [
    {
     "data": {
      "text/plain": [
       "(8618, 8)"
      ]
     },
     "execution_count": 17,
     "metadata": {},
     "output_type": "execute_result"
    }
   ],
   "source": [
    "data_main.shape"
   ]
  },
  {
   "cell_type": "code",
   "execution_count": 19,
   "metadata": {},
   "outputs": [],
   "source": [
    "data_country = pd.read_csv('Athelete_Country_Map.csv', encoding = 'ISO-8859-1')"
   ]
  },
  {
   "cell_type": "code",
   "execution_count": 20,
   "metadata": {},
   "outputs": [
    {
     "data": {
      "text/html": [
       "<div>\n",
       "<style scoped>\n",
       "    .dataframe tbody tr th:only-of-type {\n",
       "        vertical-align: middle;\n",
       "    }\n",
       "\n",
       "    .dataframe tbody tr th {\n",
       "        vertical-align: top;\n",
       "    }\n",
       "\n",
       "    .dataframe thead th {\n",
       "        text-align: right;\n",
       "    }\n",
       "</style>\n",
       "<table border=\"1\" class=\"dataframe\">\n",
       "  <thead>\n",
       "    <tr style=\"text-align: right;\">\n",
       "      <th></th>\n",
       "      <th>Athlete</th>\n",
       "      <th>Country</th>\n",
       "    </tr>\n",
       "  </thead>\n",
       "  <tbody>\n",
       "    <tr>\n",
       "      <th>0</th>\n",
       "      <td>Michael Phelps</td>\n",
       "      <td>United States</td>\n",
       "    </tr>\n",
       "    <tr>\n",
       "      <th>1</th>\n",
       "      <td>Natalie Coughlin</td>\n",
       "      <td>United States</td>\n",
       "    </tr>\n",
       "    <tr>\n",
       "      <th>2</th>\n",
       "      <td>Aleksey Nemov</td>\n",
       "      <td>Russia</td>\n",
       "    </tr>\n",
       "    <tr>\n",
       "      <th>3</th>\n",
       "      <td>Alicia Coutts</td>\n",
       "      <td>Australia</td>\n",
       "    </tr>\n",
       "    <tr>\n",
       "      <th>4</th>\n",
       "      <td>Missy Franklin</td>\n",
       "      <td>United States</td>\n",
       "    </tr>\n",
       "  </tbody>\n",
       "</table>\n",
       "</div>"
      ],
      "text/plain": [
       "            Athlete        Country\n",
       "0    Michael Phelps  United States\n",
       "1  Natalie Coughlin  United States\n",
       "2     Aleksey Nemov         Russia\n",
       "3     Alicia Coutts      Australia\n",
       "4    Missy Franklin  United States"
      ]
     },
     "execution_count": 20,
     "metadata": {},
     "output_type": "execute_result"
    }
   ],
   "source": [
    "data_country.head()"
   ]
  },
  {
   "cell_type": "code",
   "execution_count": 21,
   "metadata": {},
   "outputs": [
    {
     "data": {
      "text/plain": [
       "6970"
      ]
     },
     "execution_count": 21,
     "metadata": {},
     "output_type": "execute_result"
    }
   ],
   "source": [
    "len(data_country)"
   ]
  },
  {
   "cell_type": "code",
   "execution_count": 22,
   "metadata": {},
   "outputs": [],
   "source": [
    "data_sports = pd.read_csv('Athelete_Sports_Map.csv', encoding = 'ISO-8859-1')"
   ]
  },
  {
   "cell_type": "code",
   "execution_count": 23,
   "metadata": {},
   "outputs": [
    {
     "data": {
      "text/html": [
       "<div>\n",
       "<style scoped>\n",
       "    .dataframe tbody tr th:only-of-type {\n",
       "        vertical-align: middle;\n",
       "    }\n",
       "\n",
       "    .dataframe tbody tr th {\n",
       "        vertical-align: top;\n",
       "    }\n",
       "\n",
       "    .dataframe thead th {\n",
       "        text-align: right;\n",
       "    }\n",
       "</style>\n",
       "<table border=\"1\" class=\"dataframe\">\n",
       "  <thead>\n",
       "    <tr style=\"text-align: right;\">\n",
       "      <th></th>\n",
       "      <th>Athlete</th>\n",
       "      <th>Sport</th>\n",
       "    </tr>\n",
       "  </thead>\n",
       "  <tbody>\n",
       "    <tr>\n",
       "      <th>0</th>\n",
       "      <td>Michael Phelps</td>\n",
       "      <td>Swimming</td>\n",
       "    </tr>\n",
       "    <tr>\n",
       "      <th>1</th>\n",
       "      <td>Natalie Coughlin</td>\n",
       "      <td>Swimming</td>\n",
       "    </tr>\n",
       "    <tr>\n",
       "      <th>2</th>\n",
       "      <td>Aleksey Nemov</td>\n",
       "      <td>Gymnastics</td>\n",
       "    </tr>\n",
       "    <tr>\n",
       "      <th>3</th>\n",
       "      <td>Alicia Coutts</td>\n",
       "      <td>Swimming</td>\n",
       "    </tr>\n",
       "    <tr>\n",
       "      <th>4</th>\n",
       "      <td>Missy Franklin</td>\n",
       "      <td>Swimming</td>\n",
       "    </tr>\n",
       "  </tbody>\n",
       "</table>\n",
       "</div>"
      ],
      "text/plain": [
       "            Athlete       Sport\n",
       "0    Michael Phelps    Swimming\n",
       "1  Natalie Coughlin    Swimming\n",
       "2     Aleksey Nemov  Gymnastics\n",
       "3     Alicia Coutts    Swimming\n",
       "4    Missy Franklin    Swimming"
      ]
     },
     "execution_count": 23,
     "metadata": {},
     "output_type": "execute_result"
    }
   ],
   "source": [
    "data_sports.head()"
   ]
  },
  {
   "cell_type": "code",
   "execution_count": 24,
   "metadata": {},
   "outputs": [
    {
     "data": {
      "text/plain": [
       "6975"
      ]
     },
     "execution_count": 24,
     "metadata": {},
     "output_type": "execute_result"
    }
   ],
   "source": [
    "len(data_sports)"
   ]
  },
  {
   "cell_type": "code",
   "execution_count": 26,
   "metadata": {},
   "outputs": [
    {
     "data": {
      "text/html": [
       "<div>\n",
       "<style scoped>\n",
       "    .dataframe tbody tr th:only-of-type {\n",
       "        vertical-align: middle;\n",
       "    }\n",
       "\n",
       "    .dataframe tbody tr th {\n",
       "        vertical-align: top;\n",
       "    }\n",
       "\n",
       "    .dataframe thead th {\n",
       "        text-align: right;\n",
       "    }\n",
       "</style>\n",
       "<table border=\"1\" class=\"dataframe\">\n",
       "  <thead>\n",
       "    <tr style=\"text-align: right;\">\n",
       "      <th></th>\n",
       "      <th>Athlete</th>\n",
       "      <th>Sport</th>\n",
       "    </tr>\n",
       "  </thead>\n",
       "  <tbody>\n",
       "    <tr>\n",
       "      <th>528</th>\n",
       "      <td>Richard Thompson</td>\n",
       "      <td>Athletics</td>\n",
       "    </tr>\n",
       "    <tr>\n",
       "      <th>1308</th>\n",
       "      <td>Chen Jing</td>\n",
       "      <td>Volleyball</td>\n",
       "    </tr>\n",
       "    <tr>\n",
       "      <th>1419</th>\n",
       "      <td>Chen Jing</td>\n",
       "      <td>Table Tennis</td>\n",
       "    </tr>\n",
       "    <tr>\n",
       "      <th>2727</th>\n",
       "      <td>Matt Ryan</td>\n",
       "      <td>Rowing</td>\n",
       "    </tr>\n",
       "    <tr>\n",
       "      <th>5003</th>\n",
       "      <td>Matt Ryan</td>\n",
       "      <td>Equestrian</td>\n",
       "    </tr>\n",
       "    <tr>\n",
       "      <th>5691</th>\n",
       "      <td>Richard Thompson</td>\n",
       "      <td>Baseball</td>\n",
       "    </tr>\n",
       "  </tbody>\n",
       "</table>\n",
       "</div>"
      ],
      "text/plain": [
       "               Athlete         Sport\n",
       "528   Richard Thompson     Athletics\n",
       "1308         Chen Jing    Volleyball\n",
       "1419         Chen Jing  Table Tennis\n",
       "2727         Matt Ryan        Rowing\n",
       "5003         Matt Ryan    Equestrian\n",
       "5691  Richard Thompson      Baseball"
      ]
     },
     "execution_count": 26,
     "metadata": {},
     "output_type": "execute_result"
    }
   ],
   "source": [
    "data_sports[(data_sports['Athlete'] == 'Chen Jing')|\n",
    "            (data_sports['Athlete'] == 'Richard Thompson')|\n",
    "            (data_sports['Athlete'] == 'Matt Ryan')]"
   ]
  },
  {
   "cell_type": "code",
   "execution_count": 30,
   "metadata": {},
   "outputs": [],
   "source": [
    "data_country_dp = data_country.drop_duplicates(subset ='Athlete')"
   ]
  },
  {
   "cell_type": "code",
   "execution_count": 31,
   "metadata": {},
   "outputs": [
    {
     "data": {
      "text/plain": [
       "6956"
      ]
     },
     "execution_count": 31,
     "metadata": {},
     "output_type": "execute_result"
    }
   ],
   "source": [
    "len(data_country_dp)"
   ]
  },
  {
   "cell_type": "code",
   "execution_count": 32,
   "metadata": {},
   "outputs": [],
   "source": [
    "data_main_country = pd.merge(left = data_main, right = data_country_dp,\n",
    "                            left_on = 'Athlete', right_on = 'Athlete')"
   ]
  },
  {
   "cell_type": "code",
   "execution_count": 33,
   "metadata": {},
   "outputs": [
    {
     "data": {
      "text/html": [
       "<div>\n",
       "<style scoped>\n",
       "    .dataframe tbody tr th:only-of-type {\n",
       "        vertical-align: middle;\n",
       "    }\n",
       "\n",
       "    .dataframe tbody tr th {\n",
       "        vertical-align: top;\n",
       "    }\n",
       "\n",
       "    .dataframe thead th {\n",
       "        text-align: right;\n",
       "    }\n",
       "</style>\n",
       "<table border=\"1\" class=\"dataframe\">\n",
       "  <thead>\n",
       "    <tr style=\"text-align: right;\">\n",
       "      <th></th>\n",
       "      <th>Athlete</th>\n",
       "      <th>Age</th>\n",
       "      <th>Year</th>\n",
       "      <th>Closing Ceremony Date</th>\n",
       "      <th>Gold Medals</th>\n",
       "      <th>Silver Medals</th>\n",
       "      <th>Bronze Medals</th>\n",
       "      <th>Total Medals</th>\n",
       "      <th>Country</th>\n",
       "    </tr>\n",
       "  </thead>\n",
       "  <tbody>\n",
       "    <tr>\n",
       "      <th>0</th>\n",
       "      <td>Michael Phelps</td>\n",
       "      <td>23.0</td>\n",
       "      <td>2008</td>\n",
       "      <td>08/24/2008</td>\n",
       "      <td>8</td>\n",
       "      <td>0</td>\n",
       "      <td>0</td>\n",
       "      <td>8</td>\n",
       "      <td>United States</td>\n",
       "    </tr>\n",
       "    <tr>\n",
       "      <th>1</th>\n",
       "      <td>Michael Phelps</td>\n",
       "      <td>19.0</td>\n",
       "      <td>2004</td>\n",
       "      <td>08/29/2004</td>\n",
       "      <td>6</td>\n",
       "      <td>0</td>\n",
       "      <td>2</td>\n",
       "      <td>8</td>\n",
       "      <td>United States</td>\n",
       "    </tr>\n",
       "    <tr>\n",
       "      <th>2</th>\n",
       "      <td>Michael Phelps</td>\n",
       "      <td>27.0</td>\n",
       "      <td>2012</td>\n",
       "      <td>08/12/2012</td>\n",
       "      <td>4</td>\n",
       "      <td>2</td>\n",
       "      <td>0</td>\n",
       "      <td>6</td>\n",
       "      <td>United States</td>\n",
       "    </tr>\n",
       "    <tr>\n",
       "      <th>3</th>\n",
       "      <td>Natalie Coughlin</td>\n",
       "      <td>25.0</td>\n",
       "      <td>2008</td>\n",
       "      <td>08/24/2008</td>\n",
       "      <td>1</td>\n",
       "      <td>2</td>\n",
       "      <td>3</td>\n",
       "      <td>6</td>\n",
       "      <td>United States</td>\n",
       "    </tr>\n",
       "    <tr>\n",
       "      <th>4</th>\n",
       "      <td>Natalie Coughlin</td>\n",
       "      <td>21.0</td>\n",
       "      <td>2004</td>\n",
       "      <td>08/29/2004</td>\n",
       "      <td>2</td>\n",
       "      <td>2</td>\n",
       "      <td>1</td>\n",
       "      <td>5</td>\n",
       "      <td>United States</td>\n",
       "    </tr>\n",
       "  </tbody>\n",
       "</table>\n",
       "</div>"
      ],
      "text/plain": [
       "            Athlete   Age  Year Closing Ceremony Date  Gold Medals  \\\n",
       "0    Michael Phelps  23.0  2008            08/24/2008            8   \n",
       "1    Michael Phelps  19.0  2004            08/29/2004            6   \n",
       "2    Michael Phelps  27.0  2012            08/12/2012            4   \n",
       "3  Natalie Coughlin  25.0  2008            08/24/2008            1   \n",
       "4  Natalie Coughlin  21.0  2004            08/29/2004            2   \n",
       "\n",
       "   Silver Medals  Bronze Medals  Total Medals        Country  \n",
       "0              0              0             8  United States  \n",
       "1              0              2             8  United States  \n",
       "2              2              0             6  United States  \n",
       "3              2              3             6  United States  \n",
       "4              2              1             5  United States  "
      ]
     },
     "execution_count": 33,
     "metadata": {},
     "output_type": "execute_result"
    }
   ],
   "source": [
    "data_main_country.head()"
   ]
  },
  {
   "cell_type": "code",
   "execution_count": 34,
   "metadata": {},
   "outputs": [
    {
     "data": {
      "text/plain": [
       "(8618, 9)"
      ]
     },
     "execution_count": 34,
     "metadata": {},
     "output_type": "execute_result"
    }
   ],
   "source": [
    "data_main_country.shape"
   ]
  },
  {
   "cell_type": "code",
   "execution_count": 38,
   "metadata": {},
   "outputs": [],
   "source": [
    "data_sports_dp = data_sports.drop_duplicates(subset = 'Athlete')"
   ]
  },
  {
   "cell_type": "code",
   "execution_count": 39,
   "metadata": {},
   "outputs": [],
   "source": [
    "data_final = pd.merge(left = data_main_country, right = data_sports_dp, left_on= 'Athlete', right_on = 'Athlete' )"
   ]
  },
  {
   "cell_type": "code",
   "execution_count": 41,
   "metadata": {},
   "outputs": [
    {
     "data": {
      "text/html": [
       "<div>\n",
       "<style scoped>\n",
       "    .dataframe tbody tr th:only-of-type {\n",
       "        vertical-align: middle;\n",
       "    }\n",
       "\n",
       "    .dataframe tbody tr th {\n",
       "        vertical-align: top;\n",
       "    }\n",
       "\n",
       "    .dataframe thead th {\n",
       "        text-align: right;\n",
       "    }\n",
       "</style>\n",
       "<table border=\"1\" class=\"dataframe\">\n",
       "  <thead>\n",
       "    <tr style=\"text-align: right;\">\n",
       "      <th></th>\n",
       "      <th>Athlete</th>\n",
       "      <th>Age</th>\n",
       "      <th>Year</th>\n",
       "      <th>Closing Ceremony Date</th>\n",
       "      <th>Gold Medals</th>\n",
       "      <th>Silver Medals</th>\n",
       "      <th>Bronze Medals</th>\n",
       "      <th>Total Medals</th>\n",
       "      <th>Country</th>\n",
       "      <th>Sport</th>\n",
       "    </tr>\n",
       "  </thead>\n",
       "  <tbody>\n",
       "    <tr>\n",
       "      <th>0</th>\n",
       "      <td>Michael Phelps</td>\n",
       "      <td>23.0</td>\n",
       "      <td>2008</td>\n",
       "      <td>08/24/2008</td>\n",
       "      <td>8</td>\n",
       "      <td>0</td>\n",
       "      <td>0</td>\n",
       "      <td>8</td>\n",
       "      <td>United States</td>\n",
       "      <td>Swimming</td>\n",
       "    </tr>\n",
       "    <tr>\n",
       "      <th>1</th>\n",
       "      <td>Michael Phelps</td>\n",
       "      <td>19.0</td>\n",
       "      <td>2004</td>\n",
       "      <td>08/29/2004</td>\n",
       "      <td>6</td>\n",
       "      <td>0</td>\n",
       "      <td>2</td>\n",
       "      <td>8</td>\n",
       "      <td>United States</td>\n",
       "      <td>Swimming</td>\n",
       "    </tr>\n",
       "    <tr>\n",
       "      <th>2</th>\n",
       "      <td>Michael Phelps</td>\n",
       "      <td>27.0</td>\n",
       "      <td>2012</td>\n",
       "      <td>08/12/2012</td>\n",
       "      <td>4</td>\n",
       "      <td>2</td>\n",
       "      <td>0</td>\n",
       "      <td>6</td>\n",
       "      <td>United States</td>\n",
       "      <td>Swimming</td>\n",
       "    </tr>\n",
       "    <tr>\n",
       "      <th>3</th>\n",
       "      <td>Natalie Coughlin</td>\n",
       "      <td>25.0</td>\n",
       "      <td>2008</td>\n",
       "      <td>08/24/2008</td>\n",
       "      <td>1</td>\n",
       "      <td>2</td>\n",
       "      <td>3</td>\n",
       "      <td>6</td>\n",
       "      <td>United States</td>\n",
       "      <td>Swimming</td>\n",
       "    </tr>\n",
       "    <tr>\n",
       "      <th>4</th>\n",
       "      <td>Natalie Coughlin</td>\n",
       "      <td>21.0</td>\n",
       "      <td>2004</td>\n",
       "      <td>08/29/2004</td>\n",
       "      <td>2</td>\n",
       "      <td>2</td>\n",
       "      <td>1</td>\n",
       "      <td>5</td>\n",
       "      <td>United States</td>\n",
       "      <td>Swimming</td>\n",
       "    </tr>\n",
       "  </tbody>\n",
       "</table>\n",
       "</div>"
      ],
      "text/plain": [
       "            Athlete   Age  Year Closing Ceremony Date  Gold Medals  \\\n",
       "0    Michael Phelps  23.0  2008            08/24/2008            8   \n",
       "1    Michael Phelps  19.0  2004            08/29/2004            6   \n",
       "2    Michael Phelps  27.0  2012            08/12/2012            4   \n",
       "3  Natalie Coughlin  25.0  2008            08/24/2008            1   \n",
       "4  Natalie Coughlin  21.0  2004            08/29/2004            2   \n",
       "\n",
       "   Silver Medals  Bronze Medals  Total Medals        Country     Sport  \n",
       "0              0              0             8  United States  Swimming  \n",
       "1              0              2             8  United States  Swimming  \n",
       "2              2              0             6  United States  Swimming  \n",
       "3              2              3             6  United States  Swimming  \n",
       "4              2              1             5  United States  Swimming  "
      ]
     },
     "execution_count": 41,
     "metadata": {},
     "output_type": "execute_result"
    }
   ],
   "source": [
    "data_final.head()"
   ]
  },
  {
   "cell_type": "markdown",
   "metadata": {},
   "source": [
    "### Tipos de joins"
   ]
  },
  {
   "cell_type": "code",
   "execution_count": 51,
   "metadata": {},
   "outputs": [
    {
     "data": {
      "text/plain": [
       "array(['Patricia Tarabini', 'Antonio McDyess', 'Jyrki Järvi',\n",
       "       'Yulieski Gourriel', 'Anabel Gambero', 'Varteres Samurgashev'],\n",
       "      dtype=object)"
      ]
     },
     "execution_count": 51,
     "metadata": {},
     "output_type": "execute_result"
    }
   ],
   "source": [
    "out_athletes = np.random.choice(data_main['Athlete'], size = 6,replace = False)"
   ]
  },
  {
   "cell_type": "code",
   "execution_count": 63,
   "metadata": {},
   "outputs": [],
   "source": [
    "data_country_dlt = data_country_dp[(~data_country_dp['Athlete'].isin(out_athletes)) &\n",
    "                                  (data_country_dp['Athlete'] != 'Michael Phelps')]\n",
    "data_sports_dlt = data_sports_dp[(~data_sports_dp['Athlete'].isin(out_athletes))&\n",
    "                                (data_sports_dp['Athlete'] != 'Michael Phelps')]\n",
    "data_main_dlt = data_main[(~data_main['Athlete'].isin(out_athletes))&\n",
    "                                (data_main['Athlete'] != 'Michael Phelps')]"
   ]
  },
  {
   "cell_type": "code",
   "execution_count": 52,
   "metadata": {},
   "outputs": [
    {
     "data": {
      "text/html": [
       "<div>\n",
       "<style scoped>\n",
       "    .dataframe tbody tr th:only-of-type {\n",
       "        vertical-align: middle;\n",
       "    }\n",
       "\n",
       "    .dataframe tbody tr th {\n",
       "        vertical-align: top;\n",
       "    }\n",
       "\n",
       "    .dataframe thead th {\n",
       "        text-align: right;\n",
       "    }\n",
       "</style>\n",
       "<table border=\"1\" class=\"dataframe\">\n",
       "  <thead>\n",
       "    <tr style=\"text-align: right;\">\n",
       "      <th></th>\n",
       "      <th>Athlete</th>\n",
       "      <th>Country</th>\n",
       "    </tr>\n",
       "  </thead>\n",
       "  <tbody>\n",
       "    <tr>\n",
       "      <th>1</th>\n",
       "      <td>Natalie Coughlin</td>\n",
       "      <td>United States</td>\n",
       "    </tr>\n",
       "    <tr>\n",
       "      <th>2</th>\n",
       "      <td>Aleksey Nemov</td>\n",
       "      <td>Russia</td>\n",
       "    </tr>\n",
       "    <tr>\n",
       "      <th>3</th>\n",
       "      <td>Alicia Coutts</td>\n",
       "      <td>Australia</td>\n",
       "    </tr>\n",
       "    <tr>\n",
       "      <th>4</th>\n",
       "      <td>Missy Franklin</td>\n",
       "      <td>United States</td>\n",
       "    </tr>\n",
       "    <tr>\n",
       "      <th>5</th>\n",
       "      <td>Ryan Lochte</td>\n",
       "      <td>United States</td>\n",
       "    </tr>\n",
       "  </tbody>\n",
       "</table>\n",
       "</div>"
      ],
      "text/plain": [
       "            Athlete        Country\n",
       "1  Natalie Coughlin  United States\n",
       "2     Aleksey Nemov         Russia\n",
       "3     Alicia Coutts      Australia\n",
       "4    Missy Franklin  United States\n",
       "5       Ryan Lochte  United States"
      ]
     },
     "execution_count": 52,
     "metadata": {},
     "output_type": "execute_result"
    }
   ],
   "source": [
    "data_country_dlt.head()"
   ]
  },
  {
   "cell_type": "code",
   "execution_count": 54,
   "metadata": {},
   "outputs": [
    {
     "data": {
      "text/html": [
       "<div>\n",
       "<style scoped>\n",
       "    .dataframe tbody tr th:only-of-type {\n",
       "        vertical-align: middle;\n",
       "    }\n",
       "\n",
       "    .dataframe tbody tr th {\n",
       "        vertical-align: top;\n",
       "    }\n",
       "\n",
       "    .dataframe thead th {\n",
       "        text-align: right;\n",
       "    }\n",
       "</style>\n",
       "<table border=\"1\" class=\"dataframe\">\n",
       "  <thead>\n",
       "    <tr style=\"text-align: right;\">\n",
       "      <th></th>\n",
       "      <th>Athlete</th>\n",
       "      <th>Sport</th>\n",
       "    </tr>\n",
       "  </thead>\n",
       "  <tbody>\n",
       "    <tr>\n",
       "      <th>1</th>\n",
       "      <td>Natalie Coughlin</td>\n",
       "      <td>Swimming</td>\n",
       "    </tr>\n",
       "    <tr>\n",
       "      <th>2</th>\n",
       "      <td>Aleksey Nemov</td>\n",
       "      <td>Gymnastics</td>\n",
       "    </tr>\n",
       "    <tr>\n",
       "      <th>3</th>\n",
       "      <td>Alicia Coutts</td>\n",
       "      <td>Swimming</td>\n",
       "    </tr>\n",
       "    <tr>\n",
       "      <th>4</th>\n",
       "      <td>Missy Franklin</td>\n",
       "      <td>Swimming</td>\n",
       "    </tr>\n",
       "    <tr>\n",
       "      <th>5</th>\n",
       "      <td>Ryan Lochte</td>\n",
       "      <td>Swimming</td>\n",
       "    </tr>\n",
       "  </tbody>\n",
       "</table>\n",
       "</div>"
      ],
      "text/plain": [
       "            Athlete       Sport\n",
       "1  Natalie Coughlin    Swimming\n",
       "2     Aleksey Nemov  Gymnastics\n",
       "3     Alicia Coutts    Swimming\n",
       "4    Missy Franklin    Swimming\n",
       "5       Ryan Lochte    Swimming"
      ]
     },
     "execution_count": 54,
     "metadata": {},
     "output_type": "execute_result"
    }
   ],
   "source": [
    "data_sports_dlt.head()"
   ]
  },
  {
   "cell_type": "markdown",
   "metadata": {},
   "source": [
    "### Inner Join"
   ]
  },
  {
   "cell_type": "code",
   "execution_count": 56,
   "metadata": {},
   "outputs": [],
   "source": [
    "#data_main contiene toda la info\n",
    "#data_country_dlt le falta la info de 7 atletas\n",
    "merged_inner = pd.merge(left = data_main,right = data_country_dlt,\n",
    "                       how = 'inner', left_on = 'Athlete', right_on = 'Athlete')"
   ]
  },
  {
   "cell_type": "code",
   "execution_count": 59,
   "metadata": {},
   "outputs": [
    {
     "data": {
      "text/html": [
       "<div>\n",
       "<style scoped>\n",
       "    .dataframe tbody tr th:only-of-type {\n",
       "        vertical-align: middle;\n",
       "    }\n",
       "\n",
       "    .dataframe tbody tr th {\n",
       "        vertical-align: top;\n",
       "    }\n",
       "\n",
       "    .dataframe thead th {\n",
       "        text-align: right;\n",
       "    }\n",
       "</style>\n",
       "<table border=\"1\" class=\"dataframe\">\n",
       "  <thead>\n",
       "    <tr style=\"text-align: right;\">\n",
       "      <th></th>\n",
       "      <th>Athlete</th>\n",
       "      <th>Age</th>\n",
       "      <th>Year</th>\n",
       "      <th>Closing Ceremony Date</th>\n",
       "      <th>Gold Medals</th>\n",
       "      <th>Silver Medals</th>\n",
       "      <th>Bronze Medals</th>\n",
       "      <th>Total Medals</th>\n",
       "      <th>Country</th>\n",
       "    </tr>\n",
       "  </thead>\n",
       "  <tbody>\n",
       "    <tr>\n",
       "      <th>0</th>\n",
       "      <td>Natalie Coughlin</td>\n",
       "      <td>25.0</td>\n",
       "      <td>2008</td>\n",
       "      <td>08/24/2008</td>\n",
       "      <td>1</td>\n",
       "      <td>2</td>\n",
       "      <td>3</td>\n",
       "      <td>6</td>\n",
       "      <td>United States</td>\n",
       "    </tr>\n",
       "    <tr>\n",
       "      <th>1</th>\n",
       "      <td>Natalie Coughlin</td>\n",
       "      <td>21.0</td>\n",
       "      <td>2004</td>\n",
       "      <td>08/29/2004</td>\n",
       "      <td>2</td>\n",
       "      <td>2</td>\n",
       "      <td>1</td>\n",
       "      <td>5</td>\n",
       "      <td>United States</td>\n",
       "    </tr>\n",
       "    <tr>\n",
       "      <th>2</th>\n",
       "      <td>Natalie Coughlin</td>\n",
       "      <td>29.0</td>\n",
       "      <td>2012</td>\n",
       "      <td>08/12/2012</td>\n",
       "      <td>0</td>\n",
       "      <td>0</td>\n",
       "      <td>1</td>\n",
       "      <td>1</td>\n",
       "      <td>United States</td>\n",
       "    </tr>\n",
       "    <tr>\n",
       "      <th>3</th>\n",
       "      <td>Aleksey Nemov</td>\n",
       "      <td>24.0</td>\n",
       "      <td>2000</td>\n",
       "      <td>10/01/2000</td>\n",
       "      <td>2</td>\n",
       "      <td>1</td>\n",
       "      <td>3</td>\n",
       "      <td>6</td>\n",
       "      <td>Russia</td>\n",
       "    </tr>\n",
       "    <tr>\n",
       "      <th>4</th>\n",
       "      <td>Alicia Coutts</td>\n",
       "      <td>24.0</td>\n",
       "      <td>2012</td>\n",
       "      <td>08/12/2012</td>\n",
       "      <td>1</td>\n",
       "      <td>3</td>\n",
       "      <td>1</td>\n",
       "      <td>5</td>\n",
       "      <td>Australia</td>\n",
       "    </tr>\n",
       "  </tbody>\n",
       "</table>\n",
       "</div>"
      ],
      "text/plain": [
       "            Athlete   Age  Year Closing Ceremony Date  Gold Medals  \\\n",
       "0  Natalie Coughlin  25.0  2008            08/24/2008            1   \n",
       "1  Natalie Coughlin  21.0  2004            08/29/2004            2   \n",
       "2  Natalie Coughlin  29.0  2012            08/12/2012            0   \n",
       "3     Aleksey Nemov  24.0  2000            10/01/2000            2   \n",
       "4     Alicia Coutts  24.0  2012            08/12/2012            1   \n",
       "\n",
       "   Silver Medals  Bronze Medals  Total Medals        Country  \n",
       "0              2              3             6  United States  \n",
       "1              2              1             5  United States  \n",
       "2              0              1             1  United States  \n",
       "3              1              3             6         Russia  \n",
       "4              3              1             5      Australia  "
      ]
     },
     "execution_count": 59,
     "metadata": {},
     "output_type": "execute_result"
    }
   ],
   "source": [
    "merged_inner.head()"
   ]
  },
  {
   "cell_type": "markdown",
   "metadata": {},
   "source": [
    "### Left Join"
   ]
  },
  {
   "cell_type": "code",
   "execution_count": 66,
   "metadata": {},
   "outputs": [
    {
     "data": {
      "text/html": [
       "<div>\n",
       "<style scoped>\n",
       "    .dataframe tbody tr th:only-of-type {\n",
       "        vertical-align: middle;\n",
       "    }\n",
       "\n",
       "    .dataframe tbody tr th {\n",
       "        vertical-align: top;\n",
       "    }\n",
       "\n",
       "    .dataframe thead th {\n",
       "        text-align: right;\n",
       "    }\n",
       "</style>\n",
       "<table border=\"1\" class=\"dataframe\">\n",
       "  <thead>\n",
       "    <tr style=\"text-align: right;\">\n",
       "      <th></th>\n",
       "      <th>Athlete</th>\n",
       "      <th>Age</th>\n",
       "      <th>Year</th>\n",
       "      <th>Closing Ceremony Date</th>\n",
       "      <th>Gold Medals</th>\n",
       "      <th>Silver Medals</th>\n",
       "      <th>Bronze Medals</th>\n",
       "      <th>Total Medals</th>\n",
       "      <th>Country</th>\n",
       "    </tr>\n",
       "  </thead>\n",
       "  <tbody>\n",
       "    <tr>\n",
       "      <th>0</th>\n",
       "      <td>Michael Phelps</td>\n",
       "      <td>23.0</td>\n",
       "      <td>2008</td>\n",
       "      <td>08/24/2008</td>\n",
       "      <td>8</td>\n",
       "      <td>0</td>\n",
       "      <td>0</td>\n",
       "      <td>8</td>\n",
       "      <td>NaN</td>\n",
       "    </tr>\n",
       "    <tr>\n",
       "      <th>1</th>\n",
       "      <td>Michael Phelps</td>\n",
       "      <td>19.0</td>\n",
       "      <td>2004</td>\n",
       "      <td>08/29/2004</td>\n",
       "      <td>6</td>\n",
       "      <td>0</td>\n",
       "      <td>2</td>\n",
       "      <td>8</td>\n",
       "      <td>NaN</td>\n",
       "    </tr>\n",
       "    <tr>\n",
       "      <th>2</th>\n",
       "      <td>Michael Phelps</td>\n",
       "      <td>27.0</td>\n",
       "      <td>2012</td>\n",
       "      <td>08/12/2012</td>\n",
       "      <td>4</td>\n",
       "      <td>2</td>\n",
       "      <td>0</td>\n",
       "      <td>6</td>\n",
       "      <td>NaN</td>\n",
       "    </tr>\n",
       "    <tr>\n",
       "      <th>3</th>\n",
       "      <td>Natalie Coughlin</td>\n",
       "      <td>25.0</td>\n",
       "      <td>2008</td>\n",
       "      <td>08/24/2008</td>\n",
       "      <td>1</td>\n",
       "      <td>2</td>\n",
       "      <td>3</td>\n",
       "      <td>6</td>\n",
       "      <td>United States</td>\n",
       "    </tr>\n",
       "    <tr>\n",
       "      <th>4</th>\n",
       "      <td>Aleksey Nemov</td>\n",
       "      <td>24.0</td>\n",
       "      <td>2000</td>\n",
       "      <td>10/01/2000</td>\n",
       "      <td>2</td>\n",
       "      <td>1</td>\n",
       "      <td>3</td>\n",
       "      <td>6</td>\n",
       "      <td>Russia</td>\n",
       "    </tr>\n",
       "  </tbody>\n",
       "</table>\n",
       "</div>"
      ],
      "text/plain": [
       "            Athlete   Age  Year Closing Ceremony Date  Gold Medals  \\\n",
       "0    Michael Phelps  23.0  2008            08/24/2008            8   \n",
       "1    Michael Phelps  19.0  2004            08/29/2004            6   \n",
       "2    Michael Phelps  27.0  2012            08/12/2012            4   \n",
       "3  Natalie Coughlin  25.0  2008            08/24/2008            1   \n",
       "4     Aleksey Nemov  24.0  2000            10/01/2000            2   \n",
       "\n",
       "   Silver Medals  Bronze Medals  Total Medals        Country  \n",
       "0              0              0             8            NaN  \n",
       "1              0              2             8            NaN  \n",
       "2              2              0             6            NaN  \n",
       "3              2              3             6  United States  \n",
       "4              1              3             6         Russia  "
      ]
     },
     "execution_count": 66,
     "metadata": {},
     "output_type": "execute_result"
    }
   ],
   "source": [
    "merged_left = pd.merge(left = data_main, right = data_country_dlt,\n",
    "                      how ='left', left_on = 'Athlete', right_on = 'Athlete')\n",
    "merged_left.head()"
   ]
  },
  {
   "cell_type": "markdown",
   "metadata": {},
   "source": [
    "### Right Join"
   ]
  },
  {
   "cell_type": "code",
   "execution_count": 67,
   "metadata": {},
   "outputs": [],
   "source": [
    "merged_right = pd.merge(left = data_main_dlt, right = data_country_dp,\n",
    "                       how = 'right', left_on = 'Athlete', right_on = 'Athlete')"
   ]
  },
  {
   "cell_type": "code",
   "execution_count": 72,
   "metadata": {},
   "outputs": [
    {
     "data": {
      "text/html": [
       "<div>\n",
       "<style scoped>\n",
       "    .dataframe tbody tr th:only-of-type {\n",
       "        vertical-align: middle;\n",
       "    }\n",
       "\n",
       "    .dataframe tbody tr th {\n",
       "        vertical-align: top;\n",
       "    }\n",
       "\n",
       "    .dataframe thead th {\n",
       "        text-align: right;\n",
       "    }\n",
       "</style>\n",
       "<table border=\"1\" class=\"dataframe\">\n",
       "  <thead>\n",
       "    <tr style=\"text-align: right;\">\n",
       "      <th></th>\n",
       "      <th>Athlete</th>\n",
       "      <th>Age</th>\n",
       "      <th>Year</th>\n",
       "      <th>Closing Ceremony Date</th>\n",
       "      <th>Gold Medals</th>\n",
       "      <th>Silver Medals</th>\n",
       "      <th>Bronze Medals</th>\n",
       "      <th>Total Medals</th>\n",
       "      <th>Country</th>\n",
       "    </tr>\n",
       "  </thead>\n",
       "  <tbody>\n",
       "    <tr>\n",
       "      <th>8604</th>\n",
       "      <td>Wietse van Alten</td>\n",
       "      <td>21.0</td>\n",
       "      <td>2000.0</td>\n",
       "      <td>10/01/2000</td>\n",
       "      <td>0.0</td>\n",
       "      <td>0.0</td>\n",
       "      <td>1.0</td>\n",
       "      <td>1.0</td>\n",
       "      <td>Netherlands</td>\n",
       "    </tr>\n",
       "    <tr>\n",
       "      <th>8605</th>\n",
       "      <td>Sandra Wagner-Sachse</td>\n",
       "      <td>31.0</td>\n",
       "      <td>2000.0</td>\n",
       "      <td>10/01/2000</td>\n",
       "      <td>0.0</td>\n",
       "      <td>0.0</td>\n",
       "      <td>1.0</td>\n",
       "      <td>1.0</td>\n",
       "      <td>Germany</td>\n",
       "    </tr>\n",
       "    <tr>\n",
       "      <th>8606</th>\n",
       "      <td>Rod White</td>\n",
       "      <td>23.0</td>\n",
       "      <td>2000.0</td>\n",
       "      <td>10/01/2000</td>\n",
       "      <td>0.0</td>\n",
       "      <td>0.0</td>\n",
       "      <td>1.0</td>\n",
       "      <td>1.0</td>\n",
       "      <td>United States</td>\n",
       "    </tr>\n",
       "    <tr>\n",
       "      <th>8607</th>\n",
       "      <td>Michael Phelps</td>\n",
       "      <td>NaN</td>\n",
       "      <td>NaN</td>\n",
       "      <td>NaN</td>\n",
       "      <td>NaN</td>\n",
       "      <td>NaN</td>\n",
       "      <td>NaN</td>\n",
       "      <td>NaN</td>\n",
       "      <td>United States</td>\n",
       "    </tr>\n",
       "    <tr>\n",
       "      <th>8608</th>\n",
       "      <td>Varteres Samurgashev</td>\n",
       "      <td>NaN</td>\n",
       "      <td>NaN</td>\n",
       "      <td>NaN</td>\n",
       "      <td>NaN</td>\n",
       "      <td>NaN</td>\n",
       "      <td>NaN</td>\n",
       "      <td>NaN</td>\n",
       "      <td>Russia</td>\n",
       "    </tr>\n",
       "    <tr>\n",
       "      <th>8609</th>\n",
       "      <td>Patricia Tarabini</td>\n",
       "      <td>NaN</td>\n",
       "      <td>NaN</td>\n",
       "      <td>NaN</td>\n",
       "      <td>NaN</td>\n",
       "      <td>NaN</td>\n",
       "      <td>NaN</td>\n",
       "      <td>NaN</td>\n",
       "      <td>Argentina</td>\n",
       "    </tr>\n",
       "    <tr>\n",
       "      <th>8610</th>\n",
       "      <td>Jyrki Järvi</td>\n",
       "      <td>NaN</td>\n",
       "      <td>NaN</td>\n",
       "      <td>NaN</td>\n",
       "      <td>NaN</td>\n",
       "      <td>NaN</td>\n",
       "      <td>NaN</td>\n",
       "      <td>NaN</td>\n",
       "      <td>Finland</td>\n",
       "    </tr>\n",
       "    <tr>\n",
       "      <th>8611</th>\n",
       "      <td>Anabel Gambero</td>\n",
       "      <td>NaN</td>\n",
       "      <td>NaN</td>\n",
       "      <td>NaN</td>\n",
       "      <td>NaN</td>\n",
       "      <td>NaN</td>\n",
       "      <td>NaN</td>\n",
       "      <td>NaN</td>\n",
       "      <td>Argentina</td>\n",
       "    </tr>\n",
       "    <tr>\n",
       "      <th>8612</th>\n",
       "      <td>Yulieski Gourriel</td>\n",
       "      <td>NaN</td>\n",
       "      <td>NaN</td>\n",
       "      <td>NaN</td>\n",
       "      <td>NaN</td>\n",
       "      <td>NaN</td>\n",
       "      <td>NaN</td>\n",
       "      <td>NaN</td>\n",
       "      <td>Cuba</td>\n",
       "    </tr>\n",
       "    <tr>\n",
       "      <th>8613</th>\n",
       "      <td>Antonio McDyess</td>\n",
       "      <td>NaN</td>\n",
       "      <td>NaN</td>\n",
       "      <td>NaN</td>\n",
       "      <td>NaN</td>\n",
       "      <td>NaN</td>\n",
       "      <td>NaN</td>\n",
       "      <td>NaN</td>\n",
       "      <td>United States</td>\n",
       "    </tr>\n",
       "  </tbody>\n",
       "</table>\n",
       "</div>"
      ],
      "text/plain": [
       "                   Athlete   Age    Year Closing Ceremony Date  Gold Medals  \\\n",
       "8604      Wietse van Alten  21.0  2000.0            10/01/2000          0.0   \n",
       "8605  Sandra Wagner-Sachse  31.0  2000.0            10/01/2000          0.0   \n",
       "8606             Rod White  23.0  2000.0            10/01/2000          0.0   \n",
       "8607        Michael Phelps   NaN     NaN                   NaN          NaN   \n",
       "8608  Varteres Samurgashev   NaN     NaN                   NaN          NaN   \n",
       "8609     Patricia Tarabini   NaN     NaN                   NaN          NaN   \n",
       "8610           Jyrki Järvi   NaN     NaN                   NaN          NaN   \n",
       "8611        Anabel Gambero   NaN     NaN                   NaN          NaN   \n",
       "8612     Yulieski Gourriel   NaN     NaN                   NaN          NaN   \n",
       "8613       Antonio McDyess   NaN     NaN                   NaN          NaN   \n",
       "\n",
       "      Silver Medals  Bronze Medals  Total Medals        Country  \n",
       "8604            0.0            1.0           1.0    Netherlands  \n",
       "8605            0.0            1.0           1.0        Germany  \n",
       "8606            0.0            1.0           1.0  United States  \n",
       "8607            NaN            NaN           NaN  United States  \n",
       "8608            NaN            NaN           NaN         Russia  \n",
       "8609            NaN            NaN           NaN      Argentina  \n",
       "8610            NaN            NaN           NaN        Finland  \n",
       "8611            NaN            NaN           NaN      Argentina  \n",
       "8612            NaN            NaN           NaN           Cuba  \n",
       "8613            NaN            NaN           NaN  United States  "
      ]
     },
     "execution_count": 72,
     "metadata": {},
     "output_type": "execute_result"
    }
   ],
   "source": [
    "merged_right.tail(10)"
   ]
  },
  {
   "cell_type": "markdown",
   "metadata": {},
   "source": [
    "### Out Join"
   ]
  },
  {
   "cell_type": "code",
   "execution_count": 74,
   "metadata": {},
   "outputs": [],
   "source": [
    "data_country_ol = data_country_dlt.append (\n",
    "    {\n",
    "        'Athlete': 'Oliver Revilla Vásquez',\n",
    "        'Country': 'Perú',\n",
    "    }, ignore_index = True\n",
    ")"
   ]
  },
  {
   "cell_type": "code",
   "execution_count": 75,
   "metadata": {},
   "outputs": [
    {
     "data": {
      "text/plain": [
       "8619"
      ]
     },
     "execution_count": 75,
     "metadata": {},
     "output_type": "execute_result"
    }
   ],
   "source": [
    "merged_outer = pd.merge(left = data_main, right = data_country_ol,\n",
    "                       how = 'outer',left_on = 'Athlete', right_on = 'Athlete')\n",
    "len(merged_outer)"
   ]
  },
  {
   "cell_type": "code",
   "execution_count": 77,
   "metadata": {},
   "outputs": [
    {
     "data": {
      "text/html": [
       "<div>\n",
       "<style scoped>\n",
       "    .dataframe tbody tr th:only-of-type {\n",
       "        vertical-align: middle;\n",
       "    }\n",
       "\n",
       "    .dataframe tbody tr th {\n",
       "        vertical-align: top;\n",
       "    }\n",
       "\n",
       "    .dataframe thead th {\n",
       "        text-align: right;\n",
       "    }\n",
       "</style>\n",
       "<table border=\"1\" class=\"dataframe\">\n",
       "  <thead>\n",
       "    <tr style=\"text-align: right;\">\n",
       "      <th></th>\n",
       "      <th>Athlete</th>\n",
       "      <th>Age</th>\n",
       "      <th>Year</th>\n",
       "      <th>Closing Ceremony Date</th>\n",
       "      <th>Gold Medals</th>\n",
       "      <th>Silver Medals</th>\n",
       "      <th>Bronze Medals</th>\n",
       "      <th>Total Medals</th>\n",
       "      <th>Country</th>\n",
       "    </tr>\n",
       "  </thead>\n",
       "  <tbody>\n",
       "    <tr>\n",
       "      <th>8614</th>\n",
       "      <td>Kateryna Serdiuk</td>\n",
       "      <td>17.0</td>\n",
       "      <td>2000.0</td>\n",
       "      <td>10/01/2000</td>\n",
       "      <td>0.0</td>\n",
       "      <td>1.0</td>\n",
       "      <td>0.0</td>\n",
       "      <td>1.0</td>\n",
       "      <td>Ukraine</td>\n",
       "    </tr>\n",
       "    <tr>\n",
       "      <th>8615</th>\n",
       "      <td>Wietse van Alten</td>\n",
       "      <td>21.0</td>\n",
       "      <td>2000.0</td>\n",
       "      <td>10/01/2000</td>\n",
       "      <td>0.0</td>\n",
       "      <td>0.0</td>\n",
       "      <td>1.0</td>\n",
       "      <td>1.0</td>\n",
       "      <td>Netherlands</td>\n",
       "    </tr>\n",
       "    <tr>\n",
       "      <th>8616</th>\n",
       "      <td>Sandra Wagner-Sachse</td>\n",
       "      <td>31.0</td>\n",
       "      <td>2000.0</td>\n",
       "      <td>10/01/2000</td>\n",
       "      <td>0.0</td>\n",
       "      <td>0.0</td>\n",
       "      <td>1.0</td>\n",
       "      <td>1.0</td>\n",
       "      <td>Germany</td>\n",
       "    </tr>\n",
       "    <tr>\n",
       "      <th>8617</th>\n",
       "      <td>Rod White</td>\n",
       "      <td>23.0</td>\n",
       "      <td>2000.0</td>\n",
       "      <td>10/01/2000</td>\n",
       "      <td>0.0</td>\n",
       "      <td>0.0</td>\n",
       "      <td>1.0</td>\n",
       "      <td>1.0</td>\n",
       "      <td>United States</td>\n",
       "    </tr>\n",
       "    <tr>\n",
       "      <th>8618</th>\n",
       "      <td>Oliver Revilla Vásquez</td>\n",
       "      <td>NaN</td>\n",
       "      <td>NaN</td>\n",
       "      <td>NaN</td>\n",
       "      <td>NaN</td>\n",
       "      <td>NaN</td>\n",
       "      <td>NaN</td>\n",
       "      <td>NaN</td>\n",
       "      <td>Perú</td>\n",
       "    </tr>\n",
       "  </tbody>\n",
       "</table>\n",
       "</div>"
      ],
      "text/plain": [
       "                     Athlete   Age    Year Closing Ceremony Date  Gold Medals  \\\n",
       "8614        Kateryna Serdiuk  17.0  2000.0            10/01/2000          0.0   \n",
       "8615        Wietse van Alten  21.0  2000.0            10/01/2000          0.0   \n",
       "8616    Sandra Wagner-Sachse  31.0  2000.0            10/01/2000          0.0   \n",
       "8617               Rod White  23.0  2000.0            10/01/2000          0.0   \n",
       "8618  Oliver Revilla Vásquez   NaN     NaN                   NaN          NaN   \n",
       "\n",
       "      Silver Medals  Bronze Medals  Total Medals        Country  \n",
       "8614            1.0            0.0           1.0        Ukraine  \n",
       "8615            0.0            1.0           1.0    Netherlands  \n",
       "8616            0.0            1.0           1.0        Germany  \n",
       "8617            0.0            1.0           1.0  United States  \n",
       "8618            NaN            NaN           NaN           Perú  "
      ]
     },
     "execution_count": 77,
     "metadata": {},
     "output_type": "execute_result"
    }
   ],
   "source": [
    "merged_outer.tail()"
   ]
  },
  {
   "cell_type": "code",
   "execution_count": null,
   "metadata": {},
   "outputs": [],
   "source": []
  }
 ],
 "metadata": {
  "kernelspec": {
   "display_name": "Python 3",
   "language": "python",
   "name": "python3"
  },
  "language_info": {
   "codemirror_mode": {
    "name": "ipython",
    "version": 3
   },
   "file_extension": ".py",
   "mimetype": "text/x-python",
   "name": "python",
   "nbconvert_exporter": "python",
   "pygments_lexer": "ipython3",
   "version": "3.8.3"
  }
 },
 "nbformat": 4,
 "nbformat_minor": 4
}
